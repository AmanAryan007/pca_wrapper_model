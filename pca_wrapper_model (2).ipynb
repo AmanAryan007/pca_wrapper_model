{
  "cells": [
    {
      "cell_type": "code",
      "execution_count": null,
      "metadata": {
        "colab": {
          "base_uri": "https://localhost:8080/"
        },
        "id": "8bcztslZyLcE",
        "outputId": "7250f258-53ba-4ceb-ef64-91c53e8fb948"
      },
      "outputs": [
        {
          "name": "stdout",
          "output_type": "stream",
          "text": [
            "Looking in indexes: https://pypi.org/simple, https://us-python.pkg.dev/colab-wheels/public/simple/\n",
            "Requirement already satisfied: lux in /usr/local/lib/python3.9/dist-packages (0.5.1)\n",
            "Requirement already satisfied: lux-api in /usr/local/lib/python3.9/dist-packages (from lux) (0.5.1)\n",
            "Requirement already satisfied: lux-widget in /usr/local/lib/python3.9/dist-packages (from lux) (0.1.11)\n",
            "Requirement already satisfied: autopep8>=1.5 in /usr/local/lib/python3.9/dist-packages (from lux-api->lux) (2.0.2)\n",
            "Requirement already satisfied: scikit-learn>=0.22 in /usr/local/lib/python3.9/dist-packages (from lux-api->lux) (1.2.2)\n",
            "Requirement already satisfied: matplotlib>=3.0.0 in /usr/local/lib/python3.9/dist-packages (from lux-api->lux) (3.5.3)\n",
            "Requirement already satisfied: altair>=4.0.0 in /usr/local/lib/python3.9/dist-packages (from lux-api->lux) (4.2.2)\n",
            "Requirement already satisfied: iso3166 in /usr/local/lib/python3.9/dist-packages (from lux-api->lux) (2.1.1)\n",
            "Requirement already satisfied: scipy>=1.3.3 in /usr/local/lib/python3.9/dist-packages (from lux-api->lux) (1.10.1)\n",
            "Requirement already satisfied: pandas in /usr/local/lib/python3.9/dist-packages (from lux-api->lux) (1.4.4)\n",
            "Requirement already satisfied: psutil>=5.9.0 in /usr/local/lib/python3.9/dist-packages (from lux-api->lux) (5.9.4)\n",
            "Requirement already satisfied: numpy>=1.16.5 in /usr/local/lib/python3.9/dist-packages (from lux-api->lux) (1.22.4)\n",
            "Requirement already satisfied: sh in /usr/local/lib/python3.9/dist-packages (from lux-api->lux) (2.0.2)\n",
            "Requirement already satisfied: notebook>=4.0.0 in /usr/local/lib/python3.9/dist-packages (from lux-widget->lux) (6.3.0)\n",
            "Requirement already satisfied: ipywidgets>=7.5.0 in /usr/local/lib/python3.9/dist-packages (from lux-widget->lux) (7.7.1)\n",
            "Requirement already satisfied: jinja2 in /usr/local/lib/python3.9/dist-packages (from altair>=4.0.0->lux-api->lux) (3.1.2)\n",
            "Requirement already satisfied: jsonschema>=3.0 in /usr/local/lib/python3.9/dist-packages (from altair>=4.0.0->lux-api->lux) (4.3.3)\n",
            "Requirement already satisfied: toolz in /usr/local/lib/python3.9/dist-packages (from altair>=4.0.0->lux-api->lux) (0.12.0)\n",
            "Requirement already satisfied: entrypoints in /usr/local/lib/python3.9/dist-packages (from altair>=4.0.0->lux-api->lux) (0.4)\n",
            "Requirement already satisfied: tomli in /usr/local/lib/python3.9/dist-packages (from autopep8>=1.5->lux-api->lux) (2.0.1)\n",
            "Requirement already satisfied: pycodestyle>=2.10.0 in /usr/local/lib/python3.9/dist-packages (from autopep8>=1.5->lux-api->lux) (2.10.0)\n",
            "Requirement already satisfied: jupyterlab-widgets>=1.0.0 in /usr/local/lib/python3.9/dist-packages (from ipywidgets>=7.5.0->lux-widget->lux) (3.0.5)\n",
            "Requirement already satisfied: widgetsnbextension~=3.6.0 in /usr/local/lib/python3.9/dist-packages (from ipywidgets>=7.5.0->lux-widget->lux) (3.6.2)\n",
            "Requirement already satisfied: ipython-genutils~=0.2.0 in /usr/local/lib/python3.9/dist-packages (from ipywidgets>=7.5.0->lux-widget->lux) (0.2.0)\n",
            "Requirement already satisfied: ipykernel>=4.5.1 in /usr/local/lib/python3.9/dist-packages (from ipywidgets>=7.5.0->lux-widget->lux) (5.3.4)\n",
            "Requirement already satisfied: traitlets>=4.3.1 in /usr/local/lib/python3.9/dist-packages (from ipywidgets>=7.5.0->lux-widget->lux) (5.7.1)\n",
            "Requirement already satisfied: ipython>=4.0.0 in /usr/local/lib/python3.9/dist-packages (from ipywidgets>=7.5.0->lux-widget->lux) (7.9.0)\n",
            "Requirement already satisfied: packaging>=20.0 in /usr/local/lib/python3.9/dist-packages (from matplotlib>=3.0.0->lux-api->lux) (23.0)\n",
            "Requirement already satisfied: cycler>=0.10 in /usr/local/lib/python3.9/dist-packages (from matplotlib>=3.0.0->lux-api->lux) (0.11.0)\n",
            "Requirement already satisfied: pyparsing>=2.2.1 in /usr/local/lib/python3.9/dist-packages (from matplotlib>=3.0.0->lux-api->lux) (3.0.9)\n",
            "Requirement already satisfied: python-dateutil>=2.7 in /usr/local/lib/python3.9/dist-packages (from matplotlib>=3.0.0->lux-api->lux) (2.8.2)\n",
            "Requirement already satisfied: pillow>=6.2.0 in /usr/local/lib/python3.9/dist-packages (from matplotlib>=3.0.0->lux-api->lux) (8.4.0)\n",
            "Requirement already satisfied: kiwisolver>=1.0.1 in /usr/local/lib/python3.9/dist-packages (from matplotlib>=3.0.0->lux-api->lux) (1.4.4)\n",
            "Requirement already satisfied: fonttools>=4.22.0 in /usr/local/lib/python3.9/dist-packages (from matplotlib>=3.0.0->lux-api->lux) (4.39.0)\n",
            "Requirement already satisfied: prometheus-client in /usr/local/lib/python3.9/dist-packages (from notebook>=4.0.0->lux-widget->lux) (0.16.0)\n",
            "Requirement already satisfied: nbformat in /usr/local/lib/python3.9/dist-packages (from notebook>=4.0.0->lux-widget->lux) (5.7.3)\n",
            "Requirement already satisfied: tornado>=6.1 in /usr/local/lib/python3.9/dist-packages (from notebook>=4.0.0->lux-widget->lux) (6.2)\n",
            "Requirement already satisfied: terminado>=0.8.3 in /usr/local/lib/python3.9/dist-packages (from notebook>=4.0.0->lux-widget->lux) (0.17.1)\n",
            "Requirement already satisfied: nbconvert in /usr/local/lib/python3.9/dist-packages (from notebook>=4.0.0->lux-widget->lux) (6.5.4)\n",
            "Requirement already satisfied: argon2-cffi in /usr/local/lib/python3.9/dist-packages (from notebook>=4.0.0->lux-widget->lux) (21.3.0)\n",
            "Requirement already satisfied: jupyter-core>=4.6.1 in /usr/local/lib/python3.9/dist-packages (from notebook>=4.0.0->lux-widget->lux) (5.2.0)\n",
            "Requirement already satisfied: jupyter-client>=5.3.4 in /usr/local/lib/python3.9/dist-packages (from notebook>=4.0.0->lux-widget->lux) (6.1.12)\n",
            "Requirement already satisfied: pyzmq>=17 in /usr/local/lib/python3.9/dist-packages (from notebook>=4.0.0->lux-widget->lux) (23.2.1)\n",
            "Requirement already satisfied: Send2Trash>=1.5.0 in /usr/local/lib/python3.9/dist-packages (from notebook>=4.0.0->lux-widget->lux) (1.8.0)\n",
            "Requirement already satisfied: pytz>=2020.1 in /usr/local/lib/python3.9/dist-packages (from pandas->lux-api->lux) (2022.7.1)\n",
            "Requirement already satisfied: threadpoolctl>=2.0.0 in /usr/local/lib/python3.9/dist-packages (from scikit-learn>=0.22->lux-api->lux) (3.1.0)\n",
            "Requirement already satisfied: joblib>=1.1.1 in /usr/local/lib/python3.9/dist-packages (from scikit-learn>=0.22->lux-api->lux) (1.1.1)\n",
            "Requirement already satisfied: backcall in /usr/local/lib/python3.9/dist-packages (from ipython>=4.0.0->ipywidgets>=7.5.0->lux-widget->lux) (0.2.0)\n",
            "Requirement already satisfied: decorator in /usr/local/lib/python3.9/dist-packages (from ipython>=4.0.0->ipywidgets>=7.5.0->lux-widget->lux) (4.4.2)\n",
            "Requirement already satisfied: pexpect in /usr/local/lib/python3.9/dist-packages (from ipython>=4.0.0->ipywidgets>=7.5.0->lux-widget->lux) (4.8.0)\n",
            "Requirement already satisfied: prompt-toolkit<2.1.0,>=2.0.0 in /usr/local/lib/python3.9/dist-packages (from ipython>=4.0.0->ipywidgets>=7.5.0->lux-widget->lux) (2.0.10)\n",
            "Requirement already satisfied: pygments in /usr/local/lib/python3.9/dist-packages (from ipython>=4.0.0->ipywidgets>=7.5.0->lux-widget->lux) (2.6.1)\n",
            "Requirement already satisfied: jedi>=0.10 in /usr/local/lib/python3.9/dist-packages (from ipython>=4.0.0->ipywidgets>=7.5.0->lux-widget->lux) (0.18.2)\n",
            "Requirement already satisfied: setuptools>=18.5 in /usr/local/lib/python3.9/dist-packages (from ipython>=4.0.0->ipywidgets>=7.5.0->lux-widget->lux) (63.4.3)\n",
            "Requirement already satisfied: pickleshare in /usr/local/lib/python3.9/dist-packages (from ipython>=4.0.0->ipywidgets>=7.5.0->lux-widget->lux) (0.7.5)\n",
            "Requirement already satisfied: pyrsistent!=0.17.0,!=0.17.1,!=0.17.2,>=0.14.0 in /usr/local/lib/python3.9/dist-packages (from jsonschema>=3.0->altair>=4.0.0->lux-api->lux) (0.19.3)\n",
            "Requirement already satisfied: attrs>=17.4.0 in /usr/local/lib/python3.9/dist-packages (from jsonschema>=3.0->altair>=4.0.0->lux-api->lux) (22.2.0)\n",
            "Requirement already satisfied: platformdirs>=2.5 in /usr/local/lib/python3.9/dist-packages (from jupyter-core>=4.6.1->notebook>=4.0.0->lux-widget->lux) (3.1.1)\n",
            "Requirement already satisfied: six>=1.5 in /usr/local/lib/python3.9/dist-packages (from python-dateutil>=2.7->matplotlib>=3.0.0->lux-api->lux) (1.15.0)\n",
            "Requirement already satisfied: ptyprocess in /usr/local/lib/python3.9/dist-packages (from terminado>=0.8.3->notebook>=4.0.0->lux-widget->lux) (0.7.0)\n",
            "Requirement already satisfied: argon2-cffi-bindings in /usr/local/lib/python3.9/dist-packages (from argon2-cffi->notebook>=4.0.0->lux-widget->lux) (21.2.0)\n",
            "Requirement already satisfied: MarkupSafe>=2.0 in /usr/local/lib/python3.9/dist-packages (from jinja2->altair>=4.0.0->lux-api->lux) (2.1.2)\n",
            "Requirement already satisfied: pandocfilters>=1.4.1 in /usr/local/lib/python3.9/dist-packages (from nbconvert->notebook>=4.0.0->lux-widget->lux) (1.5.0)\n",
            "Requirement already satisfied: tinycss2 in /usr/local/lib/python3.9/dist-packages (from nbconvert->notebook>=4.0.0->lux-widget->lux) (1.2.1)\n",
            "Requirement already satisfied: lxml in /usr/local/lib/python3.9/dist-packages (from nbconvert->notebook>=4.0.0->lux-widget->lux) (4.9.2)\n",
            "Requirement already satisfied: bleach in /usr/local/lib/python3.9/dist-packages (from nbconvert->notebook>=4.0.0->lux-widget->lux) (6.0.0)\n",
            "Requirement already satisfied: nbclient>=0.5.0 in /usr/local/lib/python3.9/dist-packages (from nbconvert->notebook>=4.0.0->lux-widget->lux) (0.7.2)\n",
            "Requirement already satisfied: jupyterlab-pygments in /usr/local/lib/python3.9/dist-packages (from nbconvert->notebook>=4.0.0->lux-widget->lux) (0.2.2)\n",
            "Requirement already satisfied: defusedxml in /usr/local/lib/python3.9/dist-packages (from nbconvert->notebook>=4.0.0->lux-widget->lux) (0.7.1)\n",
            "Requirement already satisfied: mistune<2,>=0.8.1 in /usr/local/lib/python3.9/dist-packages (from nbconvert->notebook>=4.0.0->lux-widget->lux) (0.8.4)\n",
            "Requirement already satisfied: beautifulsoup4 in /usr/local/lib/python3.9/dist-packages (from nbconvert->notebook>=4.0.0->lux-widget->lux) (4.9.3)\n",
            "Requirement already satisfied: fastjsonschema in /usr/local/lib/python3.9/dist-packages (from nbformat->notebook>=4.0.0->lux-widget->lux) (2.16.3)\n",
            "Requirement already satisfied: parso<0.9.0,>=0.8.0 in /usr/local/lib/python3.9/dist-packages (from jedi>=0.10->ipython>=4.0.0->ipywidgets>=7.5.0->lux-widget->lux) (0.8.3)\n",
            "Requirement already satisfied: wcwidth in /usr/local/lib/python3.9/dist-packages (from prompt-toolkit<2.1.0,>=2.0.0->ipython>=4.0.0->ipywidgets>=7.5.0->lux-widget->lux) (0.2.6)\n",
            "Requirement already satisfied: cffi>=1.0.1 in /usr/local/lib/python3.9/dist-packages (from argon2-cffi-bindings->argon2-cffi->notebook>=4.0.0->lux-widget->lux) (1.15.1)\n",
            "Requirement already satisfied: soupsieve>1.2 in /usr/local/lib/python3.9/dist-packages (from beautifulsoup4->nbconvert->notebook>=4.0.0->lux-widget->lux) (2.4)\n",
            "Requirement already satisfied: webencodings in /usr/local/lib/python3.9/dist-packages (from bleach->nbconvert->notebook>=4.0.0->lux-widget->lux) (0.5.1)\n",
            "Requirement already satisfied: pycparser in /usr/local/lib/python3.9/dist-packages (from cffi>=1.0.1->argon2-cffi-bindings->argon2-cffi->notebook>=4.0.0->lux-widget->lux) (2.21)\n"
          ]
        }
      ],
      "source": [
        "pip install lux"
      ]
    },
    {
      "cell_type": "code",
      "execution_count": null,
      "metadata": {
        "id": "icHi7hQMx1Zq"
      },
      "outputs": [],
      "source": [
        "import pandas as pd\n",
        "import numpy as np\n",
        "from sklearn.decomposition import PCA\n",
        "from sklearn.feature_selection import RFE\n",
        "from sklearn.model_selection import train_test_split\n",
        "from sklearn.linear_model import LogisticRegression\n",
        "from sklearn.preprocessing import MinMaxScaler\n",
        "import lux\n",
        "import gc\n",
        "from sklearn.metrics import accuracy_score\n",
        "from sklearn.ensemble import IsolationForest\n",
        "from google.colab import output\n",
        "output.enable_custom_widget_manager()\n",
        "from sklearn.feature_selection import RFECV"
      ]
    },
    {
      "cell_type": "code",
      "execution_count": null,
      "metadata": {
        "id": "17GLh-SDyIWV"
      },
      "outputs": [],
      "source": [
        "df = pd.read_csv(\"/content/drive/MyDrive/file/E_02-22-2018.csv.csv\")"
      ]
    },
    {
      "cell_type": "code",
      "execution_count": null,
      "metadata": {
        "colab": {
          "base_uri": "https://localhost:8080/"
        },
        "id": "Ak2jhg7RBsII",
        "outputId": "be903787-6293-44a4-dad1-29a6092030f9"
      },
      "outputs": [
        {
          "name": "stderr",
          "output_type": "stream",
          "text": [
            "/usr/local/lib/python3.9/dist-packages/lux/executor/PandasExecutor.py:448: UserWarning:\n",
            "Lux detects that the attribute 'Timestamp' may be temporal.\n",
            "To display visualizations for these attributes accurately, please convert temporal attributes to Datetime objects.\n",
            "For example, you can convert a Year attribute (e.g., 1998, 1971, 1982) using pd.to_datetime by specifying the `format` as '%Y'.\n",
            "\n",
            "Here is a starter template that you can use for converting the temporal fields:\n",
            "\tdf['Timestamp'] = pd.to_datetime(df['Timestamp'], format='<replace-with-datetime-format>')\n",
            "\n",
            "See more at: https://pandas.pydata.org/pandas-docs/stable/reference/api/pandas.to_datetime.html\n",
            "If Timestamp is not a temporal attribute, please use override Lux's automatically detected type:\n",
            "\tdf.set_data_type({'Timestamp':'quantitative'})\n",
            "/usr/local/lib/python3.9/dist-packages/lux/interestingness/interestingness.py:166: UserWarning:An error occurred when computing interestingness for: <Vis  (x: Flow IAT Mean, y: Tot Bwd Pkts) mark: scatter, score: 0.0 >\n",
            "/usr/local/lib/python3.9/dist-packages/lux/interestingness/interestingness.py:166: UserWarning:An error occurred when computing interestingness for: <Vis  (x: Subflow Bwd Byts, y: Bwd Pkt Len Min) mark: scatter, score: 0.0 >\n",
            "/usr/local/lib/python3.9/dist-packages/lux/interestingness/interestingness.py:166: UserWarning:An error occurred when computing interestingness for: <Vis  (x: TotLen Bwd Pkts, y: Bwd Pkt Len Mean) mark: scatter, score: 0.0 >\n"
          ]
        }
      ],
      "source": [
        "df"
      ]
    },
    {
      "cell_type": "code",
      "execution_count": null,
      "metadata": {
        "id": "792ajFPyzc_U"
      },
      "outputs": [],
      "source": [
        "df['Timestamp'] = pd.to_datetime(df['Timestamp'])\n",
        "df['hour'] = df['Timestamp'].dt.hour\n",
        "df['day_of_week'] = df['Timestamp'].dt.dayofweek\n",
        "df['year'] = df['Timestamp'].dt.year\n",
        "df['month'] = df['Timestamp'].dt.month"
      ]
    },
    {
      "cell_type": "code",
      "execution_count": null,
      "metadata": {
        "id": "dMmISubYzhwo"
      },
      "outputs": [],
      "source": [
        "df = df.drop('Timestamp', axis=1)"
      ]
    },
    {
      "cell_type": "code",
      "execution_count": null,
      "metadata": {
        "id": "l1ammDH0zkQ3"
      },
      "outputs": [],
      "source": [
        "X = df.loc[:, ~df.columns.isin(['Label'])]"
      ]
    },
    {
      "cell_type": "code",
      "execution_count": null,
      "metadata": {
        "id": "Tx2t44eLznjs"
      },
      "outputs": [],
      "source": [
        "y = df.loc[:,\"Label\"].values"
      ]
    },
    {
      "cell_type": "code",
      "execution_count": null,
      "metadata": {
        "id": "WfxlCUbF21nG"
      },
      "outputs": [],
      "source": [
        "corrr = pd.DataFrame(X).corr()"
      ]
    },
    {
      "cell_type": "code",
      "execution_count": null,
      "metadata": {
        "id": "lH0bM1TG22TS"
      },
      "outputs": [],
      "source": [
        "# select columns with correlation higher than 0.5\n",
        "high_corr_cols = np.where(corrr > 0.5)\n",
        "high_corr_cols = [(corrr.index[x], corrr.columns[y]) for x, y in zip(*high_corr_cols) if x != y]"
      ]
    },
    {
      "cell_type": "code",
      "execution_count": null,
      "metadata": {
        "id": "9fBHACJQ3Ah3"
      },
      "outputs": [],
      "source": [
        "# drop the columns with low correlation\n",
        "low_corr_cols = set(X.columns) - set(list(zip(*high_corr_cols))[0])\n",
        "X = X.drop(low_corr_cols, axis=1)"
      ]
    },
    {
      "cell_type": "code",
      "execution_count": null,
      "metadata": {
        "id": "Up7SyRJ41XTU"
      },
      "outputs": [],
      "source": [
        "import numpy as np\n",
        "\n",
        "# Assuming X is your input data\n",
        "# Replace infinite values with a large number\n",
        "X[X == np.inf] = np.finfo('float64').max\n",
        "\n",
        "# Replace too large values with NaN\n",
        "X[np.abs(X) > np.finfo('float64').max] = np.nan\n",
        "\n",
        "# Remove rows with NaN values\n",
        "X = X[~np.isnan(X).any(axis=1)]"
      ]
    },
    {
      "cell_type": "code",
      "execution_count": null,
      "metadata": {
        "colab": {
          "base_uri": "https://localhost:8080/",
          "height": 567
        },
        "id": "61sj9wEtfms9",
        "outputId": "432d4763-2732-4448-98b0-841c64ad6ab5"
      },
      "outputs": [
        {
          "data": {
            "image/png": "[encoded data removed]",
            "text/plain": [
              "<Figure size 720x576 with 2 Axes>"
            ]
          },
          "metadata": {},
          "output_type": "display_data"
        }
      ],
      "source": [
        "import seaborn as sns\n",
        "import matplotlib.pyplot as plt\n",
        "\n",
        "# Calculate the correlation matrix\n",
        "corr_matrix = X.corr()\n",
        "plt.figure(figsize=(10,8))\n",
        "# Plot the heatmap\n",
        "sns.heatmap(corr_matrix, cmap='coolwarm', center=0)\n",
        "\n",
        "# Show the plot\n",
        "plt.show()\n"
      ]
    },
    {
      "cell_type": "code",
      "execution_count": null,
      "metadata": {
        "id": "QHjSvq07PR0e"
      },
      "outputs": [],
      "source": [
        "# import numpy as np\n",
        "\n",
        "# # Assuming X is your input data\n",
        "# # Replace infinite values with a large number\n",
        "# X[X == np.inf] = np.finfo('float64').max\n",
        "\n",
        "# # Replace too large values with NaN\n",
        "# X[np.abs(X) > np.finfo('float64').max] = np.nan\n",
        "\n",
        "# # Remove rows with NaN values\n",
        "# X = X[~np.isnan(X).any(axis=1)]\n"
      ]
    },
    {
      "cell_type": "code",
      "execution_count": null,
      "metadata": {
        "id": "5pXWzqhkz6Ec"
      },
      "outputs": [],
      "source": [
        "scaler = MinMaxScaler()\n",
        "X_scaled = scaler.fit_transform(X)"
      ]
    },
    {
      "cell_type": "code",
      "execution_count": null,
      "metadata": {
        "id": "-R2griB_z90D"
      },
      "outputs": [],
      "source": [
        "X_train, X_test, y_train, y_test = train_test_split(X_scaled, y, test_size=0.2,random_state=42)\n"
      ]
    },
    {
      "cell_type": "code",
      "execution_count": null,
      "metadata": {
        "id": "WSej8z_QvPAK"
      },
      "outputs": [],
      "source": [
        "# from sklearn.decomposition import NMF\n",
        "\n",
        "# # create an instance of the NMF model with 10 components\n",
        "# nmf_model = NMF(n_components=10, init='random', random_state=42)\n",
        "\n",
        "# # fit the model to the training data\n",
        "# W_train = nmf_model.fit_transform(X_train)\n",
        "\n",
        "# # print the shape of the W_train matrix\n",
        "# print(W_train.shape)\n"
      ]
    },
    {
      "cell_type": "code",
      "execution_count": null,
      "metadata": {
        "id": "u4xyFCZU0B3Q"
      },
      "outputs": [],
      "source": [
        "# apply PCA to reduce dimensionality of feature space\n",
        "pca = PCA(n_components=14)\n",
        "X_train_pca = pca.fit_transform(X_train)\n",
        "X_test_pca = pca.transform(X_test)\n",
        "train_pca_df = pd.DataFrame(X_train_pca, columns=[f\"PC{i+1}\" for i in range(14)])\n",
        "test_pca_df = pd.DataFrame(X_test_pca, columns=[f\"PC{i+1}\" for i in range(14)])"
      ]
    },
    {
      "cell_type": "code",
      "execution_count": null,
      "metadata": {
        "colab": {
          "base_uri": "https://localhost:8080/",
          "height": 455,
          "referenced_widgets": [
            "c2e7205d528a4c94adeb8148c88905fa",
            "905e5d983d974e74af0dbaf8df017db2",
            "4fc743d76dde42e491de924181e90ee0",
            "ce21666354b54836982db96da3a2cee8",
            "5f57bd25c27b46508daec39f0d3501e5"
          ]
        },
        "id": "Ru8qkbHI0FOR",
        "outputId": "a2e7ba66-a58e-48cb-d03b-48a00a7d382a"
      },
      "outputs": [
        {
          "data": {
            "application/vnd.jupyter.widget-view+json": {
              "model_id": "c2e7205d528a4c94adeb8148c88905fa",
              "version_major": 2,
              "version_minor": 0
            },
            "text/plain": [
              "Button(description='Toggle Pandas/Lux', layout=Layout(top='5px', width='140px'), style=ButtonStyle())"
            ]
          },
          "metadata": {
            "application/vnd.jupyter.widget-view+json": {
              "colab": {
                "custom_widget_manager": {
                  "url": "https://ssl.gstatic.com/colaboratory-static/widgets/colab-cdn-widget-manager/b3e629b1971e1542/manager.min.js"
                }
              }
            }
          },
          "output_type": "display_data"
        },
        {
          "data": {
            "application/vnd.jupyter.widget-view+json": {
              "model_id": "ce21666354b54836982db96da3a2cee8",
              "version_major": 2,
              "version_minor": 0
            },
            "text/plain": [
              "Output()"
            ]
          },
          "metadata": {
            "application/vnd.jupyter.widget-view+json": {
              "colab": {
                "custom_widget_manager": {
                  "url": "https://ssl.gstatic.com/colaboratory-static/widgets/colab-cdn-widget-manager/b3e629b1971e1542/manager.min.js"
                }
              }
            }
          },
          "output_type": "display_data"
        }
      ],
      "source": [
        "train_pca_df"
      ]
    },
    {
      "cell_type": "code",
      "execution_count": null,
      "metadata": {
        "colab": {
          "base_uri": "https://localhost:8080/",
          "height": 455,
          "referenced_widgets": [
            "184812dc29a84c3d8c2c5ce1b9ff0195",
            "78617936b5774bc28d17843b09086862",
            "f17432c0b17b4da8a30489dbed7dbc93",
            "aa6a1e5b60ec48dd856d8bc8983f5de3",
            "59954f46ea5645da8241478096f98787"
          ]
        },
        "id": "gXOmG8E20LrB",
        "outputId": "d3f27d94-5fb3-441d-8daa-d80df2492d3e"
      },
      "outputs": [
        {
          "data": {
            "application/vnd.jupyter.widget-view+json": {
              "model_id": "184812dc29a84c3d8c2c5ce1b9ff0195",
              "version_major": 2,
              "version_minor": 0
            },
            "text/plain": [
              "Button(description='Toggle Pandas/Lux', layout=Layout(top='5px', width='140px'), style=ButtonStyle())"
            ]
          },
          "metadata": {
            "application/vnd.jupyter.widget-view+json": {
              "colab": {
                "custom_widget_manager": {
                  "url": "https://ssl.gstatic.com/colaboratory-static/widgets/colab-cdn-widget-manager/b3e629b1971e1542/manager.min.js"
                }
              }
            }
          },
          "output_type": "display_data"
        },
        {
          "data": {
            "application/vnd.jupyter.widget-view+json": {
              "model_id": "aa6a1e5b60ec48dd856d8bc8983f5de3",
              "version_major": 2,
              "version_minor": 0
            },
            "text/plain": [
              "Output()"
            ]
          },
          "metadata": {
            "application/vnd.jupyter.widget-view+json": {
              "colab": {
                "custom_widget_manager": {
                  "url": "https://ssl.gstatic.com/colaboratory-static/widgets/colab-cdn-widget-manager/b3e629b1971e1542/manager.min.js"
                }
              }
            }
          },
          "output_type": "display_data"
        }
      ],
      "source": [
        "test_pca_df"
      ]
    },
    {
      "cell_type": "code",
      "execution_count": null,
      "metadata": {
        "id": "f6QXFZAxpmNh"
      },
      "outputs": [],
      "source": []
    },
    {
      "cell_type": "code",
      "execution_count": null,
      "metadata": {
        "id": "DR_Ljdr50Ry7"
      },
      "outputs": [],
      "source": [
        "iso = IsolationForest(random_state=42)\n",
        "iso.fit(X_train_pca)\n",
        "iso.fit(X_test_pca)\n",
        "X_train_iso = iso.predict(X_train_pca)\n",
        "X_test_iso = iso.predict(X_test_pca)\n",
        "df_train_iso = pd.DataFrame({'IsolationForest': X_train_iso})\n",
        "df_test_iso = pd.DataFrame({'IsolationForest': X_test_iso})"
      ]
    },
    {
      "cell_type": "code",
      "execution_count": null,
      "metadata": {
        "colab": {
          "base_uri": "https://localhost:8080/",
          "height": 455,
          "referenced_widgets": [
            "70571366edd143cea95f74d2123e29c4",
            "5f016f4ba7c247038e936afc1fcd38aa",
            "36a15497ac7b4147ad6f1e1e2fe579e4",
            "c376a589f2264d79b715c873cb04a05c",
            "9010c3f0c15441b7a172d26f0c3d1b08"
          ]
        },
        "id": "eFSzPj5O0VZo",
        "outputId": "14d49896-d3b4-42fe-f08a-a01f7a5faafa"
      },
      "outputs": [
        {
          "data": {
            "application/vnd.jupyter.widget-view+json": {
              "model_id": "70571366edd143cea95f74d2123e29c4",
              "version_major": 2,
              "version_minor": 0
            },
            "text/plain": [
              "Button(description='Toggle Pandas/Lux', layout=Layout(top='5px', width='140px'), style=ButtonStyle())"
            ]
          },
          "metadata": {
            "application/vnd.jupyter.widget-view+json": {
              "colab": {
                "custom_widget_manager": {
                  "url": "https://ssl.gstatic.com/colaboratory-static/widgets/colab-cdn-widget-manager/b3e629b1971e1542/manager.min.js"
                }
              }
            }
          },
          "output_type": "display_data"
        },
        {
          "data": {
            "application/vnd.jupyter.widget-view+json": {
              "model_id": "c376a589f2264d79b715c873cb04a05c",
              "version_major": 2,
              "version_minor": 0
            },
            "text/plain": [
              "Output()"
            ]
          },
          "metadata": {
            "application/vnd.jupyter.widget-view+json": {
              "colab": {
                "custom_widget_manager": {
                  "url": "https://ssl.gstatic.com/colaboratory-static/widgets/colab-cdn-widget-manager/b3e629b1971e1542/manager.min.js"
                }
              }
            }
          },
          "output_type": "display_data"
        }
      ],
      "source": [
        "df_train_iso"
      ]
    },
    {
      "cell_type": "code",
      "execution_count": null,
      "metadata": {
        "colab": {
          "base_uri": "https://localhost:8080/",
          "height": 455,
          "referenced_widgets": [
            "3b63856f1e5b48b5815914b22fcda687",
            "5fe00cd864d5416b96f47e1996560c1a",
            "6b91dc3de91840ae926ed9cab35f1494",
            "c1d414ea9934479d9d6e4f24f3fe818c",
            "e18fa699e6054b93a466e5e159dde633"
          ]
        },
        "id": "Tew2_rWb0X2g",
        "outputId": "1ce8a1ae-211b-4233-bcb2-12300a840cc9"
      },
      "outputs": [
        {
          "data": {
            "application/vnd.jupyter.widget-view+json": {
              "model_id": "3b63856f1e5b48b5815914b22fcda687",
              "version_major": 2,
              "version_minor": 0
            },
            "text/plain": [
              "Button(description='Toggle Pandas/Lux', layout=Layout(top='5px', width='140px'), style=ButtonStyle())"
            ]
          },
          "metadata": {
            "application/vnd.jupyter.widget-view+json": {
              "colab": {
                "custom_widget_manager": {
                  "url": "https://ssl.gstatic.com/colaboratory-static/widgets/colab-cdn-widget-manager/b3e629b1971e1542/manager.min.js"
                }
              }
            }
          },
          "output_type": "display_data"
        },
        {
          "data": {
            "application/vnd.jupyter.widget-view+json": {
              "model_id": "c1d414ea9934479d9d6e4f24f3fe818c",
              "version_major": 2,
              "version_minor": 0
            },
            "text/plain": [
              "Output()"
            ]
          },
          "metadata": {
            "application/vnd.jupyter.widget-view+json": {
              "colab": {
                "custom_widget_manager": {
                  "url": "https://ssl.gstatic.com/colaboratory-static/widgets/colab-cdn-widget-manager/b3e629b1971e1542/manager.min.js"
                }
              }
            }
          },
          "output_type": "display_data"
        }
      ],
      "source": [
        "df_test_iso "
      ]
    },
    {
      "cell_type": "code",
      "execution_count": null,
      "metadata": {
        "id": "uu2BdCu30grW"
      },
      "outputs": [],
      "source": [
        "train_acc = (df_train_iso['IsolationForest'] == 1).sum() / len(df_train_iso)\n",
        "test_acc = (df_test_iso['IsolationForest'] == 1).sum() / len(df_test_iso)"
      ]
    },
    {
      "cell_type": "code",
      "execution_count": null,
      "metadata": {
        "colab": {
          "base_uri": "https://localhost:8080/"
        },
        "id": "O0uHB_5m0iMQ",
        "outputId": "b4cfc406-2d1c-4d63-9fab-87a658ee9880"
      },
      "outputs": [
        {
          "data": {
            "text/plain": [
              "0.8998068807667549"
            ]
          },
          "execution_count": 22,
          "metadata": {},
          "output_type": "execute_result"
        }
      ],
      "source": [
        "train_acc"
      ]
    },
    {
      "cell_type": "code",
      "execution_count": null,
      "metadata": {
        "colab": {
          "base_uri": "https://localhost:8080/"
        },
        "id": "khnogFOQ0kfk",
        "outputId": "e355e4ad-d404-4b83-e646-5fb69cb373af"
      },
      "outputs": [
        {
          "data": {
            "text/plain": [
              "0.8989676465679612"
            ]
          },
          "execution_count": 23,
          "metadata": {},
          "output_type": "execute_result"
        }
      ],
      "source": [
        "test_acc"
      ]
    },
    {
      "cell_type": "code",
      "execution_count": null,
      "metadata": {
        "colab": {
          "base_uri": "https://localhost:8080/",
          "height": 393
        },
        "id": "oxlWCaU-vTai",
        "outputId": "32ff1026-e555-4692-c393-3268d1b7cd81"
      },
      "outputs": [
        {
          "ename": "KeyboardInterrupt",
          "evalue": "ignored",
          "output_type": "error",
          "traceback": [
            "\u001b[0;31m---------------------------------------------------------------------------\u001b[0m",
            "\u001b[0;31mKeyboardInterrupt\u001b[0m                         Traceback (most recent call last)",
            "\u001b[0;32m<ipython-input-45-b3bb691c1ca3>\u001b[0m in \u001b[0;36m<module>\u001b[0;34m\u001b[0m\n\u001b[1;32m      8\u001b[0m \u001b[0mrfe\u001b[0m \u001b[0;34m=\u001b[0m \u001b[0mRFECV\u001b[0m\u001b[0;34m(\u001b[0m\u001b[0mestimator\u001b[0m\u001b[0;34m=\u001b[0m\u001b[0mlr\u001b[0m\u001b[0;34m,\u001b[0m \u001b[0mcv\u001b[0m\u001b[0;34m=\u001b[0m\u001b[0;36m5\u001b[0m\u001b[0;34m)\u001b[0m\u001b[0;34m\u001b[0m\u001b[0;34m\u001b[0m\u001b[0m\n\u001b[1;32m      9\u001b[0m \u001b[0;31m# Fit the RFE object on the PCA transformed training data\u001b[0m\u001b[0;34m\u001b[0m\u001b[0;34m\u001b[0m\u001b[0m\n\u001b[0;32m---> 10\u001b[0;31m \u001b[0mrfe\u001b[0m\u001b[0;34m.\u001b[0m\u001b[0mfit\u001b[0m\u001b[0;34m(\u001b[0m\u001b[0mX_train_pca\u001b[0m\u001b[0;34m,\u001b[0m \u001b[0my_train\u001b[0m\u001b[0;34m)\u001b[0m\u001b[0;34m\u001b[0m\u001b[0;34m\u001b[0m\u001b[0m\n\u001b[0m\u001b[1;32m     11\u001b[0m \u001b[0;34m\u001b[0m\u001b[0m\n",
            "\u001b[0;32m/usr/local/lib/python3.9/dist-packages/sklearn/feature_selection/_rfe.py\u001b[0m in \u001b[0;36mfit\u001b[0;34m(self, X, y, groups)\u001b[0m\n\u001b[1;32m    723\u001b[0m             \u001b[0mfunc\u001b[0m \u001b[0;34m=\u001b[0m \u001b[0mdelayed\u001b[0m\u001b[0;34m(\u001b[0m\u001b[0m_rfe_single_fit\u001b[0m\u001b[0;34m)\u001b[0m\u001b[0;34m\u001b[0m\u001b[0;34m\u001b[0m\u001b[0m\n\u001b[1;32m    724\u001b[0m \u001b[0;34m\u001b[0m\u001b[0m\n\u001b[0;32m--> 725\u001b[0;31m         scores = parallel(\n\u001b[0m\u001b[1;32m    726\u001b[0m             \u001b[0mfunc\u001b[0m\u001b[0;34m(\u001b[0m\u001b[0mrfe\u001b[0m\u001b[0;34m,\u001b[0m \u001b[0mself\u001b[0m\u001b[0;34m.\u001b[0m\u001b[0mestimator\u001b[0m\u001b[0;34m,\u001b[0m \u001b[0mX\u001b[0m\u001b[0;34m,\u001b[0m \u001b[0my\u001b[0m\u001b[0;34m,\u001b[0m \u001b[0mtrain\u001b[0m\u001b[0;34m,\u001b[0m \u001b[0mtest\u001b[0m\u001b[0;34m,\u001b[0m \u001b[0mscorer\u001b[0m\u001b[0;34m)\u001b[0m\u001b[0;34m\u001b[0m\u001b[0;34m\u001b[0m\u001b[0m\n\u001b[1;32m    727\u001b[0m             \u001b[0;32mfor\u001b[0m \u001b[0mtrain\u001b[0m\u001b[0;34m,\u001b[0m \u001b[0mtest\u001b[0m \u001b[0;32min\u001b[0m \u001b[0mcv\u001b[0m\u001b[0;34m.\u001b[0m\u001b[0msplit\u001b[0m\u001b[0;34m(\u001b[0m\u001b[0mX\u001b[0m\u001b[0;34m,\u001b[0m \u001b[0my\u001b[0m\u001b[0;34m,\u001b[0m \u001b[0mgroups\u001b[0m\u001b[0;34m)\u001b[0m\u001b[0;34m\u001b[0m\u001b[0;34m\u001b[0m\u001b[0m\n",
            "\u001b[0;32m/usr/local/lib/python3.9/dist-packages/sklearn/feature_selection/_rfe.py\u001b[0m in \u001b[0;36m<genexpr>\u001b[0;34m(.0)\u001b[0m\n\u001b[1;32m    724\u001b[0m \u001b[0;34m\u001b[0m\u001b[0m\n\u001b[1;32m    725\u001b[0m         scores = parallel(\n\u001b[0;32m--> 726\u001b[0;31m             \u001b[0mfunc\u001b[0m\u001b[0;34m(\u001b[0m\u001b[0mrfe\u001b[0m\u001b[0;34m,\u001b[0m \u001b[0mself\u001b[0m\u001b[0;34m.\u001b[0m\u001b[0mestimator\u001b[0m\u001b[0;34m,\u001b[0m \u001b[0mX\u001b[0m\u001b[0;34m,\u001b[0m \u001b[0my\u001b[0m\u001b[0;34m,\u001b[0m \u001b[0mtrain\u001b[0m\u001b[0;34m,\u001b[0m \u001b[0mtest\u001b[0m\u001b[0;34m,\u001b[0m \u001b[0mscorer\u001b[0m\u001b[0;34m)\u001b[0m\u001b[0;34m\u001b[0m\u001b[0;34m\u001b[0m\u001b[0m\n\u001b[0m\u001b[1;32m    727\u001b[0m             \u001b[0;32mfor\u001b[0m \u001b[0mtrain\u001b[0m\u001b[0;34m,\u001b[0m \u001b[0mtest\u001b[0m \u001b[0;32min\u001b[0m \u001b[0mcv\u001b[0m\u001b[0;34m.\u001b[0m\u001b[0msplit\u001b[0m\u001b[0;34m(\u001b[0m\u001b[0mX\u001b[0m\u001b[0;34m,\u001b[0m \u001b[0my\u001b[0m\u001b[0;34m,\u001b[0m \u001b[0mgroups\u001b[0m\u001b[0;34m)\u001b[0m\u001b[0;34m\u001b[0m\u001b[0;34m\u001b[0m\u001b[0m\n\u001b[1;32m    728\u001b[0m         )\n",
            "\u001b[0;32m/usr/local/lib/python3.9/dist-packages/sklearn/feature_selection/_rfe.py\u001b[0m in \u001b[0;36m_rfe_single_fit\u001b[0;34m(rfe, estimator, X, y, train, test, scorer)\u001b[0m\n\u001b[1;32m     35\u001b[0m     \u001b[0mX_train\u001b[0m\u001b[0;34m,\u001b[0m \u001b[0my_train\u001b[0m \u001b[0;34m=\u001b[0m \u001b[0m_safe_split\u001b[0m\u001b[0;34m(\u001b[0m\u001b[0mestimator\u001b[0m\u001b[0;34m,\u001b[0m \u001b[0mX\u001b[0m\u001b[0;34m,\u001b[0m \u001b[0my\u001b[0m\u001b[0;34m,\u001b[0m \u001b[0mtrain\u001b[0m\u001b[0;34m)\u001b[0m\u001b[0;34m\u001b[0m\u001b[0;34m\u001b[0m\u001b[0m\n\u001b[1;32m     36\u001b[0m     \u001b[0mX_test\u001b[0m\u001b[0;34m,\u001b[0m \u001b[0my_test\u001b[0m \u001b[0;34m=\u001b[0m \u001b[0m_safe_split\u001b[0m\u001b[0;34m(\u001b[0m\u001b[0mestimator\u001b[0m\u001b[0;34m,\u001b[0m \u001b[0mX\u001b[0m\u001b[0;34m,\u001b[0m \u001b[0my\u001b[0m\u001b[0;34m,\u001b[0m \u001b[0mtest\u001b[0m\u001b[0;34m,\u001b[0m \u001b[0mtrain\u001b[0m\u001b[0;34m)\u001b[0m\u001b[0;34m\u001b[0m\u001b[0;34m\u001b[0m\u001b[0m\n\u001b[0;32m---> 37\u001b[0;31m     return rfe._fit(\n\u001b[0m\u001b[1;32m     38\u001b[0m         \u001b[0mX_train\u001b[0m\u001b[0;34m,\u001b[0m\u001b[0;34m\u001b[0m\u001b[0;34m\u001b[0m\u001b[0m\n\u001b[1;32m     39\u001b[0m         \u001b[0my_train\u001b[0m\u001b[0;34m,\u001b[0m\u001b[0;34m\u001b[0m\u001b[0;34m\u001b[0m\u001b[0m\n",
            "\u001b[0;32m/usr/local/lib/python3.9/dist-packages/sklearn/feature_selection/_rfe.py\u001b[0m in \u001b[0;36m_fit\u001b[0;34m(self, X, y, step_score, **fit_params)\u001b[0m\n\u001b[1;32m    317\u001b[0m             \u001b[0;31m# that have not been eliminated yet\u001b[0m\u001b[0;34m\u001b[0m\u001b[0;34m\u001b[0m\u001b[0m\n\u001b[1;32m    318\u001b[0m             \u001b[0;32mif\u001b[0m \u001b[0mstep_score\u001b[0m\u001b[0;34m:\u001b[0m\u001b[0;34m\u001b[0m\u001b[0;34m\u001b[0m\u001b[0m\n\u001b[0;32m--> 319\u001b[0;31m                 \u001b[0mself\u001b[0m\u001b[0;34m.\u001b[0m\u001b[0mscores_\u001b[0m\u001b[0;34m.\u001b[0m\u001b[0mappend\u001b[0m\u001b[0;34m(\u001b[0m\u001b[0mstep_score\u001b[0m\u001b[0;34m(\u001b[0m\u001b[0mestimator\u001b[0m\u001b[0;34m,\u001b[0m \u001b[0mfeatures\u001b[0m\u001b[0;34m)\u001b[0m\u001b[0;34m)\u001b[0m\u001b[0;34m\u001b[0m\u001b[0;34m\u001b[0m\u001b[0m\n\u001b[0m\u001b[1;32m    320\u001b[0m             \u001b[0msupport_\u001b[0m\u001b[0;34m[\u001b[0m\u001b[0mfeatures\u001b[0m\u001b[0;34m[\u001b[0m\u001b[0mranks\u001b[0m\u001b[0;34m]\u001b[0m\u001b[0;34m[\u001b[0m\u001b[0;34m:\u001b[0m\u001b[0mthreshold\u001b[0m\u001b[0;34m]\u001b[0m\u001b[0;34m]\u001b[0m \u001b[0;34m=\u001b[0m \u001b[0;32mFalse\u001b[0m\u001b[0;34m\u001b[0m\u001b[0;34m\u001b[0m\u001b[0m\n\u001b[1;32m    321\u001b[0m             \u001b[0mranking_\u001b[0m\u001b[0;34m[\u001b[0m\u001b[0mnp\u001b[0m\u001b[0;34m.\u001b[0m\u001b[0mlogical_not\u001b[0m\u001b[0;34m(\u001b[0m\u001b[0msupport_\u001b[0m\u001b[0;34m)\u001b[0m\u001b[0;34m]\u001b[0m \u001b[0;34m+=\u001b[0m \u001b[0;36m1\u001b[0m\u001b[0;34m\u001b[0m\u001b[0;34m\u001b[0m\u001b[0m\n",
            "\u001b[0;32m/usr/local/lib/python3.9/dist-packages/sklearn/feature_selection/_rfe.py\u001b[0m in \u001b[0;36m<lambda>\u001b[0;34m(estimator, features)\u001b[0m\n\u001b[1;32m     38\u001b[0m         \u001b[0mX_train\u001b[0m\u001b[0;34m,\u001b[0m\u001b[0;34m\u001b[0m\u001b[0;34m\u001b[0m\u001b[0m\n\u001b[1;32m     39\u001b[0m         \u001b[0my_train\u001b[0m\u001b[0;34m,\u001b[0m\u001b[0;34m\u001b[0m\u001b[0;34m\u001b[0m\u001b[0m\n\u001b[0;32m---> 40\u001b[0;31m         lambda estimator, features: _score(\n\u001b[0m\u001b[1;32m     41\u001b[0m             \u001b[0mestimator\u001b[0m\u001b[0;34m,\u001b[0m \u001b[0mX_test\u001b[0m\u001b[0;34m[\u001b[0m\u001b[0;34m:\u001b[0m\u001b[0;34m,\u001b[0m \u001b[0mfeatures\u001b[0m\u001b[0;34m]\u001b[0m\u001b[0;34m,\u001b[0m \u001b[0my_test\u001b[0m\u001b[0;34m,\u001b[0m \u001b[0mscorer\u001b[0m\u001b[0;34m\u001b[0m\u001b[0;34m\u001b[0m\u001b[0m\n\u001b[1;32m     42\u001b[0m         ),\n",
            "\u001b[0;32m/usr/local/lib/python3.9/dist-packages/sklearn/model_selection/_validation.py\u001b[0m in \u001b[0;36m_score\u001b[0;34m(estimator, X_test, y_test, scorer, error_score)\u001b[0m\n\u001b[1;32m    765\u001b[0m             \u001b[0mscores\u001b[0m \u001b[0;34m=\u001b[0m \u001b[0mscorer\u001b[0m\u001b[0;34m(\u001b[0m\u001b[0mestimator\u001b[0m\u001b[0;34m,\u001b[0m \u001b[0mX_test\u001b[0m\u001b[0;34m)\u001b[0m\u001b[0;34m\u001b[0m\u001b[0;34m\u001b[0m\u001b[0m\n\u001b[1;32m    766\u001b[0m         \u001b[0;32melse\u001b[0m\u001b[0;34m:\u001b[0m\u001b[0;34m\u001b[0m\u001b[0;34m\u001b[0m\u001b[0m\n\u001b[0;32m--> 767\u001b[0;31m             \u001b[0mscores\u001b[0m \u001b[0;34m=\u001b[0m \u001b[0mscorer\u001b[0m\u001b[0;34m(\u001b[0m\u001b[0mestimator\u001b[0m\u001b[0;34m,\u001b[0m \u001b[0mX_test\u001b[0m\u001b[0;34m,\u001b[0m \u001b[0my_test\u001b[0m\u001b[0;34m)\u001b[0m\u001b[0;34m\u001b[0m\u001b[0;34m\u001b[0m\u001b[0m\n\u001b[0m\u001b[1;32m    768\u001b[0m     \u001b[0;32mexcept\u001b[0m \u001b[0mException\u001b[0m\u001b[0;34m:\u001b[0m\u001b[0;34m\u001b[0m\u001b[0;34m\u001b[0m\u001b[0m\n\u001b[1;32m    769\u001b[0m         \u001b[0;32mif\u001b[0m \u001b[0misinstance\u001b[0m\u001b[0;34m(\u001b[0m\u001b[0mscorer\u001b[0m\u001b[0;34m,\u001b[0m \u001b[0m_MultimetricScorer\u001b[0m\u001b[0;34m)\u001b[0m\u001b[0;34m:\u001b[0m\u001b[0;34m\u001b[0m\u001b[0;34m\u001b[0m\u001b[0m\n",
            "\u001b[0;32m/usr/local/lib/python3.9/dist-packages/sklearn/metrics/_scorer.py\u001b[0m in \u001b[0;36m_passthrough_scorer\u001b[0;34m(estimator, *args, **kwargs)\u001b[0m\n\u001b[1;32m    442\u001b[0m \u001b[0;32mdef\u001b[0m \u001b[0m_passthrough_scorer\u001b[0m\u001b[0;34m(\u001b[0m\u001b[0mestimator\u001b[0m\u001b[0;34m,\u001b[0m \u001b[0;34m*\u001b[0m\u001b[0margs\u001b[0m\u001b[0;34m,\u001b[0m \u001b[0;34m**\u001b[0m\u001b[0mkwargs\u001b[0m\u001b[0;34m)\u001b[0m\u001b[0;34m:\u001b[0m\u001b[0;34m\u001b[0m\u001b[0;34m\u001b[0m\u001b[0m\n\u001b[1;32m    443\u001b[0m     \u001b[0;34m\"\"\"Function that wraps estimator.score\"\"\"\u001b[0m\u001b[0;34m\u001b[0m\u001b[0;34m\u001b[0m\u001b[0m\n\u001b[0;32m--> 444\u001b[0;31m     \u001b[0;32mreturn\u001b[0m \u001b[0mestimator\u001b[0m\u001b[0;34m.\u001b[0m\u001b[0mscore\u001b[0m\u001b[0;34m(\u001b[0m\u001b[0;34m*\u001b[0m\u001b[0margs\u001b[0m\u001b[0;34m,\u001b[0m \u001b[0;34m**\u001b[0m\u001b[0mkwargs\u001b[0m\u001b[0;34m)\u001b[0m\u001b[0;34m\u001b[0m\u001b[0;34m\u001b[0m\u001b[0m\n\u001b[0m\u001b[1;32m    445\u001b[0m \u001b[0;34m\u001b[0m\u001b[0m\n\u001b[1;32m    446\u001b[0m \u001b[0;34m\u001b[0m\u001b[0m\n",
            "\u001b[0;32m/usr/local/lib/python3.9/dist-packages/sklearn/base.py\u001b[0m in \u001b[0;36mscore\u001b[0;34m(self, X, y, sample_weight)\u001b[0m\n\u001b[1;32m    647\u001b[0m         \u001b[0;32mfrom\u001b[0m \u001b[0;34m.\u001b[0m\u001b[0mmetrics\u001b[0m \u001b[0;32mimport\u001b[0m \u001b[0maccuracy_score\u001b[0m\u001b[0;34m\u001b[0m\u001b[0;34m\u001b[0m\u001b[0m\n\u001b[1;32m    648\u001b[0m \u001b[0;34m\u001b[0m\u001b[0m\n\u001b[0;32m--> 649\u001b[0;31m         \u001b[0;32mreturn\u001b[0m \u001b[0maccuracy_score\u001b[0m\u001b[0;34m(\u001b[0m\u001b[0my\u001b[0m\u001b[0;34m,\u001b[0m \u001b[0mself\u001b[0m\u001b[0;34m.\u001b[0m\u001b[0mpredict\u001b[0m\u001b[0;34m(\u001b[0m\u001b[0mX\u001b[0m\u001b[0;34m)\u001b[0m\u001b[0;34m,\u001b[0m \u001b[0msample_weight\u001b[0m\u001b[0;34m=\u001b[0m\u001b[0msample_weight\u001b[0m\u001b[0;34m)\u001b[0m\u001b[0;34m\u001b[0m\u001b[0;34m\u001b[0m\u001b[0m\n\u001b[0m\u001b[1;32m    650\u001b[0m \u001b[0;34m\u001b[0m\u001b[0m\n\u001b[1;32m    651\u001b[0m     \u001b[0;32mdef\u001b[0m \u001b[0m_more_tags\u001b[0m\u001b[0;34m(\u001b[0m\u001b[0mself\u001b[0m\u001b[0;34m)\u001b[0m\u001b[0;34m:\u001b[0m\u001b[0;34m\u001b[0m\u001b[0;34m\u001b[0m\u001b[0m\n",
            "\u001b[0;32m/usr/local/lib/python3.9/dist-packages/sklearn/utils/_param_validation.py\u001b[0m in \u001b[0;36mwrapper\u001b[0;34m(*args, **kwargs)\u001b[0m\n\u001b[1;32m    190\u001b[0m \u001b[0;34m\u001b[0m\u001b[0m\n\u001b[1;32m    191\u001b[0m             \u001b[0;32mtry\u001b[0m\u001b[0;34m:\u001b[0m\u001b[0;34m\u001b[0m\u001b[0;34m\u001b[0m\u001b[0m\n\u001b[0;32m--> 192\u001b[0;31m                 \u001b[0;32mreturn\u001b[0m \u001b[0mfunc\u001b[0m\u001b[0;34m(\u001b[0m\u001b[0;34m*\u001b[0m\u001b[0margs\u001b[0m\u001b[0;34m,\u001b[0m \u001b[0;34m**\u001b[0m\u001b[0mkwargs\u001b[0m\u001b[0;34m)\u001b[0m\u001b[0;34m\u001b[0m\u001b[0;34m\u001b[0m\u001b[0m\n\u001b[0m\u001b[1;32m    193\u001b[0m             \u001b[0;32mexcept\u001b[0m \u001b[0mInvalidParameterError\u001b[0m \u001b[0;32mas\u001b[0m \u001b[0me\u001b[0m\u001b[0;34m:\u001b[0m\u001b[0;34m\u001b[0m\u001b[0;34m\u001b[0m\u001b[0m\n\u001b[1;32m    194\u001b[0m                 \u001b[0;31m# When the function is just a wrapper around an estimator, we allow\u001b[0m\u001b[0;34m\u001b[0m\u001b[0;34m\u001b[0m\u001b[0m\n",
            "\u001b[0;32m/usr/local/lib/python3.9/dist-packages/sklearn/metrics/_classification.py\u001b[0m in \u001b[0;36maccuracy_score\u001b[0;34m(y_true, y_pred, normalize, sample_weight)\u001b[0m\n\u001b[1;32m    219\u001b[0m \u001b[0;34m\u001b[0m\u001b[0m\n\u001b[1;32m    220\u001b[0m     \u001b[0;31m# Compute accuracy for each possible representation\u001b[0m\u001b[0;34m\u001b[0m\u001b[0;34m\u001b[0m\u001b[0m\n\u001b[0;32m--> 221\u001b[0;31m     \u001b[0my_type\u001b[0m\u001b[0;34m,\u001b[0m \u001b[0my_true\u001b[0m\u001b[0;34m,\u001b[0m \u001b[0my_pred\u001b[0m \u001b[0;34m=\u001b[0m \u001b[0m_check_targets\u001b[0m\u001b[0;34m(\u001b[0m\u001b[0my_true\u001b[0m\u001b[0;34m,\u001b[0m \u001b[0my_pred\u001b[0m\u001b[0;34m)\u001b[0m\u001b[0;34m\u001b[0m\u001b[0;34m\u001b[0m\u001b[0m\n\u001b[0m\u001b[1;32m    222\u001b[0m     \u001b[0mcheck_consistent_length\u001b[0m\u001b[0;34m(\u001b[0m\u001b[0my_true\u001b[0m\u001b[0;34m,\u001b[0m \u001b[0my_pred\u001b[0m\u001b[0;34m,\u001b[0m \u001b[0msample_weight\u001b[0m\u001b[0;34m)\u001b[0m\u001b[0;34m\u001b[0m\u001b[0;34m\u001b[0m\u001b[0m\n\u001b[1;32m    223\u001b[0m     \u001b[0;32mif\u001b[0m \u001b[0my_type\u001b[0m\u001b[0;34m.\u001b[0m\u001b[0mstartswith\u001b[0m\u001b[0;34m(\u001b[0m\u001b[0;34m\"multilabel\"\u001b[0m\u001b[0;34m)\u001b[0m\u001b[0;34m:\u001b[0m\u001b[0;34m\u001b[0m\u001b[0;34m\u001b[0m\u001b[0m\n",
            "\u001b[0;32m/usr/local/lib/python3.9/dist-packages/sklearn/metrics/_classification.py\u001b[0m in \u001b[0;36m_check_targets\u001b[0;34m(y_true, y_pred)\u001b[0m\n\u001b[1;32m     85\u001b[0m     \"\"\"\n\u001b[1;32m     86\u001b[0m     \u001b[0mcheck_consistent_length\u001b[0m\u001b[0;34m(\u001b[0m\u001b[0my_true\u001b[0m\u001b[0;34m,\u001b[0m \u001b[0my_pred\u001b[0m\u001b[0;34m)\u001b[0m\u001b[0;34m\u001b[0m\u001b[0;34m\u001b[0m\u001b[0m\n\u001b[0;32m---> 87\u001b[0;31m     \u001b[0mtype_true\u001b[0m \u001b[0;34m=\u001b[0m \u001b[0mtype_of_target\u001b[0m\u001b[0;34m(\u001b[0m\u001b[0my_true\u001b[0m\u001b[0;34m,\u001b[0m \u001b[0minput_name\u001b[0m\u001b[0;34m=\u001b[0m\u001b[0;34m\"y_true\"\u001b[0m\u001b[0;34m)\u001b[0m\u001b[0;34m\u001b[0m\u001b[0;34m\u001b[0m\u001b[0m\n\u001b[0m\u001b[1;32m     88\u001b[0m     \u001b[0mtype_pred\u001b[0m \u001b[0;34m=\u001b[0m \u001b[0mtype_of_target\u001b[0m\u001b[0;34m(\u001b[0m\u001b[0my_pred\u001b[0m\u001b[0;34m,\u001b[0m \u001b[0minput_name\u001b[0m\u001b[0;34m=\u001b[0m\u001b[0;34m\"y_pred\"\u001b[0m\u001b[0;34m)\u001b[0m\u001b[0;34m\u001b[0m\u001b[0;34m\u001b[0m\u001b[0m\n\u001b[1;32m     89\u001b[0m \u001b[0;34m\u001b[0m\u001b[0m\n",
            "\u001b[0;32m/usr/local/lib/python3.9/dist-packages/sklearn/utils/multiclass.py\u001b[0m in \u001b[0;36mtype_of_target\u001b[0;34m(y, input_name)\u001b[0m\n\u001b[1;32m    361\u001b[0m     \u001b[0;31m# Check multiclass\u001b[0m\u001b[0;34m\u001b[0m\u001b[0;34m\u001b[0m\u001b[0m\n\u001b[1;32m    362\u001b[0m     \u001b[0mfirst_row\u001b[0m \u001b[0;34m=\u001b[0m \u001b[0my\u001b[0m\u001b[0;34m[\u001b[0m\u001b[0;36m0\u001b[0m\u001b[0;34m]\u001b[0m \u001b[0;32mif\u001b[0m \u001b[0;32mnot\u001b[0m \u001b[0missparse\u001b[0m\u001b[0;34m(\u001b[0m\u001b[0my\u001b[0m\u001b[0;34m)\u001b[0m \u001b[0;32melse\u001b[0m \u001b[0my\u001b[0m\u001b[0;34m.\u001b[0m\u001b[0mgetrow\u001b[0m\u001b[0;34m(\u001b[0m\u001b[0;36m0\u001b[0m\u001b[0;34m)\u001b[0m\u001b[0;34m.\u001b[0m\u001b[0mdata\u001b[0m\u001b[0;34m\u001b[0m\u001b[0;34m\u001b[0m\u001b[0m\n\u001b[0;32m--> 363\u001b[0;31m     \u001b[0;32mif\u001b[0m \u001b[0mxp\u001b[0m\u001b[0;34m.\u001b[0m\u001b[0munique_values\u001b[0m\u001b[0;34m(\u001b[0m\u001b[0my\u001b[0m\u001b[0;34m)\u001b[0m\u001b[0;34m.\u001b[0m\u001b[0mshape\u001b[0m\u001b[0;34m[\u001b[0m\u001b[0;36m0\u001b[0m\u001b[0;34m]\u001b[0m \u001b[0;34m>\u001b[0m \u001b[0;36m2\u001b[0m \u001b[0;32mor\u001b[0m \u001b[0;34m(\u001b[0m\u001b[0my\u001b[0m\u001b[0;34m.\u001b[0m\u001b[0mndim\u001b[0m \u001b[0;34m==\u001b[0m \u001b[0;36m2\u001b[0m \u001b[0;32mand\u001b[0m \u001b[0mlen\u001b[0m\u001b[0;34m(\u001b[0m\u001b[0mfirst_row\u001b[0m\u001b[0;34m)\u001b[0m \u001b[0;34m>\u001b[0m \u001b[0;36m1\u001b[0m\u001b[0;34m)\u001b[0m\u001b[0;34m:\u001b[0m\u001b[0;34m\u001b[0m\u001b[0;34m\u001b[0m\u001b[0m\n\u001b[0m\u001b[1;32m    364\u001b[0m         \u001b[0;31m# [1, 2, 3] or [[1., 2., 3]] or [[1, 2]]\u001b[0m\u001b[0;34m\u001b[0m\u001b[0;34m\u001b[0m\u001b[0m\n\u001b[1;32m    365\u001b[0m         \u001b[0;32mreturn\u001b[0m \u001b[0;34m\"multiclass\"\u001b[0m \u001b[0;34m+\u001b[0m \u001b[0msuffix\u001b[0m\u001b[0;34m\u001b[0m\u001b[0;34m\u001b[0m\u001b[0m\n",
            "\u001b[0;32m/usr/local/lib/python3.9/dist-packages/sklearn/utils/_array_api.py\u001b[0m in \u001b[0;36munique_values\u001b[0;34m(self, x)\u001b[0m\n\u001b[1;32m     82\u001b[0m \u001b[0;34m\u001b[0m\u001b[0m\n\u001b[1;32m     83\u001b[0m     \u001b[0;32mdef\u001b[0m \u001b[0munique_values\u001b[0m\u001b[0;34m(\u001b[0m\u001b[0mself\u001b[0m\u001b[0;34m,\u001b[0m \u001b[0mx\u001b[0m\u001b[0;34m)\u001b[0m\u001b[0;34m:\u001b[0m\u001b[0;34m\u001b[0m\u001b[0;34m\u001b[0m\u001b[0m\n\u001b[0;32m---> 84\u001b[0;31m         \u001b[0;32mreturn\u001b[0m \u001b[0mnumpy\u001b[0m\u001b[0;34m.\u001b[0m\u001b[0munique\u001b[0m\u001b[0;34m(\u001b[0m\u001b[0mx\u001b[0m\u001b[0;34m)\u001b[0m\u001b[0;34m\u001b[0m\u001b[0;34m\u001b[0m\u001b[0m\n\u001b[0m\u001b[1;32m     85\u001b[0m \u001b[0;34m\u001b[0m\u001b[0m\n\u001b[1;32m     86\u001b[0m     \u001b[0;32mdef\u001b[0m \u001b[0mconcat\u001b[0m\u001b[0;34m(\u001b[0m\u001b[0mself\u001b[0m\u001b[0;34m,\u001b[0m \u001b[0marrays\u001b[0m\u001b[0;34m,\u001b[0m \u001b[0;34m*\u001b[0m\u001b[0;34m,\u001b[0m \u001b[0maxis\u001b[0m\u001b[0;34m=\u001b[0m\u001b[0;32mNone\u001b[0m\u001b[0;34m)\u001b[0m\u001b[0;34m:\u001b[0m\u001b[0;34m\u001b[0m\u001b[0;34m\u001b[0m\u001b[0m\n",
            "\u001b[0;32m/usr/local/lib/python3.9/dist-packages/numpy/core/overrides.py\u001b[0m in \u001b[0;36munique\u001b[0;34m(*args, **kwargs)\u001b[0m\n",
            "\u001b[0;32m/usr/local/lib/python3.9/dist-packages/numpy/lib/arraysetops.py\u001b[0m in \u001b[0;36munique\u001b[0;34m(ar, return_index, return_inverse, return_counts, axis)\u001b[0m\n\u001b[1;32m    270\u001b[0m     \u001b[0mar\u001b[0m \u001b[0;34m=\u001b[0m \u001b[0mnp\u001b[0m\u001b[0;34m.\u001b[0m\u001b[0masanyarray\u001b[0m\u001b[0;34m(\u001b[0m\u001b[0mar\u001b[0m\u001b[0;34m)\u001b[0m\u001b[0;34m\u001b[0m\u001b[0;34m\u001b[0m\u001b[0m\n\u001b[1;32m    271\u001b[0m     \u001b[0;32mif\u001b[0m \u001b[0maxis\u001b[0m \u001b[0;32mis\u001b[0m \u001b[0;32mNone\u001b[0m\u001b[0;34m:\u001b[0m\u001b[0;34m\u001b[0m\u001b[0;34m\u001b[0m\u001b[0m\n\u001b[0;32m--> 272\u001b[0;31m         \u001b[0mret\u001b[0m \u001b[0;34m=\u001b[0m \u001b[0m_unique1d\u001b[0m\u001b[0;34m(\u001b[0m\u001b[0mar\u001b[0m\u001b[0;34m,\u001b[0m \u001b[0mreturn_index\u001b[0m\u001b[0;34m,\u001b[0m \u001b[0mreturn_inverse\u001b[0m\u001b[0;34m,\u001b[0m \u001b[0mreturn_counts\u001b[0m\u001b[0;34m)\u001b[0m\u001b[0;34m\u001b[0m\u001b[0;34m\u001b[0m\u001b[0m\n\u001b[0m\u001b[1;32m    273\u001b[0m         \u001b[0;32mreturn\u001b[0m \u001b[0m_unpack_tuple\u001b[0m\u001b[0;34m(\u001b[0m\u001b[0mret\u001b[0m\u001b[0;34m)\u001b[0m\u001b[0;34m\u001b[0m\u001b[0;34m\u001b[0m\u001b[0m\n\u001b[1;32m    274\u001b[0m \u001b[0;34m\u001b[0m\u001b[0m\n",
            "\u001b[0;32m/usr/local/lib/python3.9/dist-packages/numpy/lib/arraysetops.py\u001b[0m in \u001b[0;36m_unique1d\u001b[0;34m(ar, return_index, return_inverse, return_counts)\u001b[0m\n\u001b[1;32m    331\u001b[0m         \u001b[0maux\u001b[0m \u001b[0;34m=\u001b[0m \u001b[0mar\u001b[0m\u001b[0;34m[\u001b[0m\u001b[0mperm\u001b[0m\u001b[0;34m]\u001b[0m\u001b[0;34m\u001b[0m\u001b[0;34m\u001b[0m\u001b[0m\n\u001b[1;32m    332\u001b[0m     \u001b[0;32melse\u001b[0m\u001b[0;34m:\u001b[0m\u001b[0;34m\u001b[0m\u001b[0;34m\u001b[0m\u001b[0m\n\u001b[0;32m--> 333\u001b[0;31m         \u001b[0mar\u001b[0m\u001b[0;34m.\u001b[0m\u001b[0msort\u001b[0m\u001b[0;34m(\u001b[0m\u001b[0;34m)\u001b[0m\u001b[0;34m\u001b[0m\u001b[0;34m\u001b[0m\u001b[0m\n\u001b[0m\u001b[1;32m    334\u001b[0m         \u001b[0maux\u001b[0m \u001b[0;34m=\u001b[0m \u001b[0mar\u001b[0m\u001b[0;34m\u001b[0m\u001b[0;34m\u001b[0m\u001b[0m\n\u001b[1;32m    335\u001b[0m     \u001b[0mmask\u001b[0m \u001b[0;34m=\u001b[0m \u001b[0mnp\u001b[0m\u001b[0;34m.\u001b[0m\u001b[0mempty\u001b[0m\u001b[0;34m(\u001b[0m\u001b[0maux\u001b[0m\u001b[0;34m.\u001b[0m\u001b[0mshape\u001b[0m\u001b[0;34m,\u001b[0m \u001b[0mdtype\u001b[0m\u001b[0;34m=\u001b[0m\u001b[0mnp\u001b[0m\u001b[0;34m.\u001b[0m\u001b[0mbool_\u001b[0m\u001b[0;34m)\u001b[0m\u001b[0;34m\u001b[0m\u001b[0;34m\u001b[0m\u001b[0m\n",
            "\u001b[0;31mKeyboardInterrupt\u001b[0m: "
          ]
        }
      ],
      "source": [
        "# from sklearn.feature_selection import RFECV\n",
        "# from sklearn.linear_model import LogisticRegression\n",
        "\n",
        "# Create a logistic regression object\n",
        "lr = LogisticRegression(random_state=42)\n",
        "\n",
        "# Create a recursive feature elimination object\n",
        "rfe = RFECV(estimator=lr, cv=5)\n",
        "# Fit the RFE object on the PCA transformed training data\n",
        "rfe.fit(X_train_pca, y_train)\n",
        "\n"
      ]
    },
    {
      "cell_type": "code",
      "execution_count": null,
      "metadata": {
        "id": "2iutiZkRvxpa"
      },
      "outputs": [],
      "source": [
        "# Get the selected features\n",
        "selected_features = train_pca_df.columns[rfe.support_]\n",
        "\n",
        "# Transform the training and test datasets with selected features\n",
        "X_train_rfe = train_pca_df[selected_features]\n",
        "X_test_rfe = test_pca_df[selected_features]"
      ]
    },
    {
      "cell_type": "code",
      "execution_count": null,
      "metadata": {
        "id": "9q8NaOFhY6LY"
      },
      "outputs": [],
      "source": [
        "# apply RFE to select most relevant features\n",
        "# apply backward feature selection on the PCA\n",
        "rfe = RFE(estimator=LogisticRegression(random_state=42,multi_class=\"multinomial\"),n_features_to_select=14,)\n",
        "X_train_rfe = rfe.fit_transform(X_train_pca, y_train)\n",
        "X_test_rfe = rfe.transform(X_test_pca)"
      ]
    },
    {
      "cell_type": "code",
      "execution_count": null,
      "metadata": {
        "id": "qhu6EuvsmLlo"
      },
      "outputs": [],
      "source": [
        "train_RFE_df = pd.DataFrame(X_train_rfe, columns=[f\"rfe{i+1}\" for i in range(14)])\n",
        "test_Rfe_df = pd.DataFrame(X_test_rfe, columns=[f\"rfe{i+1}\" for i in range(14)])"
      ]
    },
    {
      "cell_type": "code",
      "execution_count": null,
      "metadata": {
        "id": "rzn2Aqj3XJWx"
      },
      "outputs": [],
      "source": [
        "train_RFE_df = pd.DataFrame(X_train_rfe)\n",
        "test_Rfe_df = pd.DataFrame(X_test_rfe)"
      ]
    },
    {
      "cell_type": "code",
      "execution_count": null,
      "metadata": {
        "colab": {
          "base_uri": "https://localhost:8080/",
          "height": 455,
          "referenced_widgets": [
            "cce36be523c2404a881ff5f84483ac5f",
            "26d8e6e8ec7a4f71a1ac9fe7fd858dae",
            "7ab25ee1309547079bf0b9fd3fbb6720",
            "fbf16ff78efc457ea779512bf8b4f687",
            "a74aa6f9954144818ca82b504b72e726"
          ]
        },
        "id": "rQMgv5A300th",
        "outputId": "49b8fa01-6759-4bdc-d3e0-56694a75aced"
      },
      "outputs": [
        {
          "data": {
            "application/vnd.jupyter.widget-view+json": {
              "model_id": "cce36be523c2404a881ff5f84483ac5f",
              "version_major": 2,
              "version_minor": 0
            },
            "text/plain": [
              "Button(description='Toggle Pandas/Lux', layout=Layout(top='5px', width='140px'), style=ButtonStyle())"
            ]
          },
          "metadata": {
            "application/vnd.jupyter.widget-view+json": {
              "colab": {
                "custom_widget_manager": {
                  "url": "https://ssl.gstatic.com/colaboratory-static/widgets/colab-cdn-widget-manager/b3e629b1971e1542/manager.min.js"
                }
              }
            }
          },
          "output_type": "display_data"
        },
        {
          "data": {
            "application/vnd.jupyter.widget-view+json": {
              "model_id": "fbf16ff78efc457ea779512bf8b4f687",
              "version_major": 2,
              "version_minor": 0
            },
            "text/plain": [
              "Output()"
            ]
          },
          "metadata": {
            "application/vnd.jupyter.widget-view+json": {
              "colab": {
                "custom_widget_manager": {
                  "url": "https://ssl.gstatic.com/colaboratory-static/widgets/colab-cdn-widget-manager/b3e629b1971e1542/manager.min.js"
                }
              }
            }
          },
          "output_type": "display_data"
        }
      ],
      "source": [
        "train_RFE_df"
      ]
    },
    {
      "cell_type": "code",
      "execution_count": null,
      "metadata": {
        "colab": {
          "base_uri": "https://localhost:8080/",
          "height": 455,
          "referenced_widgets": [
            "f14bcf465cf848cb9f143f157c7928d2",
            "80ec7f5f00d44cbea2dbdeca7a940318",
            "5094425b495e4e9f9be391fe0c46ed8a",
            "a59d5ff61974491bb9b4f0529d0096f9",
            "8d7979a39e9f4db3af1a07a555cb4a2f"
          ]
        },
        "id": "m4Z74LL204rY",
        "outputId": "b4686d7e-95e9-4a0c-ba0b-ddb5d01446e4"
      },
      "outputs": [
        {
          "data": {
            "application/vnd.jupyter.widget-view+json": {
              "model_id": "f14bcf465cf848cb9f143f157c7928d2",
              "version_major": 2,
              "version_minor": 0
            },
            "text/plain": [
              "Button(description='Toggle Pandas/Lux', layout=Layout(top='5px', width='140px'), style=ButtonStyle())"
            ]
          },
          "metadata": {
            "application/vnd.jupyter.widget-view+json": {
              "colab": {
                "custom_widget_manager": {
                  "url": "https://ssl.gstatic.com/colaboratory-static/widgets/colab-cdn-widget-manager/b3e629b1971e1542/manager.min.js"
                }
              }
            }
          },
          "output_type": "display_data"
        },
        {
          "data": {
            "application/vnd.jupyter.widget-view+json": {
              "model_id": "a59d5ff61974491bb9b4f0529d0096f9",
              "version_major": 2,
              "version_minor": 0
            },
            "text/plain": [
              "Output()"
            ]
          },
          "metadata": {
            "application/vnd.jupyter.widget-view+json": {
              "colab": {
                "custom_widget_manager": {
                  "url": "https://ssl.gstatic.com/colaboratory-static/widgets/colab-cdn-widget-manager/b3e629b1971e1542/manager.min.js"
                }
              }
            }
          },
          "output_type": "display_data"
        }
      ],
      "source": [
        "test_Rfe_df"
      ]
    },
    {
      "cell_type": "code",
      "execution_count": null,
      "metadata": {
        "id": "bx6MWYc1p-I_"
      },
      "outputs": [],
      "source": []
    },
    {
      "cell_type": "code",
      "execution_count": null,
      "metadata": {
        "id": "yC2C8e-506DX"
      },
      "outputs": [],
      "source": [
        "iso = IsolationForest(random_state=42)\n",
        "iso.fit(X_train_rfe)\n",
        "X_train_iso = iso.predict(X_train_rfe)\n",
        "X_test_iso = iso.predict(X_test_rfe)\n",
        "df_train_iso = pd.DataFrame({'IsolationForest': X_train_iso})\n",
        "df_test_iso = pd.DataFrame({'IsolationForest': X_test_iso})"
      ]
    },
    {
      "cell_type": "code",
      "execution_count": null,
      "metadata": {
        "id": "kpWksgCm1DHz"
      },
      "outputs": [],
      "source": [
        "train_acc = (df_train_iso['IsolationForest'] == 1).sum() / len(df_train_iso)\n",
        "test_acc = (df_test_iso['IsolationForest'] == 1).sum() / len(df_test_iso)"
      ]
    },
    {
      "cell_type": "code",
      "execution_count": null,
      "metadata": {
        "id": "C40XJWXn1F0W"
      },
      "outputs": [],
      "source": [
        "test_acc"
      ]
    },
    {
      "cell_type": "code",
      "execution_count": null,
      "metadata": {
        "id": "1KrgqdZJ1MLx"
      },
      "outputs": [],
      "source": [
        "train_acc"
      ]
    },
    {
      "cell_type": "code",
      "execution_count": null,
      "metadata": {
        "id": "zr8XXF445jzu"
      },
      "outputs": [],
      "source": [
        "# Combine original features with IsolationForest results\n",
        "X_train_combined = np.column_stack((X_train_rfe, X_train_iso))\n",
        "X_test_combined = np.column_stack((X_test_rfe, X_test_iso))\n",
        "\n",
        "# Train logistic regression model\n",
        "lr = LogisticRegression(random_state=42)\n",
        "lr.fit(X_train_combined, y_train)\n",
        "\n",
        "# Evaluate accuracy on training and test sets\n",
        "train_acc = lr.score(X_train_combined, y_train)\n",
        "test_acc = lr.score(X_test_combined, y_test)\n",
        "\n",
        "print(\"Training accuracy:\", train_acc)\n",
        "print(\"Test accuracy:\", test_acc)\n"
      ]
    },
    {
      "cell_type": "code",
      "execution_count": null,
      "metadata": {
        "id": "D0Wl22VjBY-T"
      },
      "outputs": [],
      "source": [
        "\n"
      ]
    },
    {
      "cell_type": "code",
      "execution_count": null,
      "metadata": {
        "colab": {
          "background_save": true
        },
        "id": "V9dSEs_-qQmP"
      },
      "outputs": [],
      "source": [
        "\n",
        "# Create a DataFrame for the combined training data\n",
        "train_df = pd.DataFrame(X_train_combined)\n",
        "\n",
        "# Create a DataFrame for the combined testing data\n",
        "test_df = pd.DataFrame(X_test_combined)"
      ]
    },
    {
      "cell_type": "code",
      "execution_count": null,
      "metadata": {
        "id": "c2BArU6BJw8v"
      },
      "outputs": [],
      "source": []
    },
    {
      "cell_type": "code",
      "execution_count": null,
      "metadata": {
        "id": "saRRSPxzJwwL"
      },
      "outputs": [],
      "source": []
    },
    {
      "cell_type": "code",
      "execution_count": null,
      "metadata": {
        "id": "JYHIfPtS4XAB"
      },
      "outputs": [],
      "source": [
        "# Calculate the correlation matrix for the train data\n",
        "corr_train = train_df.corr()\n",
        "\n",
        "# Calculate the correlation matrix for the test data\n",
        "corr_test = test_df.corr()\n",
        "\n",
        "# Create a figure with two subplots side by side\n",
        "fig, (ax1, ax2) = plt.subplots(ncols=2, figsize=(15, 5))\n",
        "\n",
        "# Create a heatmap for the train data correlation matrix\n",
        "sns.heatmap(corr_train, ax=ax1)\n",
        "ax1.set_title('Train Data Correlation Matrix')\n",
        "\n",
        "# Create a heatmap for the test data correlation matrix\n",
        "sns.heatmap(corr_test, ax=ax2)\n",
        "ax2.set_title('Test Data Correlation Matrix')\n",
        "\n",
        "# Show the plot\n",
        "plt.show()"
      ]
    },
    {
      "cell_type": "code",
      "execution_count": null,
      "metadata": {
        "colab": {
          "background_save": true
        },
        "id": "1mCLq-xdqaCS",
        "outputId": "85d02438-5d80-4d84-a3bc-fc37aa7b98d4"
      },
      "outputs": [
        {
          "data": {
            "text/html": [
              "\n",
              "  <div id=\"df-ae24bb14-6660-41c9-99c3-45002cd56882\">\n",
              "    <div class=\"colab-df-container\">\n",
              "      <div>\n",
              "<style scoped>\n",
              "    .dataframe tbody tr th:only-of-type {\n",
              "        vertical-align: middle;\n",
              "    }\n",
              "\n",
              "    .dataframe tbody tr th {\n",
              "        vertical-align: top;\n",
              "    }\n",
              "\n",
              "    .dataframe thead th {\n",
              "        text-align: right;\n",
              "    }\n",
              "</style>\n",
              "<table border=\"1\" class=\"dataframe\">\n",
              "  <thead>\n",
              "    <tr style=\"text-align: right;\">\n",
              "      <th></th>\n",
              "      <th>0</th>\n",
              "      <th>1</th>\n",
              "      <th>2</th>\n",
              "      <th>3</th>\n",
              "      <th>4</th>\n",
              "      <th>5</th>\n",
              "      <th>6</th>\n",
              "      <th>7</th>\n",
              "      <th>8</th>\n",
              "      <th>9</th>\n",
              "      <th>10</th>\n",
              "      <th>11</th>\n",
              "      <th>12</th>\n",
              "      <th>13</th>\n",
              "      <th>14</th>\n",
              "    </tr>\n",
              "  </thead>\n",
              "  <tbody>\n",
              "    <tr>\n",
              "      <th>0</th>\n",
              "      <td>1.512955</td>\n",
              "      <td>0.531165</td>\n",
              "      <td>-0.558414</td>\n",
              "      <td>0.037379</td>\n",
              "      <td>0.095728</td>\n",
              "      <td>-0.028075</td>\n",
              "      <td>-0.033240</td>\n",
              "      <td>0.059993</td>\n",
              "      <td>0.004110</td>\n",
              "      <td>-0.036152</td>\n",
              "      <td>0.000839</td>\n",
              "      <td>-0.010877</td>\n",
              "      <td>-0.012385</td>\n",
              "      <td>-0.001079</td>\n",
              "      <td>1.0</td>\n",
              "    </tr>\n",
              "    <tr>\n",
              "      <th>1</th>\n",
              "      <td>-0.309697</td>\n",
              "      <td>-0.629726</td>\n",
              "      <td>-0.320951</td>\n",
              "      <td>0.024410</td>\n",
              "      <td>0.022276</td>\n",
              "      <td>0.022719</td>\n",
              "      <td>-0.018338</td>\n",
              "      <td>-0.027819</td>\n",
              "      <td>-0.020661</td>\n",
              "      <td>-0.014150</td>\n",
              "      <td>-0.000041</td>\n",
              "      <td>-0.003132</td>\n",
              "      <td>0.000481</td>\n",
              "      <td>0.000582</td>\n",
              "      <td>1.0</td>\n",
              "    </tr>\n",
              "    <tr>\n",
              "      <th>2</th>\n",
              "      <td>0.885967</td>\n",
              "      <td>0.050011</td>\n",
              "      <td>0.266067</td>\n",
              "      <td>-0.054861</td>\n",
              "      <td>-0.177084</td>\n",
              "      <td>0.174360</td>\n",
              "      <td>0.578531</td>\n",
              "      <td>-0.388236</td>\n",
              "      <td>0.011112</td>\n",
              "      <td>-0.038688</td>\n",
              "      <td>0.001259</td>\n",
              "      <td>0.000589</td>\n",
              "      <td>0.021445</td>\n",
              "      <td>0.003434</td>\n",
              "      <td>1.0</td>\n",
              "    </tr>\n",
              "    <tr>\n",
              "      <th>3</th>\n",
              "      <td>-0.308571</td>\n",
              "      <td>-0.629810</td>\n",
              "      <td>-0.319401</td>\n",
              "      <td>0.024685</td>\n",
              "      <td>0.024791</td>\n",
              "      <td>0.022992</td>\n",
              "      <td>-0.016242</td>\n",
              "      <td>-0.025476</td>\n",
              "      <td>-0.020002</td>\n",
              "      <td>-0.013151</td>\n",
              "      <td>0.000205</td>\n",
              "      <td>-0.008274</td>\n",
              "      <td>-0.006988</td>\n",
              "      <td>-0.000989</td>\n",
              "      <td>1.0</td>\n",
              "    </tr>\n",
              "    <tr>\n",
              "      <th>4</th>\n",
              "      <td>1.521896</td>\n",
              "      <td>0.530990</td>\n",
              "      <td>-0.549514</td>\n",
              "      <td>0.042019</td>\n",
              "      <td>0.114641</td>\n",
              "      <td>-0.026168</td>\n",
              "      <td>-0.022169</td>\n",
              "      <td>0.064357</td>\n",
              "      <td>0.005977</td>\n",
              "      <td>-0.033621</td>\n",
              "      <td>0.000601</td>\n",
              "      <td>-0.013309</td>\n",
              "      <td>0.001354</td>\n",
              "      <td>0.000362</td>\n",
              "      <td>1.0</td>\n",
              "    </tr>\n",
              "    <tr>\n",
              "      <th>...</th>\n",
              "      <td>...</td>\n",
              "      <td>...</td>\n",
              "      <td>...</td>\n",
              "      <td>...</td>\n",
              "      <td>...</td>\n",
              "      <td>...</td>\n",
              "      <td>...</td>\n",
              "      <td>...</td>\n",
              "      <td>...</td>\n",
              "      <td>...</td>\n",
              "      <td>...</td>\n",
              "      <td>...</td>\n",
              "      <td>...</td>\n",
              "      <td>...</td>\n",
              "      <td>...</td>\n",
              "    </tr>\n",
              "    <tr>\n",
              "      <th>838855</th>\n",
              "      <td>-0.728536</td>\n",
              "      <td>0.520194</td>\n",
              "      <td>0.030937</td>\n",
              "      <td>-0.180161</td>\n",
              "      <td>0.030813</td>\n",
              "      <td>-0.060100</td>\n",
              "      <td>0.013331</td>\n",
              "      <td>0.020316</td>\n",
              "      <td>-0.015227</td>\n",
              "      <td>-0.001446</td>\n",
              "      <td>-0.009019</td>\n",
              "      <td>-0.003508</td>\n",
              "      <td>0.000834</td>\n",
              "      <td>-0.016386</td>\n",
              "      <td>1.0</td>\n",
              "    </tr>\n",
              "    <tr>\n",
              "      <th>838856</th>\n",
              "      <td>-0.663034</td>\n",
              "      <td>0.386312</td>\n",
              "      <td>0.027503</td>\n",
              "      <td>-0.075132</td>\n",
              "      <td>-0.038251</td>\n",
              "      <td>-0.416596</td>\n",
              "      <td>0.091421</td>\n",
              "      <td>0.032161</td>\n",
              "      <td>-0.023725</td>\n",
              "      <td>-0.002492</td>\n",
              "      <td>0.012474</td>\n",
              "      <td>-0.005146</td>\n",
              "      <td>0.000202</td>\n",
              "      <td>0.011690</td>\n",
              "      <td>1.0</td>\n",
              "    </tr>\n",
              "    <tr>\n",
              "      <th>838857</th>\n",
              "      <td>-0.298143</td>\n",
              "      <td>-0.634876</td>\n",
              "      <td>-0.310431</td>\n",
              "      <td>0.030924</td>\n",
              "      <td>0.050143</td>\n",
              "      <td>0.029729</td>\n",
              "      <td>0.008649</td>\n",
              "      <td>-0.001590</td>\n",
              "      <td>-0.017936</td>\n",
              "      <td>0.000670</td>\n",
              "      <td>-0.000101</td>\n",
              "      <td>0.000607</td>\n",
              "      <td>-0.001004</td>\n",
              "      <td>0.000175</td>\n",
              "      <td>1.0</td>\n",
              "    </tr>\n",
              "    <tr>\n",
              "      <th>838858</th>\n",
              "      <td>-0.663031</td>\n",
              "      <td>0.386307</td>\n",
              "      <td>0.027502</td>\n",
              "      <td>-0.075134</td>\n",
              "      <td>-0.038251</td>\n",
              "      <td>-0.416612</td>\n",
              "      <td>0.091426</td>\n",
              "      <td>0.032160</td>\n",
              "      <td>-0.023728</td>\n",
              "      <td>-0.002492</td>\n",
              "      <td>0.012503</td>\n",
              "      <td>-0.005141</td>\n",
              "      <td>0.000240</td>\n",
              "      <td>0.011352</td>\n",
              "      <td>1.0</td>\n",
              "    </tr>\n",
              "    <tr>\n",
              "      <th>838859</th>\n",
              "      <td>-0.231112</td>\n",
              "      <td>-0.200533</td>\n",
              "      <td>-0.002277</td>\n",
              "      <td>-0.065523</td>\n",
              "      <td>-0.211597</td>\n",
              "      <td>-0.150527</td>\n",
              "      <td>-0.107955</td>\n",
              "      <td>-0.032044</td>\n",
              "      <td>0.783707</td>\n",
              "      <td>-0.011667</td>\n",
              "      <td>-0.020889</td>\n",
              "      <td>0.007521</td>\n",
              "      <td>0.004832</td>\n",
              "      <td>-0.007844</td>\n",
              "      <td>-1.0</td>\n",
              "    </tr>\n",
              "  </tbody>\n",
              "</table>\n",
              "<p>838860 rows × 15 columns</p>\n",
              "</div>\n",
              "      <button class=\"colab-df-convert\" onclick=\"convertToInteractive('df-ae24bb14-6660-41c9-99c3-45002cd56882')\"\n",
              "              title=\"Convert this dataframe to an interactive table.\"\n",
              "              style=\"display:none;\">\n",
              "        \n",
              "  <svg xmlns=\"http://www.w3.org/2000/svg\" height=\"24px\"viewBox=\"0 0 24 24\"\n",
              "       width=\"24px\">\n",
              "    <path d=\"M0 0h24v24H0V0z\" fill=\"none\"/>\n",
              "    <path d=\"M18.56 5.44l.94 2.06.94-2.06 2.06-.94-2.06-.94-.94-2.06-.94 2.06-2.06.94zm-11 1L8.5 8.5l.94-2.06 2.06-.94-2.06-.94L8.5 2.5l-.94 2.06-2.06.94zm10 10l.94 2.06.94-2.06 2.06-.94-2.06-.94-.94-2.06-.94 2.06-2.06.94z\"/><path d=\"M17.41 7.96l-1.37-1.37c-.4-.4-.92-.59-1.43-.59-.52 0-1.04.2-1.43.59L10.3 9.45l-7.72 7.72c-.78.78-.78 2.05 0 2.83L4 21.41c.39.39.9.59 1.41.59.51 0 1.02-.2 1.41-.59l7.78-7.78 2.81-2.81c.8-.78.8-2.07 0-2.86zM5.41 20L4 18.59l7.72-7.72 1.47 1.35L5.41 20z\"/>\n",
              "  </svg>\n",
              "      </button>\n",
              "      \n",
              "  <style>\n",
              "    .colab-df-container {\n",
              "      display:flex;\n",
              "      flex-wrap:wrap;\n",
              "      gap: 12px;\n",
              "    }\n",
              "\n",
              "    .colab-df-convert {\n",
              "      background-color: #E8F0FE;\n",
              "      border: none;\n",
              "      border-radius: 50%;\n",
              "      cursor: pointer;\n",
              "      display: none;\n",
              "      fill: #1967D2;\n",
              "      height: 32px;\n",
              "      padding: 0 0 0 0;\n",
              "      width: 32px;\n",
              "    }\n",
              "\n",
              "    .colab-df-convert:hover {\n",
              "      background-color: #E2EBFA;\n",
              "      box-shadow: 0px 1px 2px rgba(60, 64, 67, 0.3), 0px 1px 3px 1px rgba(60, 64, 67, 0.15);\n",
              "      fill: #174EA6;\n",
              "    }\n",
              "\n",
              "    [theme=dark] .colab-df-convert {\n",
              "      background-color: #3B4455;\n",
              "      fill: #D2E3FC;\n",
              "    }\n",
              "\n",
              "    [theme=dark] .colab-df-convert:hover {\n",
              "      background-color: #434B5C;\n",
              "      box-shadow: 0px 1px 3px 1px rgba(0, 0, 0, 0.15);\n",
              "      filter: drop-shadow(0px 1px 2px rgba(0, 0, 0, 0.3));\n",
              "      fill: #FFFFFF;\n",
              "    }\n",
              "  </style>\n",
              "\n",
              "      <script>\n",
              "        const buttonEl =\n",
              "          document.querySelector('#df-ae24bb14-6660-41c9-99c3-45002cd56882 button.colab-df-convert');\n",
              "        buttonEl.style.display =\n",
              "          google.colab.kernel.accessAllowed ? 'block' : 'none';\n",
              "\n",
              "        async function convertToInteractive(key) {\n",
              "          const element = document.querySelector('#df-ae24bb14-6660-41c9-99c3-45002cd56882');\n",
              "          const dataTable =\n",
              "            await google.colab.kernel.invokeFunction('convertToInteractive',\n",
              "                                                     [key], {});\n",
              "          if (!dataTable) return;\n",
              "\n",
              "          const docLinkHtml = 'Like what you see? Visit the ' +\n",
              "            '<a target=\"_blank\" href=https://colab.research.google.com/notebooks/data_table.ipynb>data table notebook</a>'\n",
              "            + ' to learn more about interactive tables.';\n",
              "          element.innerHTML = '';\n",
              "          dataTable['output_type'] = 'display_data';\n",
              "          await google.colab.output.renderOutput(dataTable, element);\n",
              "          const docLink = document.createElement('div');\n",
              "          docLink.innerHTML = docLinkHtml;\n",
              "          element.appendChild(docLink);\n",
              "        }\n",
              "      </script>\n",
              "    </div>\n",
              "  </div>\n",
              "  "
            ],
            "text/plain": [
              "              0         1         2         3         4         5         6   \\\n",
              "0       1.512955  0.531165 -0.558414  0.037379  0.095728 -0.028075 -0.033240   \n",
              "1      -0.309697 -0.629726 -0.320951  0.024410  0.022276  0.022719 -0.018338   \n",
              "2       0.885967  0.050011  0.266067 -0.054861 -0.177084  0.174360  0.578531   \n",
              "3      -0.308571 -0.629810 -0.319401  0.024685  0.024791  0.022992 -0.016242   \n",
              "4       1.521896  0.530990 -0.549514  0.042019  0.114641 -0.026168 -0.022169   \n",
              "...          ...       ...       ...       ...       ...       ...       ...   \n",
              "838855 -0.728536  0.520194  0.030937 -0.180161  0.030813 -0.060100  0.013331   \n",
              "838856 -0.663034  0.386312  0.027503 -0.075132 -0.038251 -0.416596  0.091421   \n",
              "838857 -0.298143 -0.634876 -0.310431  0.030924  0.050143  0.029729  0.008649   \n",
              "838858 -0.663031  0.386307  0.027502 -0.075134 -0.038251 -0.416612  0.091426   \n",
              "838859 -0.231112 -0.200533 -0.002277 -0.065523 -0.211597 -0.150527 -0.107955   \n",
              "\n",
              "              7         8         9         10        11        12        13  \\\n",
              "0       0.059993  0.004110 -0.036152  0.000839 -0.010877 -0.012385 -0.001079   \n",
              "1      -0.027819 -0.020661 -0.014150 -0.000041 -0.003132  0.000481  0.000582   \n",
              "2      -0.388236  0.011112 -0.038688  0.001259  0.000589  0.021445  0.003434   \n",
              "3      -0.025476 -0.020002 -0.013151  0.000205 -0.008274 -0.006988 -0.000989   \n",
              "4       0.064357  0.005977 -0.033621  0.000601 -0.013309  0.001354  0.000362   \n",
              "...          ...       ...       ...       ...       ...       ...       ...   \n",
              "838855  0.020316 -0.015227 -0.001446 -0.009019 -0.003508  0.000834 -0.016386   \n",
              "838856  0.032161 -0.023725 -0.002492  0.012474 -0.005146  0.000202  0.011690   \n",
              "838857 -0.001590 -0.017936  0.000670 -0.000101  0.000607 -0.001004  0.000175   \n",
              "838858  0.032160 -0.023728 -0.002492  0.012503 -0.005141  0.000240  0.011352   \n",
              "838859 -0.032044  0.783707 -0.011667 -0.020889  0.007521  0.004832 -0.007844   \n",
              "\n",
              "         14  \n",
              "0       1.0  \n",
              "1       1.0  \n",
              "2       1.0  \n",
              "3       1.0  \n",
              "4       1.0  \n",
              "...     ...  \n",
              "838855  1.0  \n",
              "838856  1.0  \n",
              "838857  1.0  \n",
              "838858  1.0  \n",
              "838859 -1.0  \n",
              "\n",
              "[838860 rows x 15 columns]"
            ]
          },
          "metadata": {},
          "output_type": "display_data"
        }
      ],
      "source": [
        "train_df"
      ]
    },
    {
      "cell_type": "code",
      "execution_count": null,
      "metadata": {
        "colab": {
          "background_save": true
        },
        "id": "PskmgQSjqb7-",
        "outputId": "7d3e2a00-9d7b-4f9e-819e-a620dab4c0b7"
      },
      "outputs": [
        {
          "data": {
            "text/html": [
              "\n",
              "  <div id=\"df-f95038bc-f9b6-4313-b28c-1896b2be5ccf\">\n",
              "    <div class=\"colab-df-container\">\n",
              "      <div>\n",
              "<style scoped>\n",
              "    .dataframe tbody tr th:only-of-type {\n",
              "        vertical-align: middle;\n",
              "    }\n",
              "\n",
              "    .dataframe tbody tr th {\n",
              "        vertical-align: top;\n",
              "    }\n",
              "\n",
              "    .dataframe thead th {\n",
              "        text-align: right;\n",
              "    }\n",
              "</style>\n",
              "<table border=\"1\" class=\"dataframe\">\n",
              "  <thead>\n",
              "    <tr style=\"text-align: right;\">\n",
              "      <th></th>\n",
              "      <th>0</th>\n",
              "      <th>1</th>\n",
              "      <th>2</th>\n",
              "      <th>3</th>\n",
              "      <th>4</th>\n",
              "      <th>5</th>\n",
              "      <th>6</th>\n",
              "      <th>7</th>\n",
              "      <th>8</th>\n",
              "      <th>9</th>\n",
              "      <th>10</th>\n",
              "      <th>11</th>\n",
              "      <th>12</th>\n",
              "      <th>13</th>\n",
              "      <th>14</th>\n",
              "    </tr>\n",
              "  </thead>\n",
              "  <tbody>\n",
              "    <tr>\n",
              "      <th>0</th>\n",
              "      <td>-0.792516</td>\n",
              "      <td>0.649505</td>\n",
              "      <td>0.034861</td>\n",
              "      <td>-0.272515</td>\n",
              "      <td>0.094717</td>\n",
              "      <td>0.288646</td>\n",
              "      <td>-0.064613</td>\n",
              "      <td>0.010195</td>\n",
              "      <td>-0.002847</td>\n",
              "      <td>-0.001075</td>\n",
              "      <td>-0.070835</td>\n",
              "      <td>-0.008731</td>\n",
              "      <td>-0.053683</td>\n",
              "      <td>0.457608</td>\n",
              "      <td>-1.0</td>\n",
              "    </tr>\n",
              "    <tr>\n",
              "      <th>1</th>\n",
              "      <td>-0.766339</td>\n",
              "      <td>0.590949</td>\n",
              "      <td>0.094775</td>\n",
              "      <td>1.257180</td>\n",
              "      <td>-0.271995</td>\n",
              "      <td>-0.085771</td>\n",
              "      <td>0.042739</td>\n",
              "      <td>0.024283</td>\n",
              "      <td>-0.007664</td>\n",
              "      <td>-0.000941</td>\n",
              "      <td>-0.034155</td>\n",
              "      <td>-0.005944</td>\n",
              "      <td>-0.009955</td>\n",
              "      <td>-0.025947</td>\n",
              "      <td>1.0</td>\n",
              "    </tr>\n",
              "    <tr>\n",
              "      <th>2</th>\n",
              "      <td>-0.309099</td>\n",
              "      <td>-0.629492</td>\n",
              "      <td>-0.319778</td>\n",
              "      <td>0.024320</td>\n",
              "      <td>0.023482</td>\n",
              "      <td>0.022601</td>\n",
              "      <td>-0.017578</td>\n",
              "      <td>-0.026712</td>\n",
              "      <td>-0.020048</td>\n",
              "      <td>-0.013912</td>\n",
              "      <td>0.000242</td>\n",
              "      <td>-0.009512</td>\n",
              "      <td>-0.008358</td>\n",
              "      <td>-0.001096</td>\n",
              "      <td>1.0</td>\n",
              "    </tr>\n",
              "    <tr>\n",
              "      <th>3</th>\n",
              "      <td>-0.313307</td>\n",
              "      <td>-0.627547</td>\n",
              "      <td>-0.323449</td>\n",
              "      <td>0.021903</td>\n",
              "      <td>0.013482</td>\n",
              "      <td>0.019819</td>\n",
              "      <td>-0.027937</td>\n",
              "      <td>-0.036858</td>\n",
              "      <td>-0.021034</td>\n",
              "      <td>-0.019805</td>\n",
              "      <td>0.000327</td>\n",
              "      <td>-0.012210</td>\n",
              "      <td>-0.008878</td>\n",
              "      <td>-0.001445</td>\n",
              "      <td>1.0</td>\n",
              "    </tr>\n",
              "    <tr>\n",
              "      <th>4</th>\n",
              "      <td>0.432632</td>\n",
              "      <td>-0.202948</td>\n",
              "      <td>0.482260</td>\n",
              "      <td>-0.087885</td>\n",
              "      <td>-0.361119</td>\n",
              "      <td>0.025566</td>\n",
              "      <td>-0.072722</td>\n",
              "      <td>0.114504</td>\n",
              "      <td>-0.033278</td>\n",
              "      <td>-0.029229</td>\n",
              "      <td>-0.000742</td>\n",
              "      <td>-0.000474</td>\n",
              "      <td>-0.005898</td>\n",
              "      <td>-0.001007</td>\n",
              "      <td>1.0</td>\n",
              "    </tr>\n",
              "    <tr>\n",
              "      <th>...</th>\n",
              "      <td>...</td>\n",
              "      <td>...</td>\n",
              "      <td>...</td>\n",
              "      <td>...</td>\n",
              "      <td>...</td>\n",
              "      <td>...</td>\n",
              "      <td>...</td>\n",
              "      <td>...</td>\n",
              "      <td>...</td>\n",
              "      <td>...</td>\n",
              "      <td>...</td>\n",
              "      <td>...</td>\n",
              "      <td>...</td>\n",
              "      <td>...</td>\n",
              "      <td>...</td>\n",
              "    </tr>\n",
              "    <tr>\n",
              "      <th>209710</th>\n",
              "      <td>0.393254</td>\n",
              "      <td>-0.200868</td>\n",
              "      <td>0.447526</td>\n",
              "      <td>-0.102667</td>\n",
              "      <td>-0.430306</td>\n",
              "      <td>0.010494</td>\n",
              "      <td>-0.140218</td>\n",
              "      <td>0.061561</td>\n",
              "      <td>-0.042726</td>\n",
              "      <td>0.005966</td>\n",
              "      <td>-0.001706</td>\n",
              "      <td>0.027068</td>\n",
              "      <td>0.018720</td>\n",
              "      <td>0.001516</td>\n",
              "      <td>1.0</td>\n",
              "    </tr>\n",
              "    <tr>\n",
              "      <th>209711</th>\n",
              "      <td>-0.675092</td>\n",
              "      <td>0.410971</td>\n",
              "      <td>0.028130</td>\n",
              "      <td>-0.094565</td>\n",
              "      <td>-0.025503</td>\n",
              "      <td>-0.350979</td>\n",
              "      <td>0.077063</td>\n",
              "      <td>0.029966</td>\n",
              "      <td>-0.022200</td>\n",
              "      <td>-0.002293</td>\n",
              "      <td>0.008914</td>\n",
              "      <td>-0.004778</td>\n",
              "      <td>0.000854</td>\n",
              "      <td>0.001650</td>\n",
              "      <td>1.0</td>\n",
              "    </tr>\n",
              "    <tr>\n",
              "      <th>209712</th>\n",
              "      <td>-0.294290</td>\n",
              "      <td>-0.635985</td>\n",
              "      <td>-0.306155</td>\n",
              "      <td>0.032591</td>\n",
              "      <td>0.059178</td>\n",
              "      <td>0.031516</td>\n",
              "      <td>0.016904</td>\n",
              "      <td>0.006884</td>\n",
              "      <td>-0.016444</td>\n",
              "      <td>0.005001</td>\n",
              "      <td>0.000179</td>\n",
              "      <td>-0.005981</td>\n",
              "      <td>-0.011994</td>\n",
              "      <td>-0.001467</td>\n",
              "      <td>1.0</td>\n",
              "    </tr>\n",
              "    <tr>\n",
              "      <th>209713</th>\n",
              "      <td>-0.299852</td>\n",
              "      <td>-0.633966</td>\n",
              "      <td>-0.311799</td>\n",
              "      <td>0.029827</td>\n",
              "      <td>0.045944</td>\n",
              "      <td>0.028531</td>\n",
              "      <td>0.004463</td>\n",
              "      <td>-0.005552</td>\n",
              "      <td>-0.018199</td>\n",
              "      <td>-0.001685</td>\n",
              "      <td>0.000019</td>\n",
              "      <td>-0.001942</td>\n",
              "      <td>-0.003417</td>\n",
              "      <td>-0.000553</td>\n",
              "      <td>1.0</td>\n",
              "    </tr>\n",
              "    <tr>\n",
              "      <th>209714</th>\n",
              "      <td>-0.290773</td>\n",
              "      <td>-0.637951</td>\n",
              "      <td>-0.303449</td>\n",
              "      <td>0.034903</td>\n",
              "      <td>0.067835</td>\n",
              "      <td>0.033997</td>\n",
              "      <td>0.025617</td>\n",
              "      <td>0.015055</td>\n",
              "      <td>-0.015991</td>\n",
              "      <td>0.009923</td>\n",
              "      <td>-0.000015</td>\n",
              "      <td>0.000316</td>\n",
              "      <td>-0.005517</td>\n",
              "      <td>-0.000855</td>\n",
              "      <td>1.0</td>\n",
              "    </tr>\n",
              "  </tbody>\n",
              "</table>\n",
              "<p>209715 rows × 15 columns</p>\n",
              "</div>\n",
              "      <button class=\"colab-df-convert\" onclick=\"convertToInteractive('df-f95038bc-f9b6-4313-b28c-1896b2be5ccf')\"\n",
              "              title=\"Convert this dataframe to an interactive table.\"\n",
              "              style=\"display:none;\">\n",
              "        \n",
              "  <svg xmlns=\"http://www.w3.org/2000/svg\" height=\"24px\"viewBox=\"0 0 24 24\"\n",
              "       width=\"24px\">\n",
              "    <path d=\"M0 0h24v24H0V0z\" fill=\"none\"/>\n",
              "    <path d=\"M18.56 5.44l.94 2.06.94-2.06 2.06-.94-2.06-.94-.94-2.06-.94 2.06-2.06.94zm-11 1L8.5 8.5l.94-2.06 2.06-.94-2.06-.94L8.5 2.5l-.94 2.06-2.06.94zm10 10l.94 2.06.94-2.06 2.06-.94-2.06-.94-.94-2.06-.94 2.06-2.06.94z\"/><path d=\"M17.41 7.96l-1.37-1.37c-.4-.4-.92-.59-1.43-.59-.52 0-1.04.2-1.43.59L10.3 9.45l-7.72 7.72c-.78.78-.78 2.05 0 2.83L4 21.41c.39.39.9.59 1.41.59.51 0 1.02-.2 1.41-.59l7.78-7.78 2.81-2.81c.8-.78.8-2.07 0-2.86zM5.41 20L4 18.59l7.72-7.72 1.47 1.35L5.41 20z\"/>\n",
              "  </svg>\n",
              "      </button>\n",
              "      \n",
              "  <style>\n",
              "    .colab-df-container {\n",
              "      display:flex;\n",
              "      flex-wrap:wrap;\n",
              "      gap: 12px;\n",
              "    }\n",
              "\n",
              "    .colab-df-convert {\n",
              "      background-color: #E8F0FE;\n",
              "      border: none;\n",
              "      border-radius: 50%;\n",
              "      cursor: pointer;\n",
              "      display: none;\n",
              "      fill: #1967D2;\n",
              "      height: 32px;\n",
              "      padding: 0 0 0 0;\n",
              "      width: 32px;\n",
              "    }\n",
              "\n",
              "    .colab-df-convert:hover {\n",
              "      background-color: #E2EBFA;\n",
              "      box-shadow: 0px 1px 2px rgba(60, 64, 67, 0.3), 0px 1px 3px 1px rgba(60, 64, 67, 0.15);\n",
              "      fill: #174EA6;\n",
              "    }\n",
              "\n",
              "    [theme=dark] .colab-df-convert {\n",
              "      background-color: #3B4455;\n",
              "      fill: #D2E3FC;\n",
              "    }\n",
              "\n",
              "    [theme=dark] .colab-df-convert:hover {\n",
              "      background-color: #434B5C;\n",
              "      box-shadow: 0px 1px 3px 1px rgba(0, 0, 0, 0.15);\n",
              "      filter: drop-shadow(0px 1px 2px rgba(0, 0, 0, 0.3));\n",
              "      fill: #FFFFFF;\n",
              "    }\n",
              "  </style>\n",
              "\n",
              "      <script>\n",
              "        const buttonEl =\n",
              "          document.querySelector('#df-f95038bc-f9b6-4313-b28c-1896b2be5ccf button.colab-df-convert');\n",
              "        buttonEl.style.display =\n",
              "          google.colab.kernel.accessAllowed ? 'block' : 'none';\n",
              "\n",
              "        async function convertToInteractive(key) {\n",
              "          const element = document.querySelector('#df-f95038bc-f9b6-4313-b28c-1896b2be5ccf');\n",
              "          const dataTable =\n",
              "            await google.colab.kernel.invokeFunction('convertToInteractive',\n",
              "                                                     [key], {});\n",
              "          if (!dataTable) return;\n",
              "\n",
              "          const docLinkHtml = 'Like what you see? Visit the ' +\n",
              "            '<a target=\"_blank\" href=https://colab.research.google.com/notebooks/data_table.ipynb>data table notebook</a>'\n",
              "            + ' to learn more about interactive tables.';\n",
              "          element.innerHTML = '';\n",
              "          dataTable['output_type'] = 'display_data';\n",
              "          await google.colab.output.renderOutput(dataTable, element);\n",
              "          const docLink = document.createElement('div');\n",
              "          docLink.innerHTML = docLinkHtml;\n",
              "          element.appendChild(docLink);\n",
              "        }\n",
              "      </script>\n",
              "    </div>\n",
              "  </div>\n",
              "  "
            ],
            "text/plain": [
              "              0         1         2         3         4         5         6   \\\n",
              "0      -0.792516  0.649505  0.034861 -0.272515  0.094717  0.288646 -0.064613   \n",
              "1      -0.766339  0.590949  0.094775  1.257180 -0.271995 -0.085771  0.042739   \n",
              "2      -0.309099 -0.629492 -0.319778  0.024320  0.023482  0.022601 -0.017578   \n",
              "3      -0.313307 -0.627547 -0.323449  0.021903  0.013482  0.019819 -0.027937   \n",
              "4       0.432632 -0.202948  0.482260 -0.087885 -0.361119  0.025566 -0.072722   \n",
              "...          ...       ...       ...       ...       ...       ...       ...   \n",
              "209710  0.393254 -0.200868  0.447526 -0.102667 -0.430306  0.010494 -0.140218   \n",
              "209711 -0.675092  0.410971  0.028130 -0.094565 -0.025503 -0.350979  0.077063   \n",
              "209712 -0.294290 -0.635985 -0.306155  0.032591  0.059178  0.031516  0.016904   \n",
              "209713 -0.299852 -0.633966 -0.311799  0.029827  0.045944  0.028531  0.004463   \n",
              "209714 -0.290773 -0.637951 -0.303449  0.034903  0.067835  0.033997  0.025617   \n",
              "\n",
              "              7         8         9         10        11        12        13  \\\n",
              "0       0.010195 -0.002847 -0.001075 -0.070835 -0.008731 -0.053683  0.457608   \n",
              "1       0.024283 -0.007664 -0.000941 -0.034155 -0.005944 -0.009955 -0.025947   \n",
              "2      -0.026712 -0.020048 -0.013912  0.000242 -0.009512 -0.008358 -0.001096   \n",
              "3      -0.036858 -0.021034 -0.019805  0.000327 -0.012210 -0.008878 -0.001445   \n",
              "4       0.114504 -0.033278 -0.029229 -0.000742 -0.000474 -0.005898 -0.001007   \n",
              "...          ...       ...       ...       ...       ...       ...       ...   \n",
              "209710  0.061561 -0.042726  0.005966 -0.001706  0.027068  0.018720  0.001516   \n",
              "209711  0.029966 -0.022200 -0.002293  0.008914 -0.004778  0.000854  0.001650   \n",
              "209712  0.006884 -0.016444  0.005001  0.000179 -0.005981 -0.011994 -0.001467   \n",
              "209713 -0.005552 -0.018199 -0.001685  0.000019 -0.001942 -0.003417 -0.000553   \n",
              "209714  0.015055 -0.015991  0.009923 -0.000015  0.000316 -0.005517 -0.000855   \n",
              "\n",
              "         14  \n",
              "0      -1.0  \n",
              "1       1.0  \n",
              "2       1.0  \n",
              "3       1.0  \n",
              "4       1.0  \n",
              "...     ...  \n",
              "209710  1.0  \n",
              "209711  1.0  \n",
              "209712  1.0  \n",
              "209713  1.0  \n",
              "209714  1.0  \n",
              "\n",
              "[209715 rows x 15 columns]"
            ]
          },
          "metadata": {},
          "output_type": "display_data"
        }
      ],
      "source": [
        "test_df"
      ]
    },
    {
      "cell_type": "code",
      "execution_count": null,
      "metadata": {
        "colab": {
          "background_save": true
        },
        "id": "BxMvKEetpL2j",
        "outputId": "bd8a144e-d5ae-495d-9d30-97f03333c655"
      },
      "outputs": [
        {
          "data": {
            "image/png": "[encoded data removed]",
            "text/plain": [
              "<Figure size 432x288 with 1 Axes>"
            ]
          },
          "metadata": {},
          "output_type": "display_data"
        }
      ],
      "source": [
        "import matplotlib.pyplot as plt\n",
        "\n",
        "# Calculate train and test accuracy\n",
        "train_acc = lr.score(X_train_combined, y_train)\n",
        "test_acc = lr.score(X_test_combined, y_test)\n",
        "\n",
        "# Plot a bar graph\n",
        "plt.bar(['Train Accuracy', 'Test Accuracy'], [train_acc, test_acc])\n",
        "plt.title('Accuracy Comparison')\n",
        "plt.xlabel('Accuracy')\n",
        "plt.ylabel('Score')\n",
        "plt.ylim(0, 1)\n",
        "plt.show()\n"
      ]
    },
    {
      "cell_type": "code",
      "execution_count": null,
      "metadata": {
        "colab": {
          "base_uri": "https://localhost:8080/"
        },
        "id": "SJOi-rjjltzn",
        "outputId": "fc4dda0a-01f3-44be-aa75-50014fefede0"
      },
      "outputs": [
        {
          "name": "stdout",
          "output_type": "stream",
          "text": [
            "Train F1 score: 0.999690517039\n",
            "Test F1 score: 0.999668570245\n"
          ]
        }
      ],
      "source": [
        "from sklearn.metrics import f1_score\n",
        "\n",
        "# Predict the labels for the train and test sets\n",
        "y_train_pred = lr.predict(X_train_combined)\n",
        "y_test_pred = lr.predict(X_test_combined)\n",
        "\n",
        "# Calculate the F1 score for train set\n",
        "f1_train = f1_score(y_train, y_train_pred, average='weighted')\n",
        "\n",
        "# Calculate the F1 score for test set\n",
        "f1_test = f1_score(y_test, y_test_pred, average='weighted')\n",
        "\n",
        "# Print the F1 score for train and test sets\n",
        "print(\"Train F1 score: {:.12f}\".format(f1_train))\n",
        "print(\"Test F1 score: {:.12f}\".format(f1_test))\n"
      ]
    },
    {
      "cell_type": "code",
      "execution_count": null,
      "metadata": {
        "id": "jb-b2EaehAaS"
      },
      "outputs": [],
      "source": [
        "\n",
        "\n",
        "# # Create a bar plot of the accuracy\n",
        "# plt.bar(['Training', 'Test'], [train_acc, test_acc])\n",
        "# plt.ylabel('Accuracy')\n",
        "# plt.title('Logistic Regression Model Accuracy')\n",
        "# plt.show()\n"
      ]
    },
    {
      "cell_type": "code",
      "execution_count": null,
      "metadata": {
        "id": "zVOH6XNZrhjV"
      },
      "outputs": [],
      "source": [
        "\n",
        "\n",
        "\n",
        "\n"
      ]
    },
    {
      "cell_type": "code",
      "execution_count": null,
      "metadata": {
        "colab": {
          "background_save": true,
          "base_uri": "https://localhost:8080/"
        },
        "id": "bqw1Vy-_VLiW",
        "outputId": "a0c09e13-b31b-4be7-95b9-c3ec1f6e016d"
      },
      "outputs": [
        {
          "name": "stdout",
          "output_type": "stream",
          "text": [
            "Training accuracy: 99.975800491143%\n",
            "Test accuracy: 99.974727606514%\n"
          ]
        }
      ],
      "source": [
        "\n",
        "# logreg = LogisticRegression(random_state=42)\n",
        "\n",
        "# Fit the model to the training data\n",
        "lr.fit(X_train_rfe, y_train)\n",
        "# logreg.fit(X_test_rfe, y_test)\n",
        "\n",
        "# Make predictions on the training and test data\n",
        "y_train_pred = lr.predict(X_train_rfe)\n",
        "y_test_pred = lr.predict(X_test_rfe)\n",
        "\n",
        "# Calculate accuracy scores\n",
        "train_accuracy = accuracy_score(y_train, y_train_pred)\n",
        "test_accuracy = accuracy_score(y_test, y_test_pred)\n",
        "\n",
        "# Print the results\n",
        "print(\"Training accuracy: {:.12f}%\".format(train_accuracy*100))\n",
        "print(\"Test accuracy: {:.12f}%\".format(test_accuracy*100))"
      ]
    },
    {
      "cell_type": "code",
      "execution_count": null,
      "metadata": {
        "id": "bPpy3mJaY0tu"
      },
      "outputs": [],
      "source": []
    },
    {
      "cell_type": "code",
      "execution_count": null,
      "metadata": {
        "colab": {
          "background_save": true,
          "base_uri": "https://localhost:8080/",
          "height": 295
        },
        "id": "h68__ZD4pwAD",
        "outputId": "b7083772-af99-442d-8136-5a71d67a9770"
      },
      "outputs": [
        {
          "data": {
            "image/png": "[encoded data removed]",
            "text/plain": [
              "<Figure size 432x288 with 1 Axes>"
            ]
          },
          "metadata": {},
          "output_type": "display_data"
        }
      ],
      "source": [
        "import matplotlib.pyplot as plt\n",
        "from sklearn.metrics import accuracy_score\n",
        "\n",
        "# Calculate train and test accuracy\n",
        "train_accuracy = accuracy_score(y_train, y_train_pred)\n",
        "test_accuracy = accuracy_score(y_test, y_test_pred)\n",
        "\n",
        "# Create a bar plot\n",
        "plt.bar(['Train Accuracy', 'Test Accuracy'], [train_accuracy, test_accuracy])\n",
        "plt.title('Accuracy Comparison')\n",
        "plt.xlabel('Accuracy')\n",
        "plt.ylabel('Score')\n",
        "plt.ylim(0, 1) # set the y-axis limit from 0 to 1\n",
        "plt.show()\n"
      ]
    },
    {
      "cell_type": "code",
      "execution_count": null,
      "metadata": {
        "colab": {
          "background_save": true,
          "base_uri": "https://localhost:8080/"
        },
        "id": "wVA3G4f0j62e",
        "outputId": "ebbdc2b1-23b4-4664-a1db-72df14d43785"
      },
      "outputs": [
        {
          "name": "stdout",
          "output_type": "stream",
          "text": [
            "Train F1 score: 0.999690517039\n",
            "Test F1 score: 0.999670648768\n"
          ]
        }
      ],
      "source": [
        "from sklearn.metrics import f1_score\n",
        "\n",
        "# Calculate the F1 score for train set\n",
        "f1_train = f1_score(y_train, y_train_pred, average='weighted')\n",
        "\n",
        "# Calculate the F1 score for test set\n",
        "f1_test = f1_score(y_test, y_test_pred, average='weighted')\n",
        "\n",
        "# Print the F1 score for train and test set\n",
        "print(\"Train F1 score: {:.12f}\".format(f1_train))\n",
        "print(\"Test F1 score: {:.12f}\".format(f1_test))\n"
      ]
    },
    {
      "cell_type": "code",
      "execution_count": null,
      "metadata": {
        "id": "kQUOfxSehZ5-"
      },
      "outputs": [],
      "source": [
        "# import matplotlib.pyplot as plt\n",
        "# import seaborn as sns\n",
        "\n",
        "# # Plot histogram of y_train\n",
        "# sns.set(style='whitegrid')\n",
        "# plt.hist(y_train, alpha=0.5, color='blue', label='y_train')\n",
        "# plt.hist(y_train_pred, alpha=0.5, color='red', label='y_train_pred')\n",
        "# plt.title('Histogram of y_train and y_train_pred')\n",
        "# plt.xlabel('Class')\n",
        "# plt.ylabel('Frequency')\n",
        "# plt.legend(loc='upper right')\n",
        "# plt.show()\n"
      ]
    },
    {
      "cell_type": "code",
      "execution_count": null,
      "metadata": {
        "id": "cEh56tAxiK3F"
      },
      "outputs": [],
      "source": [
        "# from sklearn.metrics import f1_score\n",
        "\n",
        "# # Calculate the F1 score for train set\n",
        "# f1_train = f1_score(y_train, y_train_pred, average='weighted')\n",
        "\n",
        "# # Calculate the F1 score for test set\n",
        "# f1_test = f1_score(y_test, y_test_pred, average='weighted')\n",
        "\n",
        "# # Print the F1 score for train and test set\n",
        "# print(\"Train F1 score: {:.12f}\".format(f1_train))\n",
        "# print(\"Test F1 score: {:.12f}\".format(f1_test))\n",
        "\n"
      ]
    },
    {
      "cell_type": "code",
      "execution_count": null,
      "metadata": {
        "id": "W94Hl7w1iqqQ"
      },
      "outputs": [],
      "source": [
        "# import matplotlib.pyplot as plt\n",
        "# import seaborn as sns\n",
        "\n",
        "# # Plot histogram of y_test\n",
        "# sns.set(style='whitegrid')\n",
        "# plt.hist(y_test, alpha=0.5, color='blue', label='y_test')\n",
        "# plt.hist(y_test_pred, alpha=0.5, color='red', label='y_test_pred')\n",
        "# plt.title('Histogram of y_test and y_test_pred')\n",
        "# plt.xlabel('Class')\n",
        "# plt.ylabel('Frequency')\n",
        "# plt.legend(loc='upper right')\n",
        "# plt.show()"
      ]
    },
    {
      "cell_type": "code",
      "execution_count": null,
      "metadata": {
        "id": "PP2D1Ju1hl5t"
      },
      "outputs": [],
      "source": [
        "\n",
        "# # Create a bar plot of the accuracy\n",
        "# plt.bar(['Training', 'Test'], [train_accuracy, test_accuracy])\n",
        "# plt.ylabel('Accuracy')\n",
        "# plt.title('Logistic Regression Model Accuracy')\n",
        "# plt.show()"
      ]
    },
    {
      "cell_type": "code",
      "execution_count": null,
      "metadata": {
        "colab": {
          "background_save": true
        },
        "id": "y1eHBGvHe1jL"
      },
      "outputs": [],
      "source": [
        "df_train_pred = pd.DataFrame({'y_train_pred': y_train_pred})\n",
        "df_test_pred = pd.DataFrame({'y_test_pred': y_test_pred})"
      ]
    },
    {
      "cell_type": "code",
      "execution_count": null,
      "metadata": {
        "id": "reY7Oa8GK8Vd"
      },
      "outputs": [],
      "source": []
    },
    {
      "cell_type": "code",
      "execution_count": null,
      "metadata": {
        "colab": {
          "background_save": true,
          "base_uri": "https://localhost:8080/",
          "height": 455
        },
        "id": "77BvhrSoe7Py",
        "outputId": "b204def8-8038-4485-d384-5b97a3ded120"
      },
      "outputs": [
        {
          "data": {
            "text/html": [
              "\n",
              "  <div id=\"df-6a2ac457-7917-42a0-a2fc-5316221bdf59\">\n",
              "    <div class=\"colab-df-container\">\n",
              "      <div>\n",
              "<style scoped>\n",
              "    .dataframe tbody tr th:only-of-type {\n",
              "        vertical-align: middle;\n",
              "    }\n",
              "\n",
              "    .dataframe tbody tr th {\n",
              "        vertical-align: top;\n",
              "    }\n",
              "\n",
              "    .dataframe thead th {\n",
              "        text-align: right;\n",
              "    }\n",
              "</style>\n",
              "<table border=\"1\" class=\"dataframe\">\n",
              "  <thead>\n",
              "    <tr style=\"text-align: right;\">\n",
              "      <th></th>\n",
              "      <th>y_train_pred</th>\n",
              "    </tr>\n",
              "  </thead>\n",
              "  <tbody>\n",
              "    <tr>\n",
              "      <th>0</th>\n",
              "      <td>Benign</td>\n",
              "    </tr>\n",
              "    <tr>\n",
              "      <th>1</th>\n",
              "      <td>Benign</td>\n",
              "    </tr>\n",
              "    <tr>\n",
              "      <th>2</th>\n",
              "      <td>Benign</td>\n",
              "    </tr>\n",
              "    <tr>\n",
              "      <th>3</th>\n",
              "      <td>Benign</td>\n",
              "    </tr>\n",
              "    <tr>\n",
              "      <th>4</th>\n",
              "      <td>Benign</td>\n",
              "    </tr>\n",
              "    <tr>\n",
              "      <th>...</th>\n",
              "      <td>...</td>\n",
              "    </tr>\n",
              "    <tr>\n",
              "      <th>838855</th>\n",
              "      <td>Benign</td>\n",
              "    </tr>\n",
              "    <tr>\n",
              "      <th>838856</th>\n",
              "      <td>Benign</td>\n",
              "    </tr>\n",
              "    <tr>\n",
              "      <th>838857</th>\n",
              "      <td>Benign</td>\n",
              "    </tr>\n",
              "    <tr>\n",
              "      <th>838858</th>\n",
              "      <td>Benign</td>\n",
              "    </tr>\n",
              "    <tr>\n",
              "      <th>838859</th>\n",
              "      <td>Benign</td>\n",
              "    </tr>\n",
              "  </tbody>\n",
              "</table>\n",
              "<p>838860 rows × 1 columns</p>\n",
              "</div>\n",
              "      <button class=\"colab-df-convert\" onclick=\"convertToInteractive('df-6a2ac457-7917-42a0-a2fc-5316221bdf59')\"\n",
              "              title=\"Convert this dataframe to an interactive table.\"\n",
              "              style=\"display:none;\">\n",
              "        \n",
              "  <svg xmlns=\"http://www.w3.org/2000/svg\" height=\"24px\"viewBox=\"0 0 24 24\"\n",
              "       width=\"24px\">\n",
              "    <path d=\"M0 0h24v24H0V0z\" fill=\"none\"/>\n",
              "    <path d=\"M18.56 5.44l.94 2.06.94-2.06 2.06-.94-2.06-.94-.94-2.06-.94 2.06-2.06.94zm-11 1L8.5 8.5l.94-2.06 2.06-.94-2.06-.94L8.5 2.5l-.94 2.06-2.06.94zm10 10l.94 2.06.94-2.06 2.06-.94-2.06-.94-.94-2.06-.94 2.06-2.06.94z\"/><path d=\"M17.41 7.96l-1.37-1.37c-.4-.4-.92-.59-1.43-.59-.52 0-1.04.2-1.43.59L10.3 9.45l-7.72 7.72c-.78.78-.78 2.05 0 2.83L4 21.41c.39.39.9.59 1.41.59.51 0 1.02-.2 1.41-.59l7.78-7.78 2.81-2.81c.8-.78.8-2.07 0-2.86zM5.41 20L4 18.59l7.72-7.72 1.47 1.35L5.41 20z\"/>\n",
              "  </svg>\n",
              "      </button>\n",
              "      \n",
              "  <style>\n",
              "    .colab-df-container {\n",
              "      display:flex;\n",
              "      flex-wrap:wrap;\n",
              "      gap: 12px;\n",
              "    }\n",
              "\n",
              "    .colab-df-convert {\n",
              "      background-color: #E8F0FE;\n",
              "      border: none;\n",
              "      border-radius: 50%;\n",
              "      cursor: pointer;\n",
              "      display: none;\n",
              "      fill: #1967D2;\n",
              "      height: 32px;\n",
              "      padding: 0 0 0 0;\n",
              "      width: 32px;\n",
              "    }\n",
              "\n",
              "    .colab-df-convert:hover {\n",
              "      background-color: #E2EBFA;\n",
              "      box-shadow: 0px 1px 2px rgba(60, 64, 67, 0.3), 0px 1px 3px 1px rgba(60, 64, 67, 0.15);\n",
              "      fill: #174EA6;\n",
              "    }\n",
              "\n",
              "    [theme=dark] .colab-df-convert {\n",
              "      background-color: #3B4455;\n",
              "      fill: #D2E3FC;\n",
              "    }\n",
              "\n",
              "    [theme=dark] .colab-df-convert:hover {\n",
              "      background-color: #434B5C;\n",
              "      box-shadow: 0px 1px 3px 1px rgba(0, 0, 0, 0.15);\n",
              "      filter: drop-shadow(0px 1px 2px rgba(0, 0, 0, 0.3));\n",
              "      fill: #FFFFFF;\n",
              "    }\n",
              "  </style>\n",
              "\n",
              "      <script>\n",
              "        const buttonEl =\n",
              "          document.querySelector('#df-6a2ac457-7917-42a0-a2fc-5316221bdf59 button.colab-df-convert');\n",
              "        buttonEl.style.display =\n",
              "          google.colab.kernel.accessAllowed ? 'block' : 'none';\n",
              "\n",
              "        async function convertToInteractive(key) {\n",
              "          const element = document.querySelector('#df-6a2ac457-7917-42a0-a2fc-5316221bdf59');\n",
              "          const dataTable =\n",
              "            await google.colab.kernel.invokeFunction('convertToInteractive',\n",
              "                                                     [key], {});\n",
              "          if (!dataTable) return;\n",
              "\n",
              "          const docLinkHtml = 'Like what you see? Visit the ' +\n",
              "            '<a target=\"_blank\" href=https://colab.research.google.com/notebooks/data_table.ipynb>data table notebook</a>'\n",
              "            + ' to learn more about interactive tables.';\n",
              "          element.innerHTML = '';\n",
              "          dataTable['output_type'] = 'display_data';\n",
              "          await google.colab.output.renderOutput(dataTable, element);\n",
              "          const docLink = document.createElement('div');\n",
              "          docLink.innerHTML = docLinkHtml;\n",
              "          element.appendChild(docLink);\n",
              "        }\n",
              "      </script>\n",
              "    </div>\n",
              "  </div>\n",
              "  "
            ],
            "text/plain": [
              "       y_train_pred\n",
              "0            Benign\n",
              "1            Benign\n",
              "2            Benign\n",
              "3            Benign\n",
              "4            Benign\n",
              "...             ...\n",
              "838855       Benign\n",
              "838856       Benign\n",
              "838857       Benign\n",
              "838858       Benign\n",
              "838859       Benign\n",
              "\n",
              "[838860 rows x 1 columns]"
            ]
          },
          "metadata": {},
          "output_type": "display_data"
        }
      ],
      "source": [
        "df_train_pred"
      ]
    },
    {
      "cell_type": "code",
      "execution_count": null,
      "metadata": {
        "colab": {
          "background_save": true,
          "base_uri": "https://localhost:8080/",
          "height": 455
        },
        "id": "8TH_S3IWe8wT",
        "outputId": "fb44076c-652a-410e-fa0c-58e49abe4f04"
      },
      "outputs": [
        {
          "data": {
            "text/html": [
              "\n",
              "  <div id=\"df-9fb3c7a4-e299-4740-a0f9-9823740045eb\">\n",
              "    <div class=\"colab-df-container\">\n",
              "      <div>\n",
              "<style scoped>\n",
              "    .dataframe tbody tr th:only-of-type {\n",
              "        vertical-align: middle;\n",
              "    }\n",
              "\n",
              "    .dataframe tbody tr th {\n",
              "        vertical-align: top;\n",
              "    }\n",
              "\n",
              "    .dataframe thead th {\n",
              "        text-align: right;\n",
              "    }\n",
              "</style>\n",
              "<table border=\"1\" class=\"dataframe\">\n",
              "  <thead>\n",
              "    <tr style=\"text-align: right;\">\n",
              "      <th></th>\n",
              "      <th>y_test_pred</th>\n",
              "    </tr>\n",
              "  </thead>\n",
              "  <tbody>\n",
              "    <tr>\n",
              "      <th>0</th>\n",
              "      <td>Benign</td>\n",
              "    </tr>\n",
              "    <tr>\n",
              "      <th>1</th>\n",
              "      <td>Benign</td>\n",
              "    </tr>\n",
              "    <tr>\n",
              "      <th>2</th>\n",
              "      <td>Benign</td>\n",
              "    </tr>\n",
              "    <tr>\n",
              "      <th>3</th>\n",
              "      <td>Benign</td>\n",
              "    </tr>\n",
              "    <tr>\n",
              "      <th>4</th>\n",
              "      <td>Benign</td>\n",
              "    </tr>\n",
              "    <tr>\n",
              "      <th>...</th>\n",
              "      <td>...</td>\n",
              "    </tr>\n",
              "    <tr>\n",
              "      <th>209710</th>\n",
              "      <td>Benign</td>\n",
              "    </tr>\n",
              "    <tr>\n",
              "      <th>209711</th>\n",
              "      <td>Benign</td>\n",
              "    </tr>\n",
              "    <tr>\n",
              "      <th>209712</th>\n",
              "      <td>Benign</td>\n",
              "    </tr>\n",
              "    <tr>\n",
              "      <th>209713</th>\n",
              "      <td>Benign</td>\n",
              "    </tr>\n",
              "    <tr>\n",
              "      <th>209714</th>\n",
              "      <td>Benign</td>\n",
              "    </tr>\n",
              "  </tbody>\n",
              "</table>\n",
              "<p>209715 rows × 1 columns</p>\n",
              "</div>\n",
              "      <button class=\"colab-df-convert\" onclick=\"convertToInteractive('df-9fb3c7a4-e299-4740-a0f9-9823740045eb')\"\n",
              "              title=\"Convert this dataframe to an interactive table.\"\n",
              "              style=\"display:none;\">\n",
              "        \n",
              "  <svg xmlns=\"http://www.w3.org/2000/svg\" height=\"24px\"viewBox=\"0 0 24 24\"\n",
              "       width=\"24px\">\n",
              "    <path d=\"M0 0h24v24H0V0z\" fill=\"none\"/>\n",
              "    <path d=\"M18.56 5.44l.94 2.06.94-2.06 2.06-.94-2.06-.94-.94-2.06-.94 2.06-2.06.94zm-11 1L8.5 8.5l.94-2.06 2.06-.94-2.06-.94L8.5 2.5l-.94 2.06-2.06.94zm10 10l.94 2.06.94-2.06 2.06-.94-2.06-.94-.94-2.06-.94 2.06-2.06.94z\"/><path d=\"M17.41 7.96l-1.37-1.37c-.4-.4-.92-.59-1.43-.59-.52 0-1.04.2-1.43.59L10.3 9.45l-7.72 7.72c-.78.78-.78 2.05 0 2.83L4 21.41c.39.39.9.59 1.41.59.51 0 1.02-.2 1.41-.59l7.78-7.78 2.81-2.81c.8-.78.8-2.07 0-2.86zM5.41 20L4 18.59l7.72-7.72 1.47 1.35L5.41 20z\"/>\n",
              "  </svg>\n",
              "      </button>\n",
              "      \n",
              "  <style>\n",
              "    .colab-df-container {\n",
              "      display:flex;\n",
              "      flex-wrap:wrap;\n",
              "      gap: 12px;\n",
              "    }\n",
              "\n",
              "    .colab-df-convert {\n",
              "      background-color: #E8F0FE;\n",
              "      border: none;\n",
              "      border-radius: 50%;\n",
              "      cursor: pointer;\n",
              "      display: none;\n",
              "      fill: #1967D2;\n",
              "      height: 32px;\n",
              "      padding: 0 0 0 0;\n",
              "      width: 32px;\n",
              "    }\n",
              "\n",
              "    .colab-df-convert:hover {\n",
              "      background-color: #E2EBFA;\n",
              "      box-shadow: 0px 1px 2px rgba(60, 64, 67, 0.3), 0px 1px 3px 1px rgba(60, 64, 67, 0.15);\n",
              "      fill: #174EA6;\n",
              "    }\n",
              "\n",
              "    [theme=dark] .colab-df-convert {\n",
              "      background-color: #3B4455;\n",
              "      fill: #D2E3FC;\n",
              "    }\n",
              "\n",
              "    [theme=dark] .colab-df-convert:hover {\n",
              "      background-color: #434B5C;\n",
              "      box-shadow: 0px 1px 3px 1px rgba(0, 0, 0, 0.15);\n",
              "      filter: drop-shadow(0px 1px 2px rgba(0, 0, 0, 0.3));\n",
              "      fill: #FFFFFF;\n",
              "    }\n",
              "  </style>\n",
              "\n",
              "      <script>\n",
              "        const buttonEl =\n",
              "          document.querySelector('#df-9fb3c7a4-e299-4740-a0f9-9823740045eb button.colab-df-convert');\n",
              "        buttonEl.style.display =\n",
              "          google.colab.kernel.accessAllowed ? 'block' : 'none';\n",
              "\n",
              "        async function convertToInteractive(key) {\n",
              "          const element = document.querySelector('#df-9fb3c7a4-e299-4740-a0f9-9823740045eb');\n",
              "          const dataTable =\n",
              "            await google.colab.kernel.invokeFunction('convertToInteractive',\n",
              "                                                     [key], {});\n",
              "          if (!dataTable) return;\n",
              "\n",
              "          const docLinkHtml = 'Like what you see? Visit the ' +\n",
              "            '<a target=\"_blank\" href=https://colab.research.google.com/notebooks/data_table.ipynb>data table notebook</a>'\n",
              "            + ' to learn more about interactive tables.';\n",
              "          element.innerHTML = '';\n",
              "          dataTable['output_type'] = 'display_data';\n",
              "          await google.colab.output.renderOutput(dataTable, element);\n",
              "          const docLink = document.createElement('div');\n",
              "          docLink.innerHTML = docLinkHtml;\n",
              "          element.appendChild(docLink);\n",
              "        }\n",
              "      </script>\n",
              "    </div>\n",
              "  </div>\n",
              "  "
            ],
            "text/plain": [
              "       y_test_pred\n",
              "0           Benign\n",
              "1           Benign\n",
              "2           Benign\n",
              "3           Benign\n",
              "4           Benign\n",
              "...            ...\n",
              "209710      Benign\n",
              "209711      Benign\n",
              "209712      Benign\n",
              "209713      Benign\n",
              "209714      Benign\n",
              "\n",
              "[209715 rows x 1 columns]"
            ]
          },
          "metadata": {},
          "output_type": "display_data"
        }
      ],
      "source": [
        "df_test_pred"
      ]
    },
    {
      "cell_type": "code",
      "execution_count": null,
      "metadata": {
        "colab": {
          "base_uri": "https://localhost:8080/"
        },
        "id": "ozNS5w3DX-GF",
        "outputId": "21558875-1fd3-4bbb-b982-06491a292438"
      },
      "outputs": [
        {
          "name": "stdout",
          "output_type": "stream",
          "text": [
            "Predicted value: ['Brute Force -XSS']\n"
          ]
        }
      ],
      "source": [
        "# Assuming you have a trained model named `model`\n",
        "new_data = [[\t1063\t,1297,\t744\t,0\t,106.3,1027304\t,1.952608e+07\t,0.000000e+00,\t19526080\t,19526080,8\t,3\t,2018\t,2]]\n",
        "\n",
        "# Predict target variable value for new data point\n",
        "predicted_value = lr.predict(new_data)\n",
        "\n",
        "print(\"Predicted value:\", predicted_value)\n"
      ]
    },
    {
      "cell_type": "code",
      "execution_count": null,
      "metadata": {
        "id": "V8BsNEVPNah0"
      },
      "outputs": [],
      "source": []
    }
  ],
  "metadata": {
    "colab": {
      "provenance": []
    },
    "gpuClass": "standard",
    "kernelspec": {
      "display_name": "Python 3",
      "name": "python3"
    },
    "language_info": {
      "name": "python"
    },
    "widgets": {
      "application/vnd.jupyter.widget-state+json": {
        "184812dc29a84c3d8c2c5ce1b9ff0195": {
          "model_module": "@jupyter-widgets/controls",
          "model_module_version": "1.5.0",
          "model_name": "ButtonModel",
          "state": {
            "_dom_classes": [],
            "_model_module": "@jupyter-widgets/controls",
            "_model_module_version": "1.5.0",
            "_model_name": "ButtonModel",
            "_view_count": null,
            "_view_module": "@jupyter-widgets/controls",
            "_view_module_version": "1.5.0",
            "_view_name": "ButtonView",
            "button_style": "",
            "description": "Toggle Pandas/Lux",
            "disabled": false,
            "icon": "",
            "layout": "IPY_MODEL_78617936b5774bc28d17843b09086862",
            "style": "IPY_MODEL_f17432c0b17b4da8a30489dbed7dbc93",
            "tooltip": ""
          }
        },
        "26d8e6e8ec7a4f71a1ac9fe7fd858dae": {
          "model_module": "@jupyter-widgets/base",
          "model_module_version": "1.2.0",
          "model_name": "LayoutModel",
          "state": {
            "_model_module": "@jupyter-widgets/base",
            "_model_module_version": "1.2.0",
            "_model_name": "LayoutModel",
            "_view_count": null,
            "_view_module": "@jupyter-widgets/base",
            "_view_module_version": "1.2.0",
            "_view_name": "LayoutView",
            "align_content": null,
            "align_items": null,
            "align_self": null,
            "border": null,
            "bottom": null,
            "display": null,
            "flex": null,
            "flex_flow": null,
            "grid_area": null,
            "grid_auto_columns": null,
            "grid_auto_flow": null,
            "grid_auto_rows": null,
            "grid_column": null,
            "grid_gap": null,
            "grid_row": null,
            "grid_template_areas": null,
            "grid_template_columns": null,
            "grid_template_rows": null,
            "height": null,
            "justify_content": null,
            "justify_items": null,
            "left": null,
            "margin": null,
            "max_height": null,
            "max_width": null,
            "min_height": null,
            "min_width": null,
            "object_fit": null,
            "object_position": null,
            "order": null,
            "overflow": null,
            "overflow_x": null,
            "overflow_y": null,
            "padding": null,
            "right": null,
            "top": "5px",
            "visibility": null,
            "width": "140px"
          }
        },
        "36a15497ac7b4147ad6f1e1e2fe579e4": {
          "model_module": "@jupyter-widgets/controls",
          "model_module_version": "1.5.0",
          "model_name": "ButtonStyleModel",
          "state": {
            "_model_module": "@jupyter-widgets/controls",
            "_model_module_version": "1.5.0",
            "_model_name": "ButtonStyleModel",
            "_view_count": null,
            "_view_module": "@jupyter-widgets/base",
            "_view_module_version": "1.2.0",
            "_view_name": "StyleView",
            "button_color": null,
            "font_weight": ""
          }
        },
        "3b63856f1e5b48b5815914b22fcda687": {
          "model_module": "@jupyter-widgets/controls",
          "model_module_version": "1.5.0",
          "model_name": "ButtonModel",
          "state": {
            "_dom_classes": [],
            "_model_module": "@jupyter-widgets/controls",
            "_model_module_version": "1.5.0",
            "_model_name": "ButtonModel",
            "_view_count": null,
            "_view_module": "@jupyter-widgets/controls",
            "_view_module_version": "1.5.0",
            "_view_name": "ButtonView",
            "button_style": "",
            "description": "Toggle Pandas/Lux",
            "disabled": false,
            "icon": "",
            "layout": "IPY_MODEL_5fe00cd864d5416b96f47e1996560c1a",
            "style": "IPY_MODEL_6b91dc3de91840ae926ed9cab35f1494",
            "tooltip": ""
          }
        },
        "4fc743d76dde42e491de924181e90ee0": {
          "model_module": "@jupyter-widgets/controls",
          "model_module_version": "1.5.0",
          "model_name": "ButtonStyleModel",
          "state": {
            "_model_module": "@jupyter-widgets/controls",
            "_model_module_version": "1.5.0",
            "_model_name": "ButtonStyleModel",
            "_view_count": null,
            "_view_module": "@jupyter-widgets/base",
            "_view_module_version": "1.2.0",
            "_view_name": "StyleView",
            "button_color": null,
            "font_weight": ""
          }
        },
        "5094425b495e4e9f9be391fe0c46ed8a": {
          "model_module": "@jupyter-widgets/controls",
          "model_module_version": "1.5.0",
          "model_name": "ButtonStyleModel",
          "state": {
            "_model_module": "@jupyter-widgets/controls",
            "_model_module_version": "1.5.0",
            "_model_name": "ButtonStyleModel",
            "_view_count": null,
            "_view_module": "@jupyter-widgets/base",
            "_view_module_version": "1.2.0",
            "_view_name": "StyleView",
            "button_color": null,
            "font_weight": ""
          }
        },
        "59954f46ea5645da8241478096f98787": {
          "model_module": "@jupyter-widgets/base",
          "model_module_version": "1.2.0",
          "model_name": "LayoutModel",
          "state": {
            "_model_module": "@jupyter-widgets/base",
            "_model_module_version": "1.2.0",
            "_model_name": "LayoutModel",
            "_view_count": null,
            "_view_module": "@jupyter-widgets/base",
            "_view_module_version": "1.2.0",
            "_view_name": "LayoutView",
            "align_content": null,
            "align_items": null,
            "align_self": null,
            "border": null,
            "bottom": null,
            "display": null,
            "flex": null,
            "flex_flow": null,
            "grid_area": null,
            "grid_auto_columns": null,
            "grid_auto_flow": null,
            "grid_auto_rows": null,
            "grid_column": null,
            "grid_gap": null,
            "grid_row": null,
            "grid_template_areas": null,
            "grid_template_columns": null,
            "grid_template_rows": null,
            "height": null,
            "justify_content": null,
            "justify_items": null,
            "left": null,
            "margin": null,
            "max_height": null,
            "max_width": null,
            "min_height": null,
            "min_width": null,
            "object_fit": null,
            "object_position": null,
            "order": null,
            "overflow": null,
            "overflow_x": null,
            "overflow_y": null,
            "padding": null,
            "right": null,
            "top": null,
            "visibility": null,
            "width": null
          }
        },
        "5f016f4ba7c247038e936afc1fcd38aa": {
          "model_module": "@jupyter-widgets/base",
          "model_module_version": "1.2.0",
          "model_name": "LayoutModel",
          "state": {
            "_model_module": "@jupyter-widgets/base",
            "_model_module_version": "1.2.0",
            "_model_name": "LayoutModel",
            "_view_count": null,
            "_view_module": "@jupyter-widgets/base",
            "_view_module_version": "1.2.0",
            "_view_name": "LayoutView",
            "align_content": null,
            "align_items": null,
            "align_self": null,
            "border": null,
            "bottom": null,
            "display": null,
            "flex": null,
            "flex_flow": null,
            "grid_area": null,
            "grid_auto_columns": null,
            "grid_auto_flow": null,
            "grid_auto_rows": null,
            "grid_column": null,
            "grid_gap": null,
            "grid_row": null,
            "grid_template_areas": null,
            "grid_template_columns": null,
            "grid_template_rows": null,
            "height": null,
            "justify_content": null,
            "justify_items": null,
            "left": null,
            "margin": null,
            "max_height": null,
            "max_width": null,
            "min_height": null,
            "min_width": null,
            "object_fit": null,
            "object_position": null,
            "order": null,
            "overflow": null,
            "overflow_x": null,
            "overflow_y": null,
            "padding": null,
            "right": null,
            "top": "5px",
            "visibility": null,
            "width": "140px"
          }
        },
        "5f57bd25c27b46508daec39f0d3501e5": {
          "model_module": "@jupyter-widgets/base",
          "model_module_version": "1.2.0",
          "model_name": "LayoutModel",
          "state": {
            "_model_module": "@jupyter-widgets/base",
            "_model_module_version": "1.2.0",
            "_model_name": "LayoutModel",
            "_view_count": null,
            "_view_module": "@jupyter-widgets/base",
            "_view_module_version": "1.2.0",
            "_view_name": "LayoutView",
            "align_content": null,
            "align_items": null,
            "align_self": null,
            "border": null,
            "bottom": null,
            "display": null,
            "flex": null,
            "flex_flow": null,
            "grid_area": null,
            "grid_auto_columns": null,
            "grid_auto_flow": null,
            "grid_auto_rows": null,
            "grid_column": null,
            "grid_gap": null,
            "grid_row": null,
            "grid_template_areas": null,
            "grid_template_columns": null,
            "grid_template_rows": null,
            "height": null,
            "justify_content": null,
            "justify_items": null,
            "left": null,
            "margin": null,
            "max_height": null,
            "max_width": null,
            "min_height": null,
            "min_width": null,
            "object_fit": null,
            "object_position": null,
            "order": null,
            "overflow": null,
            "overflow_x": null,
            "overflow_y": null,
            "padding": null,
            "right": null,
            "top": null,
            "visibility": null,
            "width": null
          }
        },
        "5fe00cd864d5416b96f47e1996560c1a": {
          "model_module": "@jupyter-widgets/base",
          "model_module_version": "1.2.0",
          "model_name": "LayoutModel",
          "state": {
            "_model_module": "@jupyter-widgets/base",
            "_model_module_version": "1.2.0",
            "_model_name": "LayoutModel",
            "_view_count": null,
            "_view_module": "@jupyter-widgets/base",
            "_view_module_version": "1.2.0",
            "_view_name": "LayoutView",
            "align_content": null,
            "align_items": null,
            "align_self": null,
            "border": null,
            "bottom": null,
            "display": null,
            "flex": null,
            "flex_flow": null,
            "grid_area": null,
            "grid_auto_columns": null,
            "grid_auto_flow": null,
            "grid_auto_rows": null,
            "grid_column": null,
            "grid_gap": null,
            "grid_row": null,
            "grid_template_areas": null,
            "grid_template_columns": null,
            "grid_template_rows": null,
            "height": null,
            "justify_content": null,
            "justify_items": null,
            "left": null,
            "margin": null,
            "max_height": null,
            "max_width": null,
            "min_height": null,
            "min_width": null,
            "object_fit": null,
            "object_position": null,
            "order": null,
            "overflow": null,
            "overflow_x": null,
            "overflow_y": null,
            "padding": null,
            "right": null,
            "top": "5px",
            "visibility": null,
            "width": "140px"
          }
        },
        "6b91dc3de91840ae926ed9cab35f1494": {
          "model_module": "@jupyter-widgets/controls",
          "model_module_version": "1.5.0",
          "model_name": "ButtonStyleModel",
          "state": {
            "_model_module": "@jupyter-widgets/controls",
            "_model_module_version": "1.5.0",
            "_model_name": "ButtonStyleModel",
            "_view_count": null,
            "_view_module": "@jupyter-widgets/base",
            "_view_module_version": "1.2.0",
            "_view_name": "StyleView",
            "button_color": null,
            "font_weight": ""
          }
        },
        "70571366edd143cea95f74d2123e29c4": {
          "model_module": "@jupyter-widgets/controls",
          "model_module_version": "1.5.0",
          "model_name": "ButtonModel",
          "state": {
            "_dom_classes": [],
            "_model_module": "@jupyter-widgets/controls",
            "_model_module_version": "1.5.0",
            "_model_name": "ButtonModel",
            "_view_count": null,
            "_view_module": "@jupyter-widgets/controls",
            "_view_module_version": "1.5.0",
            "_view_name": "ButtonView",
            "button_style": "",
            "description": "Toggle Pandas/Lux",
            "disabled": false,
            "icon": "",
            "layout": "IPY_MODEL_5f016f4ba7c247038e936afc1fcd38aa",
            "style": "IPY_MODEL_36a15497ac7b4147ad6f1e1e2fe579e4",
            "tooltip": ""
          }
        },
        "78617936b5774bc28d17843b09086862": {
          "model_module": "@jupyter-widgets/base",
          "model_module_version": "1.2.0",
          "model_name": "LayoutModel",
          "state": {
            "_model_module": "@jupyter-widgets/base",
            "_model_module_version": "1.2.0",
            "_model_name": "LayoutModel",
            "_view_count": null,
            "_view_module": "@jupyter-widgets/base",
            "_view_module_version": "1.2.0",
            "_view_name": "LayoutView",
            "align_content": null,
            "align_items": null,
            "align_self": null,
            "border": null,
            "bottom": null,
            "display": null,
            "flex": null,
            "flex_flow": null,
            "grid_area": null,
            "grid_auto_columns": null,
            "grid_auto_flow": null,
            "grid_auto_rows": null,
            "grid_column": null,
            "grid_gap": null,
            "grid_row": null,
            "grid_template_areas": null,
            "grid_template_columns": null,
            "grid_template_rows": null,
            "height": null,
            "justify_content": null,
            "justify_items": null,
            "left": null,
            "margin": null,
            "max_height": null,
            "max_width": null,
            "min_height": null,
            "min_width": null,
            "object_fit": null,
            "object_position": null,
            "order": null,
            "overflow": null,
            "overflow_x": null,
            "overflow_y": null,
            "padding": null,
            "right": null,
            "top": "5px",
            "visibility": null,
            "width": "140px"
          }
        },
        "7ab25ee1309547079bf0b9fd3fbb6720": {
          "model_module": "@jupyter-widgets/controls",
          "model_module_version": "1.5.0",
          "model_name": "ButtonStyleModel",
          "state": {
            "_model_module": "@jupyter-widgets/controls",
            "_model_module_version": "1.5.0",
            "_model_name": "ButtonStyleModel",
            "_view_count": null,
            "_view_module": "@jupyter-widgets/base",
            "_view_module_version": "1.2.0",
            "_view_name": "StyleView",
            "button_color": null,
            "font_weight": ""
          }
        },
        "80ec7f5f00d44cbea2dbdeca7a940318": {
          "model_module": "@jupyter-widgets/base",
          "model_module_version": "1.2.0",
          "model_name": "LayoutModel",
          "state": {
            "_model_module": "@jupyter-widgets/base",
            "_model_module_version": "1.2.0",
            "_model_name": "LayoutModel",
            "_view_count": null,
            "_view_module": "@jupyter-widgets/base",
            "_view_module_version": "1.2.0",
            "_view_name": "LayoutView",
            "align_content": null,
            "align_items": null,
            "align_self": null,
            "border": null,
            "bottom": null,
            "display": null,
            "flex": null,
            "flex_flow": null,
            "grid_area": null,
            "grid_auto_columns": null,
            "grid_auto_flow": null,
            "grid_auto_rows": null,
            "grid_column": null,
            "grid_gap": null,
            "grid_row": null,
            "grid_template_areas": null,
            "grid_template_columns": null,
            "grid_template_rows": null,
            "height": null,
            "justify_content": null,
            "justify_items": null,
            "left": null,
            "margin": null,
            "max_height": null,
            "max_width": null,
            "min_height": null,
            "min_width": null,
            "object_fit": null,
            "object_position": null,
            "order": null,
            "overflow": null,
            "overflow_x": null,
            "overflow_y": null,
            "padding": null,
            "right": null,
            "top": "5px",
            "visibility": null,
            "width": "140px"
          }
        },
        "8d7979a39e9f4db3af1a07a555cb4a2f": {
          "model_module": "@jupyter-widgets/base",
          "model_module_version": "1.2.0",
          "model_name": "LayoutModel",
          "state": {
            "_model_module": "@jupyter-widgets/base",
            "_model_module_version": "1.2.0",
            "_model_name": "LayoutModel",
            "_view_count": null,
            "_view_module": "@jupyter-widgets/base",
            "_view_module_version": "1.2.0",
            "_view_name": "LayoutView",
            "align_content": null,
            "align_items": null,
            "align_self": null,
            "border": null,
            "bottom": null,
            "display": null,
            "flex": null,
            "flex_flow": null,
            "grid_area": null,
            "grid_auto_columns": null,
            "grid_auto_flow": null,
            "grid_auto_rows": null,
            "grid_column": null,
            "grid_gap": null,
            "grid_row": null,
            "grid_template_areas": null,
            "grid_template_columns": null,
            "grid_template_rows": null,
            "height": null,
            "justify_content": null,
            "justify_items": null,
            "left": null,
            "margin": null,
            "max_height": null,
            "max_width": null,
            "min_height": null,
            "min_width": null,
            "object_fit": null,
            "object_position": null,
            "order": null,
            "overflow": null,
            "overflow_x": null,
            "overflow_y": null,
            "padding": null,
            "right": null,
            "top": null,
            "visibility": null,
            "width": null
          }
        },
        "9010c3f0c15441b7a172d26f0c3d1b08": {
          "model_module": "@jupyter-widgets/base",
          "model_module_version": "1.2.0",
          "model_name": "LayoutModel",
          "state": {
            "_model_module": "@jupyter-widgets/base",
            "_model_module_version": "1.2.0",
            "_model_name": "LayoutModel",
            "_view_count": null,
            "_view_module": "@jupyter-widgets/base",
            "_view_module_version": "1.2.0",
            "_view_name": "LayoutView",
            "align_content": null,
            "align_items": null,
            "align_self": null,
            "border": null,
            "bottom": null,
            "display": null,
            "flex": null,
            "flex_flow": null,
            "grid_area": null,
            "grid_auto_columns": null,
            "grid_auto_flow": null,
            "grid_auto_rows": null,
            "grid_column": null,
            "grid_gap": null,
            "grid_row": null,
            "grid_template_areas": null,
            "grid_template_columns": null,
            "grid_template_rows": null,
            "height": null,
            "justify_content": null,
            "justify_items": null,
            "left": null,
            "margin": null,
            "max_height": null,
            "max_width": null,
            "min_height": null,
            "min_width": null,
            "object_fit": null,
            "object_position": null,
            "order": null,
            "overflow": null,
            "overflow_x": null,
            "overflow_y": null,
            "padding": null,
            "right": null,
            "top": null,
            "visibility": null,
            "width": null
          }
        },
        "905e5d983d974e74af0dbaf8df017db2": {
          "model_module": "@jupyter-widgets/base",
          "model_module_version": "1.2.0",
          "model_name": "LayoutModel",
          "state": {
            "_model_module": "@jupyter-widgets/base",
            "_model_module_version": "1.2.0",
            "_model_name": "LayoutModel",
            "_view_count": null,
            "_view_module": "@jupyter-widgets/base",
            "_view_module_version": "1.2.0",
            "_view_name": "LayoutView",
            "align_content": null,
            "align_items": null,
            "align_self": null,
            "border": null,
            "bottom": null,
            "display": null,
            "flex": null,
            "flex_flow": null,
            "grid_area": null,
            "grid_auto_columns": null,
            "grid_auto_flow": null,
            "grid_auto_rows": null,
            "grid_column": null,
            "grid_gap": null,
            "grid_row": null,
            "grid_template_areas": null,
            "grid_template_columns": null,
            "grid_template_rows": null,
            "height": null,
            "justify_content": null,
            "justify_items": null,
            "left": null,
            "margin": null,
            "max_height": null,
            "max_width": null,
            "min_height": null,
            "min_width": null,
            "object_fit": null,
            "object_position": null,
            "order": null,
            "overflow": null,
            "overflow_x": null,
            "overflow_y": null,
            "padding": null,
            "right": null,
            "top": "5px",
            "visibility": null,
            "width": "140px"
          }
        },
        "a59d5ff61974491bb9b4f0529d0096f9": {
          "model_module": "@jupyter-widgets/output",
          "model_module_version": "1.0.0",
          "model_name": "OutputModel",
          "state": {
            "_dom_classes": [],
            "_model_module": "@jupyter-widgets/output",
            "_model_module_version": "1.0.0",
            "_model_name": "OutputModel",
            "_view_count": null,
            "_view_module": "@jupyter-widgets/output",
            "_view_module_version": "1.0.0",
            "_view_name": "OutputView",
            "layout": "IPY_MODEL_8d7979a39e9f4db3af1a07a555cb4a2f",
            "msg_id": "",
            "outputs": [
              {
                "data": {
                  "text/html": "\n  <div id=\"df-f58443da-c8b7-4a60-9aa2-318384696e49\">\n    <div class=\"colab-df-container\">\n      <div>\n<style scoped>\n    .dataframe tbody tr th:only-of-type {\n        vertical-align: middle;\n    }\n\n    .dataframe tbody tr th {\n        vertical-align: top;\n    }\n\n    .dataframe thead th {\n        text-align: right;\n    }\n</style>\n<table border=\"1\" class=\"dataframe\">\n  <thead>\n    <tr style=\"text-align: right;\">\n      <th></th>\n      <th>0</th>\n      <th>1</th>\n      <th>2</th>\n      <th>3</th>\n      <th>4</th>\n      <th>5</th>\n      <th>6</th>\n      <th>7</th>\n      <th>8</th>\n      <th>9</th>\n      <th>10</th>\n      <th>11</th>\n      <th>12</th>\n      <th>13</th>\n    </tr>\n  </thead>\n  <tbody>\n    <tr>\n      <th>0</th>\n      <td>-0.792516</td>\n      <td>0.649505</td>\n      <td>0.034861</td>\n      <td>-0.272515</td>\n      <td>0.094717</td>\n      <td>0.288646</td>\n      <td>-0.064613</td>\n      <td>0.010195</td>\n      <td>-0.002847</td>\n      <td>-0.001075</td>\n      <td>-0.070835</td>\n      <td>-0.008731</td>\n      <td>-0.053683</td>\n      <td>0.457608</td>\n    </tr>\n    <tr>\n      <th>1</th>\n      <td>-0.766339</td>\n      <td>0.590949</td>\n      <td>0.094775</td>\n      <td>1.257180</td>\n      <td>-0.271995</td>\n      <td>-0.085771</td>\n      <td>0.042739</td>\n      <td>0.024283</td>\n      <td>-0.007664</td>\n      <td>-0.000941</td>\n      <td>-0.034155</td>\n      <td>-0.005944</td>\n      <td>-0.009955</td>\n      <td>-0.025947</td>\n    </tr>\n    <tr>\n      <th>2</th>\n      <td>-0.309099</td>\n      <td>-0.629492</td>\n      <td>-0.319778</td>\n      <td>0.024320</td>\n      <td>0.023482</td>\n      <td>0.022601</td>\n      <td>-0.017578</td>\n      <td>-0.026712</td>\n      <td>-0.020048</td>\n      <td>-0.013912</td>\n      <td>0.000242</td>\n      <td>-0.009512</td>\n      <td>-0.008358</td>\n      <td>-0.001096</td>\n    </tr>\n    <tr>\n      <th>3</th>\n      <td>-0.313307</td>\n      <td>-0.627547</td>\n      <td>-0.323449</td>\n      <td>0.021903</td>\n      <td>0.013482</td>\n      <td>0.019819</td>\n      <td>-0.027937</td>\n      <td>-0.036858</td>\n      <td>-0.021034</td>\n      <td>-0.019805</td>\n      <td>0.000327</td>\n      <td>-0.012210</td>\n      <td>-0.008878</td>\n      <td>-0.001445</td>\n    </tr>\n    <tr>\n      <th>4</th>\n      <td>0.432632</td>\n      <td>-0.202948</td>\n      <td>0.482260</td>\n      <td>-0.087885</td>\n      <td>-0.361119</td>\n      <td>0.025566</td>\n      <td>-0.072722</td>\n      <td>0.114504</td>\n      <td>-0.033278</td>\n      <td>-0.029229</td>\n      <td>-0.000742</td>\n      <td>-0.000474</td>\n      <td>-0.005898</td>\n      <td>-0.001007</td>\n    </tr>\n    <tr>\n      <th>...</th>\n      <td>...</td>\n      <td>...</td>\n      <td>...</td>\n      <td>...</td>\n      <td>...</td>\n      <td>...</td>\n      <td>...</td>\n      <td>...</td>\n      <td>...</td>\n      <td>...</td>\n      <td>...</td>\n      <td>...</td>\n      <td>...</td>\n      <td>...</td>\n    </tr>\n    <tr>\n      <th>209710</th>\n      <td>0.393254</td>\n      <td>-0.200868</td>\n      <td>0.447526</td>\n      <td>-0.102667</td>\n      <td>-0.430306</td>\n      <td>0.010494</td>\n      <td>-0.140218</td>\n      <td>0.061561</td>\n      <td>-0.042726</td>\n      <td>0.005966</td>\n      <td>-0.001706</td>\n      <td>0.027068</td>\n      <td>0.018720</td>\n      <td>0.001516</td>\n    </tr>\n    <tr>\n      <th>209711</th>\n      <td>-0.675092</td>\n      <td>0.410971</td>\n      <td>0.028130</td>\n      <td>-0.094565</td>\n      <td>-0.025503</td>\n      <td>-0.350979</td>\n      <td>0.077063</td>\n      <td>0.029966</td>\n      <td>-0.022200</td>\n      <td>-0.002293</td>\n      <td>0.008914</td>\n      <td>-0.004778</td>\n      <td>0.000854</td>\n      <td>0.001650</td>\n    </tr>\n    <tr>\n      <th>209712</th>\n      <td>-0.294290</td>\n      <td>-0.635985</td>\n      <td>-0.306155</td>\n      <td>0.032591</td>\n      <td>0.059178</td>\n      <td>0.031516</td>\n      <td>0.016904</td>\n      <td>0.006884</td>\n      <td>-0.016444</td>\n      <td>0.005001</td>\n      <td>0.000179</td>\n      <td>-0.005981</td>\n      <td>-0.011994</td>\n      <td>-0.001467</td>\n    </tr>\n    <tr>\n      <th>209713</th>\n      <td>-0.299852</td>\n      <td>-0.633966</td>\n      <td>-0.311799</td>\n      <td>0.029827</td>\n      <td>0.045944</td>\n      <td>0.028531</td>\n      <td>0.004463</td>\n      <td>-0.005552</td>\n      <td>-0.018199</td>\n      <td>-0.001685</td>\n      <td>0.000019</td>\n      <td>-0.001942</td>\n      <td>-0.003417</td>\n      <td>-0.000553</td>\n    </tr>\n    <tr>\n      <th>209714</th>\n      <td>-0.290773</td>\n      <td>-0.637951</td>\n      <td>-0.303449</td>\n      <td>0.034903</td>\n      <td>0.067835</td>\n      <td>0.033997</td>\n      <td>0.025617</td>\n      <td>0.015055</td>\n      <td>-0.015991</td>\n      <td>0.009923</td>\n      <td>-0.000015</td>\n      <td>0.000316</td>\n      <td>-0.005517</td>\n      <td>-0.000855</td>\n    </tr>\n  </tbody>\n</table>\n<p>209715 rows × 14 columns</p>\n</div>\n      <button class=\"colab-df-convert\" onclick=\"convertToInteractive('df-f58443da-c8b7-4a60-9aa2-318384696e49')\"\n              title=\"Convert this dataframe to an interactive table.\"\n              style=\"display:none;\">\n        \n  <svg xmlns=\"http://www.w3.org/2000/svg\" height=\"24px\"viewBox=\"0 0 24 24\"\n       width=\"24px\">\n    <path d=\"M0 0h24v24H0V0z\" fill=\"none\"/>\n    <path d=\"M18.56 5.44l.94 2.06.94-2.06 2.06-.94-2.06-.94-.94-2.06-.94 2.06-2.06.94zm-11 1L8.5 8.5l.94-2.06 2.06-.94-2.06-.94L8.5 2.5l-.94 2.06-2.06.94zm10 10l.94 2.06.94-2.06 2.06-.94-2.06-.94-.94-2.06-.94 2.06-2.06.94z\"/><path d=\"M17.41 7.96l-1.37-1.37c-.4-.4-.92-.59-1.43-.59-.52 0-1.04.2-1.43.59L10.3 9.45l-7.72 7.72c-.78.78-.78 2.05 0 2.83L4 21.41c.39.39.9.59 1.41.59.51 0 1.02-.2 1.41-.59l7.78-7.78 2.81-2.81c.8-.78.8-2.07 0-2.86zM5.41 20L4 18.59l7.72-7.72 1.47 1.35L5.41 20z\"/>\n  </svg>\n      </button>\n      \n  <style>\n    .colab-df-container {\n      display:flex;\n      flex-wrap:wrap;\n      gap: 12px;\n    }\n\n    .colab-df-convert {\n      background-color: #E8F0FE;\n      border: none;\n      border-radius: 50%;\n      cursor: pointer;\n      display: none;\n      fill: #1967D2;\n      height: 32px;\n      padding: 0 0 0 0;\n      width: 32px;\n    }\n\n    .colab-df-convert:hover {\n      background-color: #E2EBFA;\n      box-shadow: 0px 1px 2px rgba(60, 64, 67, 0.3), 0px 1px 3px 1px rgba(60, 64, 67, 0.15);\n      fill: #174EA6;\n    }\n\n    [theme=dark] .colab-df-convert {\n      background-color: #3B4455;\n      fill: #D2E3FC;\n    }\n\n    [theme=dark] .colab-df-convert:hover {\n      background-color: #434B5C;\n      box-shadow: 0px 1px 3px 1px rgba(0, 0, 0, 0.15);\n      filter: drop-shadow(0px 1px 2px rgba(0, 0, 0, 0.3));\n      fill: #FFFFFF;\n    }\n  </style>\n\n      <script>\n        const buttonEl =\n          document.querySelector('#df-f58443da-c8b7-4a60-9aa2-318384696e49 button.colab-df-convert');\n        buttonEl.style.display =\n          google.colab.kernel.accessAllowed ? 'block' : 'none';\n\n        async function convertToInteractive(key) {\n          const element = document.querySelector('#df-f58443da-c8b7-4a60-9aa2-318384696e49');\n          const dataTable =\n            await google.colab.kernel.invokeFunction('convertToInteractive',\n                                                     [key], {});\n          if (!dataTable) return;\n\n          const docLinkHtml = 'Like what you see? Visit the ' +\n            '<a target=\"_blank\" href=https://colab.research.google.com/notebooks/data_table.ipynb>data table notebook</a>'\n            + ' to learn more about interactive tables.';\n          element.innerHTML = '';\n          dataTable['output_type'] = 'display_data';\n          await google.colab.output.renderOutput(dataTable, element);\n          const docLink = document.createElement('div');\n          docLink.innerHTML = docLinkHtml;\n          element.appendChild(docLink);\n        }\n      </script>\n    </div>\n  </div>\n  ",
                  "text/plain": "              0         1         2         3         4         5         6   \\\n0      -0.792516  0.649505  0.034861 -0.272515  0.094717  0.288646 -0.064613   \n1      -0.766339  0.590949  0.094775  1.257180 -0.271995 -0.085771  0.042739   \n2      -0.309099 -0.629492 -0.319778  0.024320  0.023482  0.022601 -0.017578   \n3      -0.313307 -0.627547 -0.323449  0.021903  0.013482  0.019819 -0.027937   \n4       0.432632 -0.202948  0.482260 -0.087885 -0.361119  0.025566 -0.072722   \n...          ...       ...       ...       ...       ...       ...       ...   \n209710  0.393254 -0.200868  0.447526 -0.102667 -0.430306  0.010494 -0.140218   \n209711 -0.675092  0.410971  0.028130 -0.094565 -0.025503 -0.350979  0.077063   \n209712 -0.294290 -0.635985 -0.306155  0.032591  0.059178  0.031516  0.016904   \n209713 -0.299852 -0.633966 -0.311799  0.029827  0.045944  0.028531  0.004463   \n209714 -0.290773 -0.637951 -0.303449  0.034903  0.067835  0.033997  0.025617   \n\n              7         8         9         10        11        12        13  \n0       0.010195 -0.002847 -0.001075 -0.070835 -0.008731 -0.053683  0.457608  \n1       0.024283 -0.007664 -0.000941 -0.034155 -0.005944 -0.009955 -0.025947  \n2      -0.026712 -0.020048 -0.013912  0.000242 -0.009512 -0.008358 -0.001096  \n3      -0.036858 -0.021034 -0.019805  0.000327 -0.012210 -0.008878 -0.001445  \n4       0.114504 -0.033278 -0.029229 -0.000742 -0.000474 -0.005898 -0.001007  \n...          ...       ...       ...       ...       ...       ...       ...  \n209710  0.061561 -0.042726  0.005966 -0.001706  0.027068  0.018720  0.001516  \n209711  0.029966 -0.022200 -0.002293  0.008914 -0.004778  0.000854  0.001650  \n209712  0.006884 -0.016444  0.005001  0.000179 -0.005981 -0.011994 -0.001467  \n209713 -0.005552 -0.018199 -0.001685  0.000019 -0.001942 -0.003417 -0.000553  \n209714  0.015055 -0.015991  0.009923 -0.000015  0.000316 -0.005517 -0.000855  \n\n[209715 rows x 14 columns]"
                },
                "metadata": {},
                "output_type": "display_data"
              }
            ]
          }
        },
        "a74aa6f9954144818ca82b504b72e726": {
          "model_module": "@jupyter-widgets/base",
          "model_module_version": "1.2.0",
          "model_name": "LayoutModel",
          "state": {
            "_model_module": "@jupyter-widgets/base",
            "_model_module_version": "1.2.0",
            "_model_name": "LayoutModel",
            "_view_count": null,
            "_view_module": "@jupyter-widgets/base",
            "_view_module_version": "1.2.0",
            "_view_name": "LayoutView",
            "align_content": null,
            "align_items": null,
            "align_self": null,
            "border": null,
            "bottom": null,
            "display": null,
            "flex": null,
            "flex_flow": null,
            "grid_area": null,
            "grid_auto_columns": null,
            "grid_auto_flow": null,
            "grid_auto_rows": null,
            "grid_column": null,
            "grid_gap": null,
            "grid_row": null,
            "grid_template_areas": null,
            "grid_template_columns": null,
            "grid_template_rows": null,
            "height": null,
            "justify_content": null,
            "justify_items": null,
            "left": null,
            "margin": null,
            "max_height": null,
            "max_width": null,
            "min_height": null,
            "min_width": null,
            "object_fit": null,
            "object_position": null,
            "order": null,
            "overflow": null,
            "overflow_x": null,
            "overflow_y": null,
            "padding": null,
            "right": null,
            "top": null,
            "visibility": null,
            "width": null
          }
        },
        "aa6a1e5b60ec48dd856d8bc8983f5de3": {
          "model_module": "@jupyter-widgets/output",
          "model_module_version": "1.0.0",
          "model_name": "OutputModel",
          "state": {
            "_dom_classes": [],
            "_model_module": "@jupyter-widgets/output",
            "_model_module_version": "1.0.0",
            "_model_name": "OutputModel",
            "_view_count": null,
            "_view_module": "@jupyter-widgets/output",
            "_view_module_version": "1.0.0",
            "_view_name": "OutputView",
            "layout": "IPY_MODEL_59954f46ea5645da8241478096f98787",
            "msg_id": "",
            "outputs": [
              {
                "data": {
                  "text/html": "\n  <div id=\"df-8e4a5901-45c0-4115-919f-cd78d4339332\">\n    <div class=\"colab-df-container\">\n      <div>\n<style scoped>\n    .dataframe tbody tr th:only-of-type {\n        vertical-align: middle;\n    }\n\n    .dataframe tbody tr th {\n        vertical-align: top;\n    }\n\n    .dataframe thead th {\n        text-align: right;\n    }\n</style>\n<table border=\"1\" class=\"dataframe\">\n  <thead>\n    <tr style=\"text-align: right;\">\n      <th></th>\n      <th>PC1</th>\n      <th>PC2</th>\n      <th>PC3</th>\n      <th>PC4</th>\n      <th>PC5</th>\n      <th>PC6</th>\n      <th>PC7</th>\n      <th>PC8</th>\n      <th>PC9</th>\n      <th>PC10</th>\n      <th>PC11</th>\n      <th>PC12</th>\n      <th>PC13</th>\n      <th>PC14</th>\n    </tr>\n  </thead>\n  <tbody>\n    <tr>\n      <th>0</th>\n      <td>-0.792516</td>\n      <td>0.649505</td>\n      <td>0.034861</td>\n      <td>-0.272515</td>\n      <td>0.094717</td>\n      <td>0.288646</td>\n      <td>-0.064613</td>\n      <td>0.010195</td>\n      <td>-0.002847</td>\n      <td>-0.001075</td>\n      <td>-0.070835</td>\n      <td>-0.008731</td>\n      <td>-0.053683</td>\n      <td>0.457608</td>\n    </tr>\n    <tr>\n      <th>1</th>\n      <td>-0.766339</td>\n      <td>0.590949</td>\n      <td>0.094775</td>\n      <td>1.257180</td>\n      <td>-0.271995</td>\n      <td>-0.085771</td>\n      <td>0.042739</td>\n      <td>0.024283</td>\n      <td>-0.007664</td>\n      <td>-0.000941</td>\n      <td>-0.034155</td>\n      <td>-0.005944</td>\n      <td>-0.009955</td>\n      <td>-0.025947</td>\n    </tr>\n    <tr>\n      <th>2</th>\n      <td>-0.309099</td>\n      <td>-0.629492</td>\n      <td>-0.319778</td>\n      <td>0.024320</td>\n      <td>0.023482</td>\n      <td>0.022601</td>\n      <td>-0.017578</td>\n      <td>-0.026712</td>\n      <td>-0.020048</td>\n      <td>-0.013912</td>\n      <td>0.000242</td>\n      <td>-0.009512</td>\n      <td>-0.008358</td>\n      <td>-0.001096</td>\n    </tr>\n    <tr>\n      <th>3</th>\n      <td>-0.313307</td>\n      <td>-0.627547</td>\n      <td>-0.323449</td>\n      <td>0.021903</td>\n      <td>0.013482</td>\n      <td>0.019819</td>\n      <td>-0.027937</td>\n      <td>-0.036858</td>\n      <td>-0.021034</td>\n      <td>-0.019805</td>\n      <td>0.000327</td>\n      <td>-0.012210</td>\n      <td>-0.008878</td>\n      <td>-0.001445</td>\n    </tr>\n    <tr>\n      <th>4</th>\n      <td>0.432632</td>\n      <td>-0.202948</td>\n      <td>0.482260</td>\n      <td>-0.087885</td>\n      <td>-0.361119</td>\n      <td>0.025566</td>\n      <td>-0.072722</td>\n      <td>0.114504</td>\n      <td>-0.033278</td>\n      <td>-0.029229</td>\n      <td>-0.000742</td>\n      <td>-0.000474</td>\n      <td>-0.005898</td>\n      <td>-0.001007</td>\n    </tr>\n    <tr>\n      <th>...</th>\n      <td>...</td>\n      <td>...</td>\n      <td>...</td>\n      <td>...</td>\n      <td>...</td>\n      <td>...</td>\n      <td>...</td>\n      <td>...</td>\n      <td>...</td>\n      <td>...</td>\n      <td>...</td>\n      <td>...</td>\n      <td>...</td>\n      <td>...</td>\n    </tr>\n    <tr>\n      <th>209710</th>\n      <td>0.393254</td>\n      <td>-0.200868</td>\n      <td>0.447526</td>\n      <td>-0.102667</td>\n      <td>-0.430306</td>\n      <td>0.010494</td>\n      <td>-0.140218</td>\n      <td>0.061561</td>\n      <td>-0.042726</td>\n      <td>0.005966</td>\n      <td>-0.001706</td>\n      <td>0.027068</td>\n      <td>0.018720</td>\n      <td>0.001516</td>\n    </tr>\n    <tr>\n      <th>209711</th>\n      <td>-0.675092</td>\n      <td>0.410971</td>\n      <td>0.028130</td>\n      <td>-0.094565</td>\n      <td>-0.025503</td>\n      <td>-0.350979</td>\n      <td>0.077063</td>\n      <td>0.029966</td>\n      <td>-0.022200</td>\n      <td>-0.002293</td>\n      <td>0.008914</td>\n      <td>-0.004778</td>\n      <td>0.000854</td>\n      <td>0.001650</td>\n    </tr>\n    <tr>\n      <th>209712</th>\n      <td>-0.294290</td>\n      <td>-0.635985</td>\n      <td>-0.306155</td>\n      <td>0.032591</td>\n      <td>0.059178</td>\n      <td>0.031516</td>\n      <td>0.016904</td>\n      <td>0.006884</td>\n      <td>-0.016444</td>\n      <td>0.005001</td>\n      <td>0.000179</td>\n      <td>-0.005981</td>\n      <td>-0.011994</td>\n      <td>-0.001467</td>\n    </tr>\n    <tr>\n      <th>209713</th>\n      <td>-0.299852</td>\n      <td>-0.633966</td>\n      <td>-0.311799</td>\n      <td>0.029827</td>\n      <td>0.045944</td>\n      <td>0.028531</td>\n      <td>0.004463</td>\n      <td>-0.005552</td>\n      <td>-0.018199</td>\n      <td>-0.001685</td>\n      <td>0.000019</td>\n      <td>-0.001942</td>\n      <td>-0.003417</td>\n      <td>-0.000553</td>\n    </tr>\n    <tr>\n      <th>209714</th>\n      <td>-0.290773</td>\n      <td>-0.637951</td>\n      <td>-0.303449</td>\n      <td>0.034903</td>\n      <td>0.067835</td>\n      <td>0.033997</td>\n      <td>0.025617</td>\n      <td>0.015055</td>\n      <td>-0.015991</td>\n      <td>0.009923</td>\n      <td>-0.000015</td>\n      <td>0.000316</td>\n      <td>-0.005517</td>\n      <td>-0.000855</td>\n    </tr>\n  </tbody>\n</table>\n<p>209715 rows × 14 columns</p>\n</div>\n      <button class=\"colab-df-convert\" onclick=\"convertToInteractive('df-8e4a5901-45c0-4115-919f-cd78d4339332')\"\n              title=\"Convert this dataframe to an interactive table.\"\n              style=\"display:none;\">\n        \n  <svg xmlns=\"http://www.w3.org/2000/svg\" height=\"24px\"viewBox=\"0 0 24 24\"\n       width=\"24px\">\n    <path d=\"M0 0h24v24H0V0z\" fill=\"none\"/>\n    <path d=\"M18.56 5.44l.94 2.06.94-2.06 2.06-.94-2.06-.94-.94-2.06-.94 2.06-2.06.94zm-11 1L8.5 8.5l.94-2.06 2.06-.94-2.06-.94L8.5 2.5l-.94 2.06-2.06.94zm10 10l.94 2.06.94-2.06 2.06-.94-2.06-.94-.94-2.06-.94 2.06-2.06.94z\"/><path d=\"M17.41 7.96l-1.37-1.37c-.4-.4-.92-.59-1.43-.59-.52 0-1.04.2-1.43.59L10.3 9.45l-7.72 7.72c-.78.78-.78 2.05 0 2.83L4 21.41c.39.39.9.59 1.41.59.51 0 1.02-.2 1.41-.59l7.78-7.78 2.81-2.81c.8-.78.8-2.07 0-2.86zM5.41 20L4 18.59l7.72-7.72 1.47 1.35L5.41 20z\"/>\n  </svg>\n      </button>\n      \n  <style>\n    .colab-df-container {\n      display:flex;\n      flex-wrap:wrap;\n      gap: 12px;\n    }\n\n    .colab-df-convert {\n      background-color: #E8F0FE;\n      border: none;\n      border-radius: 50%;\n      cursor: pointer;\n      display: none;\n      fill: #1967D2;\n      height: 32px;\n      padding: 0 0 0 0;\n      width: 32px;\n    }\n\n    .colab-df-convert:hover {\n      background-color: #E2EBFA;\n      box-shadow: 0px 1px 2px rgba(60, 64, 67, 0.3), 0px 1px 3px 1px rgba(60, 64, 67, 0.15);\n      fill: #174EA6;\n    }\n\n    [theme=dark] .colab-df-convert {\n      background-color: #3B4455;\n      fill: #D2E3FC;\n    }\n\n    [theme=dark] .colab-df-convert:hover {\n      background-color: #434B5C;\n      box-shadow: 0px 1px 3px 1px rgba(0, 0, 0, 0.15);\n      filter: drop-shadow(0px 1px 2px rgba(0, 0, 0, 0.3));\n      fill: #FFFFFF;\n    }\n  </style>\n\n      <script>\n        const buttonEl =\n          document.querySelector('#df-8e4a5901-45c0-4115-919f-cd78d4339332 button.colab-df-convert');\n        buttonEl.style.display =\n          google.colab.kernel.accessAllowed ? 'block' : 'none';\n\n        async function convertToInteractive(key) {\n          const element = document.querySelector('#df-8e4a5901-45c0-4115-919f-cd78d4339332');\n          const dataTable =\n            await google.colab.kernel.invokeFunction('convertToInteractive',\n                                                     [key], {});\n          if (!dataTable) return;\n\n          const docLinkHtml = 'Like what you see? Visit the ' +\n            '<a target=\"_blank\" href=https://colab.research.google.com/notebooks/data_table.ipynb>data table notebook</a>'\n            + ' to learn more about interactive tables.';\n          element.innerHTML = '';\n          dataTable['output_type'] = 'display_data';\n          await google.colab.output.renderOutput(dataTable, element);\n          const docLink = document.createElement('div');\n          docLink.innerHTML = docLinkHtml;\n          element.appendChild(docLink);\n        }\n      </script>\n    </div>\n  </div>\n  ",
                  "text/plain": "             PC1       PC2       PC3       PC4       PC5       PC6       PC7  \\\n0      -0.792516  0.649505  0.034861 -0.272515  0.094717  0.288646 -0.064613   \n1      -0.766339  0.590949  0.094775  1.257180 -0.271995 -0.085771  0.042739   \n2      -0.309099 -0.629492 -0.319778  0.024320  0.023482  0.022601 -0.017578   \n3      -0.313307 -0.627547 -0.323449  0.021903  0.013482  0.019819 -0.027937   \n4       0.432632 -0.202948  0.482260 -0.087885 -0.361119  0.025566 -0.072722   \n...          ...       ...       ...       ...       ...       ...       ...   \n209710  0.393254 -0.200868  0.447526 -0.102667 -0.430306  0.010494 -0.140218   \n209711 -0.675092  0.410971  0.028130 -0.094565 -0.025503 -0.350979  0.077063   \n209712 -0.294290 -0.635985 -0.306155  0.032591  0.059178  0.031516  0.016904   \n209713 -0.299852 -0.633966 -0.311799  0.029827  0.045944  0.028531  0.004463   \n209714 -0.290773 -0.637951 -0.303449  0.034903  0.067835  0.033997  0.025617   \n\n             PC8       PC9      PC10      PC11      PC12      PC13      PC14  \n0       0.010195 -0.002847 -0.001075 -0.070835 -0.008731 -0.053683  0.457608  \n1       0.024283 -0.007664 -0.000941 -0.034155 -0.005944 -0.009955 -0.025947  \n2      -0.026712 -0.020048 -0.013912  0.000242 -0.009512 -0.008358 -0.001096  \n3      -0.036858 -0.021034 -0.019805  0.000327 -0.012210 -0.008878 -0.001445  \n4       0.114504 -0.033278 -0.029229 -0.000742 -0.000474 -0.005898 -0.001007  \n...          ...       ...       ...       ...       ...       ...       ...  \n209710  0.061561 -0.042726  0.005966 -0.001706  0.027068  0.018720  0.001516  \n209711  0.029966 -0.022200 -0.002293  0.008914 -0.004778  0.000854  0.001650  \n209712  0.006884 -0.016444  0.005001  0.000179 -0.005981 -0.011994 -0.001467  \n209713 -0.005552 -0.018199 -0.001685  0.000019 -0.001942 -0.003417 -0.000553  \n209714  0.015055 -0.015991  0.009923 -0.000015  0.000316 -0.005517 -0.000855  \n\n[209715 rows x 14 columns]"
                },
                "metadata": {},
                "output_type": "display_data"
              }
            ]
          }
        },
        "c1d414ea9934479d9d6e4f24f3fe818c": {
          "model_module": "@jupyter-widgets/output",
          "model_module_version": "1.0.0",
          "model_name": "OutputModel",
          "state": {
            "_dom_classes": [],
            "_model_module": "@jupyter-widgets/output",
            "_model_module_version": "1.0.0",
            "_model_name": "OutputModel",
            "_view_count": null,
            "_view_module": "@jupyter-widgets/output",
            "_view_module_version": "1.0.0",
            "_view_name": "OutputView",
            "layout": "IPY_MODEL_e18fa699e6054b93a466e5e159dde633",
            "msg_id": "",
            "outputs": [
              {
                "data": {
                  "text/html": "\n  <div id=\"df-b4e2e550-fc0d-43c4-8207-b09e8b6f04ca\">\n    <div class=\"colab-df-container\">\n      <div>\n<style scoped>\n    .dataframe tbody tr th:only-of-type {\n        vertical-align: middle;\n    }\n\n    .dataframe tbody tr th {\n        vertical-align: top;\n    }\n\n    .dataframe thead th {\n        text-align: right;\n    }\n</style>\n<table border=\"1\" class=\"dataframe\">\n  <thead>\n    <tr style=\"text-align: right;\">\n      <th></th>\n      <th>IsolationForest</th>\n    </tr>\n  </thead>\n  <tbody>\n    <tr>\n      <th>0</th>\n      <td>-1</td>\n    </tr>\n    <tr>\n      <th>1</th>\n      <td>1</td>\n    </tr>\n    <tr>\n      <th>2</th>\n      <td>1</td>\n    </tr>\n    <tr>\n      <th>3</th>\n      <td>1</td>\n    </tr>\n    <tr>\n      <th>4</th>\n      <td>1</td>\n    </tr>\n    <tr>\n      <th>...</th>\n      <td>...</td>\n    </tr>\n    <tr>\n      <th>209710</th>\n      <td>1</td>\n    </tr>\n    <tr>\n      <th>209711</th>\n      <td>1</td>\n    </tr>\n    <tr>\n      <th>209712</th>\n      <td>1</td>\n    </tr>\n    <tr>\n      <th>209713</th>\n      <td>1</td>\n    </tr>\n    <tr>\n      <th>209714</th>\n      <td>1</td>\n    </tr>\n  </tbody>\n</table>\n<p>209715 rows × 1 columns</p>\n</div>\n      <button class=\"colab-df-convert\" onclick=\"convertToInteractive('df-b4e2e550-fc0d-43c4-8207-b09e8b6f04ca')\"\n              title=\"Convert this dataframe to an interactive table.\"\n              style=\"display:none;\">\n        \n  <svg xmlns=\"http://www.w3.org/2000/svg\" height=\"24px\"viewBox=\"0 0 24 24\"\n       width=\"24px\">\n    <path d=\"M0 0h24v24H0V0z\" fill=\"none\"/>\n    <path d=\"M18.56 5.44l.94 2.06.94-2.06 2.06-.94-2.06-.94-.94-2.06-.94 2.06-2.06.94zm-11 1L8.5 8.5l.94-2.06 2.06-.94-2.06-.94L8.5 2.5l-.94 2.06-2.06.94zm10 10l.94 2.06.94-2.06 2.06-.94-2.06-.94-.94-2.06-.94 2.06-2.06.94z\"/><path d=\"M17.41 7.96l-1.37-1.37c-.4-.4-.92-.59-1.43-.59-.52 0-1.04.2-1.43.59L10.3 9.45l-7.72 7.72c-.78.78-.78 2.05 0 2.83L4 21.41c.39.39.9.59 1.41.59.51 0 1.02-.2 1.41-.59l7.78-7.78 2.81-2.81c.8-.78.8-2.07 0-2.86zM5.41 20L4 18.59l7.72-7.72 1.47 1.35L5.41 20z\"/>\n  </svg>\n      </button>\n      \n  <style>\n    .colab-df-container {\n      display:flex;\n      flex-wrap:wrap;\n      gap: 12px;\n    }\n\n    .colab-df-convert {\n      background-color: #E8F0FE;\n      border: none;\n      border-radius: 50%;\n      cursor: pointer;\n      display: none;\n      fill: #1967D2;\n      height: 32px;\n      padding: 0 0 0 0;\n      width: 32px;\n    }\n\n    .colab-df-convert:hover {\n      background-color: #E2EBFA;\n      box-shadow: 0px 1px 2px rgba(60, 64, 67, 0.3), 0px 1px 3px 1px rgba(60, 64, 67, 0.15);\n      fill: #174EA6;\n    }\n\n    [theme=dark] .colab-df-convert {\n      background-color: #3B4455;\n      fill: #D2E3FC;\n    }\n\n    [theme=dark] .colab-df-convert:hover {\n      background-color: #434B5C;\n      box-shadow: 0px 1px 3px 1px rgba(0, 0, 0, 0.15);\n      filter: drop-shadow(0px 1px 2px rgba(0, 0, 0, 0.3));\n      fill: #FFFFFF;\n    }\n  </style>\n\n      <script>\n        const buttonEl =\n          document.querySelector('#df-b4e2e550-fc0d-43c4-8207-b09e8b6f04ca button.colab-df-convert');\n        buttonEl.style.display =\n          google.colab.kernel.accessAllowed ? 'block' : 'none';\n\n        async function convertToInteractive(key) {\n          const element = document.querySelector('#df-b4e2e550-fc0d-43c4-8207-b09e8b6f04ca');\n          const dataTable =\n            await google.colab.kernel.invokeFunction('convertToInteractive',\n                                                     [key], {});\n          if (!dataTable) return;\n\n          const docLinkHtml = 'Like what you see? Visit the ' +\n            '<a target=\"_blank\" href=https://colab.research.google.com/notebooks/data_table.ipynb>data table notebook</a>'\n            + ' to learn more about interactive tables.';\n          element.innerHTML = '';\n          dataTable['output_type'] = 'display_data';\n          await google.colab.output.renderOutput(dataTable, element);\n          const docLink = document.createElement('div');\n          docLink.innerHTML = docLinkHtml;\n          element.appendChild(docLink);\n        }\n      </script>\n    </div>\n  </div>\n  ",
                  "text/plain": "        IsolationForest\n0                    -1\n1                     1\n2                     1\n3                     1\n4                     1\n...                 ...\n209710                1\n209711                1\n209712                1\n209713                1\n209714                1\n\n[209715 rows x 1 columns]"
                },
                "metadata": {},
                "output_type": "display_data"
              }
            ]
          }
        },
        "c2e7205d528a4c94adeb8148c88905fa": {
          "model_module": "@jupyter-widgets/controls",
          "model_module_version": "1.5.0",
          "model_name": "ButtonModel",
          "state": {
            "_dom_classes": [],
            "_model_module": "@jupyter-widgets/controls",
            "_model_module_version": "1.5.0",
            "_model_name": "ButtonModel",
            "_view_count": null,
            "_view_module": "@jupyter-widgets/controls",
            "_view_module_version": "1.5.0",
            "_view_name": "ButtonView",
            "button_style": "",
            "description": "Toggle Pandas/Lux",
            "disabled": false,
            "icon": "",
            "layout": "IPY_MODEL_905e5d983d974e74af0dbaf8df017db2",
            "style": "IPY_MODEL_4fc743d76dde42e491de924181e90ee0",
            "tooltip": ""
          }
        },
        "c376a589f2264d79b715c873cb04a05c": {
          "model_module": "@jupyter-widgets/output",
          "model_module_version": "1.0.0",
          "model_name": "OutputModel",
          "state": {
            "_dom_classes": [],
            "_model_module": "@jupyter-widgets/output",
            "_model_module_version": "1.0.0",
            "_model_name": "OutputModel",
            "_view_count": null,
            "_view_module": "@jupyter-widgets/output",
            "_view_module_version": "1.0.0",
            "_view_name": "OutputView",
            "layout": "IPY_MODEL_9010c3f0c15441b7a172d26f0c3d1b08",
            "msg_id": "",
            "outputs": [
              {
                "data": {
                  "text/html": "\n  <div id=\"df-1cf2434a-cb3e-4593-bd3d-2bb8e12b9b11\">\n    <div class=\"colab-df-container\">\n      <div>\n<style scoped>\n    .dataframe tbody tr th:only-of-type {\n        vertical-align: middle;\n    }\n\n    .dataframe tbody tr th {\n        vertical-align: top;\n    }\n\n    .dataframe thead th {\n        text-align: right;\n    }\n</style>\n<table border=\"1\" class=\"dataframe\">\n  <thead>\n    <tr style=\"text-align: right;\">\n      <th></th>\n      <th>IsolationForest</th>\n    </tr>\n  </thead>\n  <tbody>\n    <tr>\n      <th>0</th>\n      <td>1</td>\n    </tr>\n    <tr>\n      <th>1</th>\n      <td>1</td>\n    </tr>\n    <tr>\n      <th>2</th>\n      <td>1</td>\n    </tr>\n    <tr>\n      <th>3</th>\n      <td>1</td>\n    </tr>\n    <tr>\n      <th>4</th>\n      <td>1</td>\n    </tr>\n    <tr>\n      <th>...</th>\n      <td>...</td>\n    </tr>\n    <tr>\n      <th>838855</th>\n      <td>1</td>\n    </tr>\n    <tr>\n      <th>838856</th>\n      <td>1</td>\n    </tr>\n    <tr>\n      <th>838857</th>\n      <td>1</td>\n    </tr>\n    <tr>\n      <th>838858</th>\n      <td>1</td>\n    </tr>\n    <tr>\n      <th>838859</th>\n      <td>1</td>\n    </tr>\n  </tbody>\n</table>\n<p>838860 rows × 1 columns</p>\n</div>\n      <button class=\"colab-df-convert\" onclick=\"convertToInteractive('df-1cf2434a-cb3e-4593-bd3d-2bb8e12b9b11')\"\n              title=\"Convert this dataframe to an interactive table.\"\n              style=\"display:none;\">\n        \n  <svg xmlns=\"http://www.w3.org/2000/svg\" height=\"24px\"viewBox=\"0 0 24 24\"\n       width=\"24px\">\n    <path d=\"M0 0h24v24H0V0z\" fill=\"none\"/>\n    <path d=\"M18.56 5.44l.94 2.06.94-2.06 2.06-.94-2.06-.94-.94-2.06-.94 2.06-2.06.94zm-11 1L8.5 8.5l.94-2.06 2.06-.94-2.06-.94L8.5 2.5l-.94 2.06-2.06.94zm10 10l.94 2.06.94-2.06 2.06-.94-2.06-.94-.94-2.06-.94 2.06-2.06.94z\"/><path d=\"M17.41 7.96l-1.37-1.37c-.4-.4-.92-.59-1.43-.59-.52 0-1.04.2-1.43.59L10.3 9.45l-7.72 7.72c-.78.78-.78 2.05 0 2.83L4 21.41c.39.39.9.59 1.41.59.51 0 1.02-.2 1.41-.59l7.78-7.78 2.81-2.81c.8-.78.8-2.07 0-2.86zM5.41 20L4 18.59l7.72-7.72 1.47 1.35L5.41 20z\"/>\n  </svg>\n      </button>\n      \n  <style>\n    .colab-df-container {\n      display:flex;\n      flex-wrap:wrap;\n      gap: 12px;\n    }\n\n    .colab-df-convert {\n      background-color: #E8F0FE;\n      border: none;\n      border-radius: 50%;\n      cursor: pointer;\n      display: none;\n      fill: #1967D2;\n      height: 32px;\n      padding: 0 0 0 0;\n      width: 32px;\n    }\n\n    .colab-df-convert:hover {\n      background-color: #E2EBFA;\n      box-shadow: 0px 1px 2px rgba(60, 64, 67, 0.3), 0px 1px 3px 1px rgba(60, 64, 67, 0.15);\n      fill: #174EA6;\n    }\n\n    [theme=dark] .colab-df-convert {\n      background-color: #3B4455;\n      fill: #D2E3FC;\n    }\n\n    [theme=dark] .colab-df-convert:hover {\n      background-color: #434B5C;\n      box-shadow: 0px 1px 3px 1px rgba(0, 0, 0, 0.15);\n      filter: drop-shadow(0px 1px 2px rgba(0, 0, 0, 0.3));\n      fill: #FFFFFF;\n    }\n  </style>\n\n      <script>\n        const buttonEl =\n          document.querySelector('#df-1cf2434a-cb3e-4593-bd3d-2bb8e12b9b11 button.colab-df-convert');\n        buttonEl.style.display =\n          google.colab.kernel.accessAllowed ? 'block' : 'none';\n\n        async function convertToInteractive(key) {\n          const element = document.querySelector('#df-1cf2434a-cb3e-4593-bd3d-2bb8e12b9b11');\n          const dataTable =\n            await google.colab.kernel.invokeFunction('convertToInteractive',\n                                                     [key], {});\n          if (!dataTable) return;\n\n          const docLinkHtml = 'Like what you see? Visit the ' +\n            '<a target=\"_blank\" href=https://colab.research.google.com/notebooks/data_table.ipynb>data table notebook</a>'\n            + ' to learn more about interactive tables.';\n          element.innerHTML = '';\n          dataTable['output_type'] = 'display_data';\n          await google.colab.output.renderOutput(dataTable, element);\n          const docLink = document.createElement('div');\n          docLink.innerHTML = docLinkHtml;\n          element.appendChild(docLink);\n        }\n      </script>\n    </div>\n  </div>\n  ",
                  "text/plain": "        IsolationForest\n0                     1\n1                     1\n2                     1\n3                     1\n4                     1\n...                 ...\n838855                1\n838856                1\n838857                1\n838858                1\n838859                1\n\n[838860 rows x 1 columns]"
                },
                "metadata": {},
                "output_type": "display_data"
              }
            ]
          }
        },
        "cce36be523c2404a881ff5f84483ac5f": {
          "model_module": "@jupyter-widgets/controls",
          "model_module_version": "1.5.0",
          "model_name": "ButtonModel",
          "state": {
            "_dom_classes": [],
            "_model_module": "@jupyter-widgets/controls",
            "_model_module_version": "1.5.0",
            "_model_name": "ButtonModel",
            "_view_count": null,
            "_view_module": "@jupyter-widgets/controls",
            "_view_module_version": "1.5.0",
            "_view_name": "ButtonView",
            "button_style": "",
            "description": "Toggle Pandas/Lux",
            "disabled": false,
            "icon": "",
            "layout": "IPY_MODEL_26d8e6e8ec7a4f71a1ac9fe7fd858dae",
            "style": "IPY_MODEL_7ab25ee1309547079bf0b9fd3fbb6720",
            "tooltip": ""
          }
        },
        "ce21666354b54836982db96da3a2cee8": {
          "model_module": "@jupyter-widgets/output",
          "model_module_version": "1.0.0",
          "model_name": "OutputModel",
          "state": {
            "_dom_classes": [],
            "_model_module": "@jupyter-widgets/output",
            "_model_module_version": "1.0.0",
            "_model_name": "OutputModel",
            "_view_count": null,
            "_view_module": "@jupyter-widgets/output",
            "_view_module_version": "1.0.0",
            "_view_name": "OutputView",
            "layout": "IPY_MODEL_5f57bd25c27b46508daec39f0d3501e5",
            "msg_id": "",
            "outputs": [
              {
                "data": {
                  "text/html": "\n  <div id=\"df-2b3af03c-27ef-4543-8e91-920590dbeadd\">\n    <div class=\"colab-df-container\">\n      <div>\n<style scoped>\n    .dataframe tbody tr th:only-of-type {\n        vertical-align: middle;\n    }\n\n    .dataframe tbody tr th {\n        vertical-align: top;\n    }\n\n    .dataframe thead th {\n        text-align: right;\n    }\n</style>\n<table border=\"1\" class=\"dataframe\">\n  <thead>\n    <tr style=\"text-align: right;\">\n      <th></th>\n      <th>PC1</th>\n      <th>PC2</th>\n      <th>PC3</th>\n      <th>PC4</th>\n      <th>PC5</th>\n      <th>PC6</th>\n      <th>PC7</th>\n      <th>PC8</th>\n      <th>PC9</th>\n      <th>PC10</th>\n      <th>PC11</th>\n      <th>PC12</th>\n      <th>PC13</th>\n      <th>PC14</th>\n    </tr>\n  </thead>\n  <tbody>\n    <tr>\n      <th>0</th>\n      <td>1.512955</td>\n      <td>0.531165</td>\n      <td>-0.558414</td>\n      <td>0.037379</td>\n      <td>0.095728</td>\n      <td>-0.028075</td>\n      <td>-0.033240</td>\n      <td>0.059993</td>\n      <td>0.004110</td>\n      <td>-0.036152</td>\n      <td>0.000839</td>\n      <td>-0.010877</td>\n      <td>-0.012385</td>\n      <td>-0.001079</td>\n    </tr>\n    <tr>\n      <th>1</th>\n      <td>-0.309697</td>\n      <td>-0.629726</td>\n      <td>-0.320951</td>\n      <td>0.024410</td>\n      <td>0.022276</td>\n      <td>0.022719</td>\n      <td>-0.018338</td>\n      <td>-0.027819</td>\n      <td>-0.020661</td>\n      <td>-0.014150</td>\n      <td>-0.000041</td>\n      <td>-0.003132</td>\n      <td>0.000481</td>\n      <td>0.000582</td>\n    </tr>\n    <tr>\n      <th>2</th>\n      <td>0.885967</td>\n      <td>0.050011</td>\n      <td>0.266067</td>\n      <td>-0.054861</td>\n      <td>-0.177084</td>\n      <td>0.174360</td>\n      <td>0.578531</td>\n      <td>-0.388236</td>\n      <td>0.011112</td>\n      <td>-0.038688</td>\n      <td>0.001259</td>\n      <td>0.000589</td>\n      <td>0.021445</td>\n      <td>0.003434</td>\n    </tr>\n    <tr>\n      <th>3</th>\n      <td>-0.308571</td>\n      <td>-0.629810</td>\n      <td>-0.319401</td>\n      <td>0.024685</td>\n      <td>0.024791</td>\n      <td>0.022992</td>\n      <td>-0.016242</td>\n      <td>-0.025476</td>\n      <td>-0.020002</td>\n      <td>-0.013151</td>\n      <td>0.000205</td>\n      <td>-0.008274</td>\n      <td>-0.006988</td>\n      <td>-0.000989</td>\n    </tr>\n    <tr>\n      <th>4</th>\n      <td>1.521896</td>\n      <td>0.530990</td>\n      <td>-0.549514</td>\n      <td>0.042019</td>\n      <td>0.114641</td>\n      <td>-0.026168</td>\n      <td>-0.022169</td>\n      <td>0.064357</td>\n      <td>0.005977</td>\n      <td>-0.033621</td>\n      <td>0.000601</td>\n      <td>-0.013309</td>\n      <td>0.001354</td>\n      <td>0.000362</td>\n    </tr>\n    <tr>\n      <th>...</th>\n      <td>...</td>\n      <td>...</td>\n      <td>...</td>\n      <td>...</td>\n      <td>...</td>\n      <td>...</td>\n      <td>...</td>\n      <td>...</td>\n      <td>...</td>\n      <td>...</td>\n      <td>...</td>\n      <td>...</td>\n      <td>...</td>\n      <td>...</td>\n    </tr>\n    <tr>\n      <th>838855</th>\n      <td>-0.728536</td>\n      <td>0.520194</td>\n      <td>0.030937</td>\n      <td>-0.180161</td>\n      <td>0.030813</td>\n      <td>-0.060100</td>\n      <td>0.013331</td>\n      <td>0.020316</td>\n      <td>-0.015227</td>\n      <td>-0.001446</td>\n      <td>-0.009019</td>\n      <td>-0.003508</td>\n      <td>0.000834</td>\n      <td>-0.016386</td>\n    </tr>\n    <tr>\n      <th>838856</th>\n      <td>-0.663034</td>\n      <td>0.386312</td>\n      <td>0.027503</td>\n      <td>-0.075132</td>\n      <td>-0.038251</td>\n      <td>-0.416596</td>\n      <td>0.091421</td>\n      <td>0.032161</td>\n      <td>-0.023725</td>\n      <td>-0.002492</td>\n      <td>0.012474</td>\n      <td>-0.005146</td>\n      <td>0.000202</td>\n      <td>0.011690</td>\n    </tr>\n    <tr>\n      <th>838857</th>\n      <td>-0.298143</td>\n      <td>-0.634876</td>\n      <td>-0.310431</td>\n      <td>0.030924</td>\n      <td>0.050143</td>\n      <td>0.029729</td>\n      <td>0.008649</td>\n      <td>-0.001590</td>\n      <td>-0.017936</td>\n      <td>0.000670</td>\n      <td>-0.000101</td>\n      <td>0.000607</td>\n      <td>-0.001004</td>\n      <td>0.000175</td>\n    </tr>\n    <tr>\n      <th>838858</th>\n      <td>-0.663031</td>\n      <td>0.386307</td>\n      <td>0.027502</td>\n      <td>-0.075134</td>\n      <td>-0.038251</td>\n      <td>-0.416612</td>\n      <td>0.091426</td>\n      <td>0.032160</td>\n      <td>-0.023728</td>\n      <td>-0.002492</td>\n      <td>0.012503</td>\n      <td>-0.005141</td>\n      <td>0.000240</td>\n      <td>0.011352</td>\n    </tr>\n    <tr>\n      <th>838859</th>\n      <td>-0.231112</td>\n      <td>-0.200533</td>\n      <td>-0.002277</td>\n      <td>-0.065523</td>\n      <td>-0.211597</td>\n      <td>-0.150527</td>\n      <td>-0.107955</td>\n      <td>-0.032044</td>\n      <td>0.783707</td>\n      <td>-0.011667</td>\n      <td>-0.020889</td>\n      <td>0.007521</td>\n      <td>0.004832</td>\n      <td>-0.007844</td>\n    </tr>\n  </tbody>\n</table>\n<p>838860 rows × 14 columns</p>\n</div>\n      <button class=\"colab-df-convert\" onclick=\"convertToInteractive('df-2b3af03c-27ef-4543-8e91-920590dbeadd')\"\n              title=\"Convert this dataframe to an interactive table.\"\n              style=\"display:none;\">\n        \n  <svg xmlns=\"http://www.w3.org/2000/svg\" height=\"24px\"viewBox=\"0 0 24 24\"\n       width=\"24px\">\n    <path d=\"M0 0h24v24H0V0z\" fill=\"none\"/>\n    <path d=\"M18.56 5.44l.94 2.06.94-2.06 2.06-.94-2.06-.94-.94-2.06-.94 2.06-2.06.94zm-11 1L8.5 8.5l.94-2.06 2.06-.94-2.06-.94L8.5 2.5l-.94 2.06-2.06.94zm10 10l.94 2.06.94-2.06 2.06-.94-2.06-.94-.94-2.06-.94 2.06-2.06.94z\"/><path d=\"M17.41 7.96l-1.37-1.37c-.4-.4-.92-.59-1.43-.59-.52 0-1.04.2-1.43.59L10.3 9.45l-7.72 7.72c-.78.78-.78 2.05 0 2.83L4 21.41c.39.39.9.59 1.41.59.51 0 1.02-.2 1.41-.59l7.78-7.78 2.81-2.81c.8-.78.8-2.07 0-2.86zM5.41 20L4 18.59l7.72-7.72 1.47 1.35L5.41 20z\"/>\n  </svg>\n      </button>\n      \n  <style>\n    .colab-df-container {\n      display:flex;\n      flex-wrap:wrap;\n      gap: 12px;\n    }\n\n    .colab-df-convert {\n      background-color: #E8F0FE;\n      border: none;\n      border-radius: 50%;\n      cursor: pointer;\n      display: none;\n      fill: #1967D2;\n      height: 32px;\n      padding: 0 0 0 0;\n      width: 32px;\n    }\n\n    .colab-df-convert:hover {\n      background-color: #E2EBFA;\n      box-shadow: 0px 1px 2px rgba(60, 64, 67, 0.3), 0px 1px 3px 1px rgba(60, 64, 67, 0.15);\n      fill: #174EA6;\n    }\n\n    [theme=dark] .colab-df-convert {\n      background-color: #3B4455;\n      fill: #D2E3FC;\n    }\n\n    [theme=dark] .colab-df-convert:hover {\n      background-color: #434B5C;\n      box-shadow: 0px 1px 3px 1px rgba(0, 0, 0, 0.15);\n      filter: drop-shadow(0px 1px 2px rgba(0, 0, 0, 0.3));\n      fill: #FFFFFF;\n    }\n  </style>\n\n      <script>\n        const buttonEl =\n          document.querySelector('#df-2b3af03c-27ef-4543-8e91-920590dbeadd button.colab-df-convert');\n        buttonEl.style.display =\n          google.colab.kernel.accessAllowed ? 'block' : 'none';\n\n        async function convertToInteractive(key) {\n          const element = document.querySelector('#df-2b3af03c-27ef-4543-8e91-920590dbeadd');\n          const dataTable =\n            await google.colab.kernel.invokeFunction('convertToInteractive',\n                                                     [key], {});\n          if (!dataTable) return;\n\n          const docLinkHtml = 'Like what you see? Visit the ' +\n            '<a target=\"_blank\" href=https://colab.research.google.com/notebooks/data_table.ipynb>data table notebook</a>'\n            + ' to learn more about interactive tables.';\n          element.innerHTML = '';\n          dataTable['output_type'] = 'display_data';\n          await google.colab.output.renderOutput(dataTable, element);\n          const docLink = document.createElement('div');\n          docLink.innerHTML = docLinkHtml;\n          element.appendChild(docLink);\n        }\n      </script>\n    </div>\n  </div>\n  ",
                  "text/plain": "             PC1       PC2       PC3       PC4       PC5       PC6       PC7  \\\n0       1.512955  0.531165 -0.558414  0.037379  0.095728 -0.028075 -0.033240   \n1      -0.309697 -0.629726 -0.320951  0.024410  0.022276  0.022719 -0.018338   \n2       0.885967  0.050011  0.266067 -0.054861 -0.177084  0.174360  0.578531   \n3      -0.308571 -0.629810 -0.319401  0.024685  0.024791  0.022992 -0.016242   \n4       1.521896  0.530990 -0.549514  0.042019  0.114641 -0.026168 -0.022169   \n...          ...       ...       ...       ...       ...       ...       ...   \n838855 -0.728536  0.520194  0.030937 -0.180161  0.030813 -0.060100  0.013331   \n838856 -0.663034  0.386312  0.027503 -0.075132 -0.038251 -0.416596  0.091421   \n838857 -0.298143 -0.634876 -0.310431  0.030924  0.050143  0.029729  0.008649   \n838858 -0.663031  0.386307  0.027502 -0.075134 -0.038251 -0.416612  0.091426   \n838859 -0.231112 -0.200533 -0.002277 -0.065523 -0.211597 -0.150527 -0.107955   \n\n             PC8       PC9      PC10      PC11      PC12      PC13      PC14  \n0       0.059993  0.004110 -0.036152  0.000839 -0.010877 -0.012385 -0.001079  \n1      -0.027819 -0.020661 -0.014150 -0.000041 -0.003132  0.000481  0.000582  \n2      -0.388236  0.011112 -0.038688  0.001259  0.000589  0.021445  0.003434  \n3      -0.025476 -0.020002 -0.013151  0.000205 -0.008274 -0.006988 -0.000989  \n4       0.064357  0.005977 -0.033621  0.000601 -0.013309  0.001354  0.000362  \n...          ...       ...       ...       ...       ...       ...       ...  \n838855  0.020316 -0.015227 -0.001446 -0.009019 -0.003508  0.000834 -0.016386  \n838856  0.032161 -0.023725 -0.002492  0.012474 -0.005146  0.000202  0.011690  \n838857 -0.001590 -0.017936  0.000670 -0.000101  0.000607 -0.001004  0.000175  \n838858  0.032160 -0.023728 -0.002492  0.012503 -0.005141  0.000240  0.011352  \n838859 -0.032044  0.783707 -0.011667 -0.020889  0.007521  0.004832 -0.007844  \n\n[838860 rows x 14 columns]"
                },
                "metadata": {},
                "output_type": "display_data"
              }
            ]
          }
        },
        "e18fa699e6054b93a466e5e159dde633": {
          "model_module": "@jupyter-widgets/base",
          "model_module_version": "1.2.0",
          "model_name": "LayoutModel",
          "state": {
            "_model_module": "@jupyter-widgets/base",
            "_model_module_version": "1.2.0",
            "_model_name": "LayoutModel",
            "_view_count": null,
            "_view_module": "@jupyter-widgets/base",
            "_view_module_version": "1.2.0",
            "_view_name": "LayoutView",
            "align_content": null,
            "align_items": null,
            "align_self": null,
            "border": null,
            "bottom": null,
            "display": null,
            "flex": null,
            "flex_flow": null,
            "grid_area": null,
            "grid_auto_columns": null,
            "grid_auto_flow": null,
            "grid_auto_rows": null,
            "grid_column": null,
            "grid_gap": null,
            "grid_row": null,
            "grid_template_areas": null,
            "grid_template_columns": null,
            "grid_template_rows": null,
            "height": null,
            "justify_content": null,
            "justify_items": null,
            "left": null,
            "margin": null,
            "max_height": null,
            "max_width": null,
            "min_height": null,
            "min_width": null,
            "object_fit": null,
            "object_position": null,
            "order": null,
            "overflow": null,
            "overflow_x": null,
            "overflow_y": null,
            "padding": null,
            "right": null,
            "top": null,
            "visibility": null,
            "width": null
          }
        },
        "f14bcf465cf848cb9f143f157c7928d2": {
          "model_module": "@jupyter-widgets/controls",
          "model_module_version": "1.5.0",
          "model_name": "ButtonModel",
          "state": {
            "_dom_classes": [],
            "_model_module": "@jupyter-widgets/controls",
            "_model_module_version": "1.5.0",
            "_model_name": "ButtonModel",
            "_view_count": null,
            "_view_module": "@jupyter-widgets/controls",
            "_view_module_version": "1.5.0",
            "_view_name": "ButtonView",
            "button_style": "",
            "description": "Toggle Pandas/Lux",
            "disabled": false,
            "icon": "",
            "layout": "IPY_MODEL_80ec7f5f00d44cbea2dbdeca7a940318",
            "style": "IPY_MODEL_5094425b495e4e9f9be391fe0c46ed8a",
            "tooltip": ""
          }
        },
        "f17432c0b17b4da8a30489dbed7dbc93": {
          "model_module": "@jupyter-widgets/controls",
          "model_module_version": "1.5.0",
          "model_name": "ButtonStyleModel",
          "state": {
            "_model_module": "@jupyter-widgets/controls",
            "_model_module_version": "1.5.0",
            "_model_name": "ButtonStyleModel",
            "_view_count": null,
            "_view_module": "@jupyter-widgets/base",
            "_view_module_version": "1.2.0",
            "_view_name": "StyleView",
            "button_color": null,
            "font_weight": ""
          }
        },
        "fbf16ff78efc457ea779512bf8b4f687": {
          "model_module": "@jupyter-widgets/output",
          "model_module_version": "1.0.0",
          "model_name": "OutputModel",
          "state": {
            "_dom_classes": [],
            "_model_module": "@jupyter-widgets/output",
            "_model_module_version": "1.0.0",
            "_model_name": "OutputModel",
            "_view_count": null,
            "_view_module": "@jupyter-widgets/output",
            "_view_module_version": "1.0.0",
            "_view_name": "OutputView",
            "layout": "IPY_MODEL_a74aa6f9954144818ca82b504b72e726",
            "msg_id": "",
            "outputs": [
              {
                "data": {
                  "text/html": "\n  <div id=\"df-c795955e-48c4-4cff-868d-7a903efca2b3\">\n    <div class=\"colab-df-container\">\n      <div>\n<style scoped>\n    .dataframe tbody tr th:only-of-type {\n        vertical-align: middle;\n    }\n\n    .dataframe tbody tr th {\n        vertical-align: top;\n    }\n\n    .dataframe thead th {\n        text-align: right;\n    }\n</style>\n<table border=\"1\" class=\"dataframe\">\n  <thead>\n    <tr style=\"text-align: right;\">\n      <th></th>\n      <th>0</th>\n      <th>1</th>\n      <th>2</th>\n      <th>3</th>\n      <th>4</th>\n      <th>5</th>\n      <th>6</th>\n      <th>7</th>\n      <th>8</th>\n      <th>9</th>\n      <th>10</th>\n      <th>11</th>\n      <th>12</th>\n      <th>13</th>\n    </tr>\n  </thead>\n  <tbody>\n    <tr>\n      <th>0</th>\n      <td>1.512955</td>\n      <td>0.531165</td>\n      <td>-0.558414</td>\n      <td>0.037379</td>\n      <td>0.095728</td>\n      <td>-0.028075</td>\n      <td>-0.033240</td>\n      <td>0.059993</td>\n      <td>0.004110</td>\n      <td>-0.036152</td>\n      <td>0.000839</td>\n      <td>-0.010877</td>\n      <td>-0.012385</td>\n      <td>-0.001079</td>\n    </tr>\n    <tr>\n      <th>1</th>\n      <td>-0.309697</td>\n      <td>-0.629726</td>\n      <td>-0.320951</td>\n      <td>0.024410</td>\n      <td>0.022276</td>\n      <td>0.022719</td>\n      <td>-0.018338</td>\n      <td>-0.027819</td>\n      <td>-0.020661</td>\n      <td>-0.014150</td>\n      <td>-0.000041</td>\n      <td>-0.003132</td>\n      <td>0.000481</td>\n      <td>0.000582</td>\n    </tr>\n    <tr>\n      <th>2</th>\n      <td>0.885967</td>\n      <td>0.050011</td>\n      <td>0.266067</td>\n      <td>-0.054861</td>\n      <td>-0.177084</td>\n      <td>0.174360</td>\n      <td>0.578531</td>\n      <td>-0.388236</td>\n      <td>0.011112</td>\n      <td>-0.038688</td>\n      <td>0.001259</td>\n      <td>0.000589</td>\n      <td>0.021445</td>\n      <td>0.003434</td>\n    </tr>\n    <tr>\n      <th>3</th>\n      <td>-0.308571</td>\n      <td>-0.629810</td>\n      <td>-0.319401</td>\n      <td>0.024685</td>\n      <td>0.024791</td>\n      <td>0.022992</td>\n      <td>-0.016242</td>\n      <td>-0.025476</td>\n      <td>-0.020002</td>\n      <td>-0.013151</td>\n      <td>0.000205</td>\n      <td>-0.008274</td>\n      <td>-0.006988</td>\n      <td>-0.000989</td>\n    </tr>\n    <tr>\n      <th>4</th>\n      <td>1.521896</td>\n      <td>0.530990</td>\n      <td>-0.549514</td>\n      <td>0.042019</td>\n      <td>0.114641</td>\n      <td>-0.026168</td>\n      <td>-0.022169</td>\n      <td>0.064357</td>\n      <td>0.005977</td>\n      <td>-0.033621</td>\n      <td>0.000601</td>\n      <td>-0.013309</td>\n      <td>0.001354</td>\n      <td>0.000362</td>\n    </tr>\n    <tr>\n      <th>...</th>\n      <td>...</td>\n      <td>...</td>\n      <td>...</td>\n      <td>...</td>\n      <td>...</td>\n      <td>...</td>\n      <td>...</td>\n      <td>...</td>\n      <td>...</td>\n      <td>...</td>\n      <td>...</td>\n      <td>...</td>\n      <td>...</td>\n      <td>...</td>\n    </tr>\n    <tr>\n      <th>838855</th>\n      <td>-0.728536</td>\n      <td>0.520194</td>\n      <td>0.030937</td>\n      <td>-0.180161</td>\n      <td>0.030813</td>\n      <td>-0.060100</td>\n      <td>0.013331</td>\n      <td>0.020316</td>\n      <td>-0.015227</td>\n      <td>-0.001446</td>\n      <td>-0.009019</td>\n      <td>-0.003508</td>\n      <td>0.000834</td>\n      <td>-0.016386</td>\n    </tr>\n    <tr>\n      <th>838856</th>\n      <td>-0.663034</td>\n      <td>0.386312</td>\n      <td>0.027503</td>\n      <td>-0.075132</td>\n      <td>-0.038251</td>\n      <td>-0.416596</td>\n      <td>0.091421</td>\n      <td>0.032161</td>\n      <td>-0.023725</td>\n      <td>-0.002492</td>\n      <td>0.012474</td>\n      <td>-0.005146</td>\n      <td>0.000202</td>\n      <td>0.011690</td>\n    </tr>\n    <tr>\n      <th>838857</th>\n      <td>-0.298143</td>\n      <td>-0.634876</td>\n      <td>-0.310431</td>\n      <td>0.030924</td>\n      <td>0.050143</td>\n      <td>0.029729</td>\n      <td>0.008649</td>\n      <td>-0.001590</td>\n      <td>-0.017936</td>\n      <td>0.000670</td>\n      <td>-0.000101</td>\n      <td>0.000607</td>\n      <td>-0.001004</td>\n      <td>0.000175</td>\n    </tr>\n    <tr>\n      <th>838858</th>\n      <td>-0.663031</td>\n      <td>0.386307</td>\n      <td>0.027502</td>\n      <td>-0.075134</td>\n      <td>-0.038251</td>\n      <td>-0.416612</td>\n      <td>0.091426</td>\n      <td>0.032160</td>\n      <td>-0.023728</td>\n      <td>-0.002492</td>\n      <td>0.012503</td>\n      <td>-0.005141</td>\n      <td>0.000240</td>\n      <td>0.011352</td>\n    </tr>\n    <tr>\n      <th>838859</th>\n      <td>-0.231112</td>\n      <td>-0.200533</td>\n      <td>-0.002277</td>\n      <td>-0.065523</td>\n      <td>-0.211597</td>\n      <td>-0.150527</td>\n      <td>-0.107955</td>\n      <td>-0.032044</td>\n      <td>0.783707</td>\n      <td>-0.011667</td>\n      <td>-0.020889</td>\n      <td>0.007521</td>\n      <td>0.004832</td>\n      <td>-0.007844</td>\n    </tr>\n  </tbody>\n</table>\n<p>838860 rows × 14 columns</p>\n</div>\n      <button class=\"colab-df-convert\" onclick=\"convertToInteractive('df-c795955e-48c4-4cff-868d-7a903efca2b3')\"\n              title=\"Convert this dataframe to an interactive table.\"\n              style=\"display:none;\">\n        \n  <svg xmlns=\"http://www.w3.org/2000/svg\" height=\"24px\"viewBox=\"0 0 24 24\"\n       width=\"24px\">\n    <path d=\"M0 0h24v24H0V0z\" fill=\"none\"/>\n    <path d=\"M18.56 5.44l.94 2.06.94-2.06 2.06-.94-2.06-.94-.94-2.06-.94 2.06-2.06.94zm-11 1L8.5 8.5l.94-2.06 2.06-.94-2.06-.94L8.5 2.5l-.94 2.06-2.06.94zm10 10l.94 2.06.94-2.06 2.06-.94-2.06-.94-.94-2.06-.94 2.06-2.06.94z\"/><path d=\"M17.41 7.96l-1.37-1.37c-.4-.4-.92-.59-1.43-.59-.52 0-1.04.2-1.43.59L10.3 9.45l-7.72 7.72c-.78.78-.78 2.05 0 2.83L4 21.41c.39.39.9.59 1.41.59.51 0 1.02-.2 1.41-.59l7.78-7.78 2.81-2.81c.8-.78.8-2.07 0-2.86zM5.41 20L4 18.59l7.72-7.72 1.47 1.35L5.41 20z\"/>\n  </svg>\n      </button>\n      \n  <style>\n    .colab-df-container {\n      display:flex;\n      flex-wrap:wrap;\n      gap: 12px;\n    }\n\n    .colab-df-convert {\n      background-color: #E8F0FE;\n      border: none;\n      border-radius: 50%;\n      cursor: pointer;\n      display: none;\n      fill: #1967D2;\n      height: 32px;\n      padding: 0 0 0 0;\n      width: 32px;\n    }\n\n    .colab-df-convert:hover {\n      background-color: #E2EBFA;\n      box-shadow: 0px 1px 2px rgba(60, 64, 67, 0.3), 0px 1px 3px 1px rgba(60, 64, 67, 0.15);\n      fill: #174EA6;\n    }\n\n    [theme=dark] .colab-df-convert {\n      background-color: #3B4455;\n      fill: #D2E3FC;\n    }\n\n    [theme=dark] .colab-df-convert:hover {\n      background-color: #434B5C;\n      box-shadow: 0px 1px 3px 1px rgba(0, 0, 0, 0.15);\n      filter: drop-shadow(0px 1px 2px rgba(0, 0, 0, 0.3));\n      fill: #FFFFFF;\n    }\n  </style>\n\n      <script>\n        const buttonEl =\n          document.querySelector('#df-c795955e-48c4-4cff-868d-7a903efca2b3 button.colab-df-convert');\n        buttonEl.style.display =\n          google.colab.kernel.accessAllowed ? 'block' : 'none';\n\n        async function convertToInteractive(key) {\n          const element = document.querySelector('#df-c795955e-48c4-4cff-868d-7a903efca2b3');\n          const dataTable =\n            await google.colab.kernel.invokeFunction('convertToInteractive',\n                                                     [key], {});\n          if (!dataTable) return;\n\n          const docLinkHtml = 'Like what you see? Visit the ' +\n            '<a target=\"_blank\" href=https://colab.research.google.com/notebooks/data_table.ipynb>data table notebook</a>'\n            + ' to learn more about interactive tables.';\n          element.innerHTML = '';\n          dataTable['output_type'] = 'display_data';\n          await google.colab.output.renderOutput(dataTable, element);\n          const docLink = document.createElement('div');\n          docLink.innerHTML = docLinkHtml;\n          element.appendChild(docLink);\n        }\n      </script>\n    </div>\n  </div>\n  ",
                  "text/plain": "              0         1         2         3         4         5         6   \\\n0       1.512955  0.531165 -0.558414  0.037379  0.095728 -0.028075 -0.033240   \n1      -0.309697 -0.629726 -0.320951  0.024410  0.022276  0.022719 -0.018338   \n2       0.885967  0.050011  0.266067 -0.054861 -0.177084  0.174360  0.578531   \n3      -0.308571 -0.629810 -0.319401  0.024685  0.024791  0.022992 -0.016242   \n4       1.521896  0.530990 -0.549514  0.042019  0.114641 -0.026168 -0.022169   \n...          ...       ...       ...       ...       ...       ...       ...   \n838855 -0.728536  0.520194  0.030937 -0.180161  0.030813 -0.060100  0.013331   \n838856 -0.663034  0.386312  0.027503 -0.075132 -0.038251 -0.416596  0.091421   \n838857 -0.298143 -0.634876 -0.310431  0.030924  0.050143  0.029729  0.008649   \n838858 -0.663031  0.386307  0.027502 -0.075134 -0.038251 -0.416612  0.091426   \n838859 -0.231112 -0.200533 -0.002277 -0.065523 -0.211597 -0.150527 -0.107955   \n\n              7         8         9         10        11        12        13  \n0       0.059993  0.004110 -0.036152  0.000839 -0.010877 -0.012385 -0.001079  \n1      -0.027819 -0.020661 -0.014150 -0.000041 -0.003132  0.000481  0.000582  \n2      -0.388236  0.011112 -0.038688  0.001259  0.000589  0.021445  0.003434  \n3      -0.025476 -0.020002 -0.013151  0.000205 -0.008274 -0.006988 -0.000989  \n4       0.064357  0.005977 -0.033621  0.000601 -0.013309  0.001354  0.000362  \n...          ...       ...       ...       ...       ...       ...       ...  \n838855  0.020316 -0.015227 -0.001446 -0.009019 -0.003508  0.000834 -0.016386  \n838856  0.032161 -0.023725 -0.002492  0.012474 -0.005146  0.000202  0.011690  \n838857 -0.001590 -0.017936  0.000670 -0.000101  0.000607 -0.001004  0.000175  \n838858  0.032160 -0.023728 -0.002492  0.012503 -0.005141  0.000240  0.011352  \n838859 -0.032044  0.783707 -0.011667 -0.020889  0.007521  0.004832 -0.007844  \n\n[838860 rows x 14 columns]"
                },
                "metadata": {},
                "output_type": "display_data"
              }
            ]
          }
        }
      }
    }
  },
  "nbformat": 4,
  "nbformat_minor": 0
}